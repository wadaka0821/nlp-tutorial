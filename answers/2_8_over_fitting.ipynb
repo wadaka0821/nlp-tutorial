{
  "nbformat": 4,
  "nbformat_minor": 0,
  "metadata": {
    "colab": {
      "provenance": [],
      "toc_visible": true,
      "authorship_tag": "ABX9TyNUVdVEAUdY56JS3T13g9Ut",
      "include_colab_link": true
    },
    "kernelspec": {
      "name": "python3",
      "display_name": "Python 3"
    },
    "language_info": {
      "name": "python"
    }
  },
  "cells": [
    {
      "cell_type": "markdown",
      "metadata": {
        "id": "view-in-github",
        "colab_type": "text"
      },
      "source": [
        "<a href=\"https://colab.research.google.com/github/wadaka0821/nlp-tutorial/blob/main/answers/2_8_over_fitting.ipynb\" target=\"_parent\"><img src=\"https://colab.research.google.com/assets/colab-badge.svg\" alt=\"Open In Colab\"/></a>"
      ]
    },
    {
      "cell_type": "markdown",
      "source": [
        "# 過学習の抑制（正則化）\n",
        "\n",
        "作成者：和田  \n",
        "最終更新日：2023/03/26\n",
        " \n",
        "更新履歴  \n",
        "2023/02/25 : 初版作成  \n",
        "2023/03/26 : [L1正則化を用いた過学習の抑制(問題の解答例)の追加](#L1正則化を使用して過学習を抑制する)"
      ],
      "metadata": {
        "id": "68j2NaiHc3wC"
      }
    },
    {
      "cell_type": "code",
      "execution_count": 1,
      "metadata": {
        "id": "v2KyVmjCcx0t"
      },
      "outputs": [],
      "source": [
        "import torch\n",
        "import matplotlib.pyplot as plt\n",
        "import seaborn as sns\n",
        "import tqdm"
      ]
    },
    {
      "cell_type": "code",
      "source": [
        "seed = 42\n",
        "# Pytorchのシード値を固定\n",
        "# 必要に応じてpythonやnumpyなどのシード値も固定する必要があります（再現性を持たせたい場合）\n",
        "torch.manual_seed(seed)\n",
        "torch.cuda.manual_seed(seed)\n",
        "torch.backends.cudnn.deterministic = True\n",
        "torch.use_deterministic_algorithms = True\n",
        "\n",
        "device = 'cuda' if torch.cuda.is_available() else 'cpu'"
      ],
      "metadata": {
        "id": "-Tyvzr1zdO19"
      },
      "execution_count": 2,
      "outputs": []
    },
    {
      "cell_type": "code",
      "source": [
        "# 使用可能なデバイスの確認\n",
        "f'{device=}'"
      ],
      "metadata": {
        "colab": {
          "base_uri": "https://localhost:8080/",
          "height": 36
        },
        "id": "E6_dcYhJdVTq",
        "outputId": "b2f9dd01-d068-47cc-bd2c-893209d3f1ff"
      },
      "execution_count": 3,
      "outputs": [
        {
          "output_type": "execute_result",
          "data": {
            "text/plain": [
              "\"device='cpu'\""
            ],
            "application/vnd.google.colaboratory.intrinsic+json": {
              "type": "string"
            }
          },
          "metadata": {},
          "execution_count": 3
        }
      ]
    },
    {
      "cell_type": "markdown",
      "source": [
        "以下の関数を学習させます\n",
        "\\begin{equation}\n",
        "  y = sin(x)\n",
        "\\end{equation}"
      ],
      "metadata": {
        "id": "sEJbcSeHdXZ6"
      }
    },
    {
      "cell_type": "markdown",
      "source": [
        "# 学習データの作成と確認"
      ],
      "metadata": {
        "id": "gfM0PTtQqveX"
      }
    },
    {
      "cell_type": "code",
      "source": [
        "train_data_num = 5\n",
        "x = torch.empty((train_data_num, 1))\n",
        "x = torch.Tensor.uniform_(x, 0, 2*torch.pi)\n",
        "\n",
        "y = torch.sin(x.view(-1))"
      ],
      "metadata": {
        "id": "KVtOrpIudVtd"
      },
      "execution_count": 4,
      "outputs": []
    },
    {
      "cell_type": "code",
      "source": [
        "sns.scatterplot(x=x.view(-1), y=y).set(title='sin(x)', xlabel='x', ylabel='y')"
      ],
      "metadata": {
        "colab": {
          "base_uri": "https://localhost:8080/",
          "height": 313
        },
        "id": "u2Hodkxlem9k",
        "outputId": "043ae7b2-6dc1-4b12-afa3-ac03ab62591c"
      },
      "execution_count": 5,
      "outputs": [
        {
          "output_type": "execute_result",
          "data": {
            "text/plain": [
              "[Text(0.5, 1.0, 'sin(x)'), Text(0.5, 0, 'x'), Text(0, 0.5, 'y')]"
            ]
          },
          "metadata": {},
          "execution_count": 5
        },
        {
          "output_type": "display_data",
          "data": {
            "text/plain": [
              "<Figure size 432x288 with 1 Axes>"
            ],
            "image/png": "[encoded data removed]"
          },
          "metadata": {
            "needs_background": "light"
          }
        }
      ]
    },
    {
      "cell_type": "markdown",
      "source": [
        "# モデルの定義"
      ],
      "metadata": {
        "id": "lCQmZDdYgnIC"
      }
    },
    {
      "cell_type": "code",
      "source": [
        "class SimpleNN(torch.nn.Module):\n",
        "  def __init__(self, in_dim=2, hidden_dim=2, out_dim=2):\n",
        "    super(SimpleNN, self).__init__()\n",
        "\n",
        "    self.hidden_layer1 = torch.nn.Linear(in_features=in_dim, out_features=hidden_dim)\n",
        "    self.hidden_layer2 = torch.nn.Linear(in_features=hidden_dim, out_features=hidden_dim)\n",
        "    self.hidden_layer3 = torch.nn.Linear(in_features=hidden_dim, out_features=hidden_dim)\n",
        "    self.output_layer = torch.nn.Linear(in_features=hidden_dim, out_features=out_dim)\n",
        "\n",
        "  def forward(self, x):\n",
        "    h = torch.tanh(self.hidden_layer1(x))\n",
        "    h = torch.tanh(self.hidden_layer2(h))\n",
        "    h = torch.tanh(self.hidden_layer3(h))\n",
        "    o = self.output_layer(h)\n",
        "\n",
        "    return o"
      ],
      "metadata": {
        "id": "qQWuE5EqenaN"
      },
      "execution_count": 6,
      "outputs": []
    },
    {
      "cell_type": "markdown",
      "source": [
        "# 学習（正則化なし）"
      ],
      "metadata": {
        "id": "S3xvLzwwgtZf"
      }
    },
    {
      "cell_type": "code",
      "source": [
        "MAX_EPOCH = 10000\n",
        "lr = 1e-2\n",
        "\n",
        "model = SimpleNN(in_dim=1, hidden_dim=50, out_dim=1)\n",
        "model.to(device)\n",
        "\n",
        "optimizer = torch.optim.Adam(model.parameters(), lr)\n",
        "\n",
        "show_progress = False\n",
        "for epoch in tqdm.tqdm(range(1, MAX_EPOCH+1)):\n",
        "  optimizer.zero_grad(set_to_none=True)\n",
        "  y_pred = model(x).view(-1)\n",
        "\n",
        "  loss = torch.mean((y - y_pred)**2)\n",
        "  loss.backward()\n",
        "\n",
        "  optimizer.step()\n",
        "\n",
        "  if show_progress:\n",
        "    print(f'epoch : {epoch} | loss : {loss.item():.5f}')\n"
      ],
      "metadata": {
        "colab": {
          "base_uri": "https://localhost:8080/"
        },
        "id": "QKwn3WLcgpxY",
        "outputId": "0836e2ae-b414-4ba0-b739-49b872adefaa"
      },
      "execution_count": 7,
      "outputs": [
        {
          "output_type": "stream",
          "name": "stderr",
          "text": [
            "100%|██████████| 10000/10000 [00:16<00:00, 589.42it/s]\n"
          ]
        }
      ]
    },
    {
      "cell_type": "markdown",
      "source": [
        " # 学習されたモデル"
      ],
      "metadata": {
        "id": "wwhgGZdmh-6m"
      }
    },
    {
      "cell_type": "code",
      "source": [
        "n_sample = 500\n",
        "sample_x = torch.empty((n_sample, 1))\n",
        "sample_x = torch.Tensor.uniform_(sample_x, 0, 2*torch.pi)\n",
        "\n",
        "with torch.no_grad():\n",
        "  pred = model(sample_x).view(-1)\n",
        "\n",
        "sns.scatterplot(x=sample_x.view(-1), y=pred)\n",
        "sns.scatterplot(x=x.view(-1), y=y)"
      ],
      "metadata": {
        "colab": {
          "base_uri": "https://localhost:8080/",
          "height": 283
        },
        "id": "FPJsHXSyheiC",
        "outputId": "9e8bb888-5146-4d23-fafd-488297ad0ba7"
      },
      "execution_count": 8,
      "outputs": [
        {
          "output_type": "execute_result",
          "data": {
            "text/plain": [
              "<Axes: >"
            ]
          },
          "metadata": {},
          "execution_count": 8
        },
        {
          "output_type": "display_data",
          "data": {
            "text/plain": [
              "<Figure size 432x288 with 1 Axes>"
            ],
            "image/png": "[encoded data removed]"
          },
          "metadata": {
            "needs_background": "light"
          }
        }
      ]
    },
    {
      "cell_type": "markdown",
      "source": [
        "# 学習（正則化あり）"
      ],
      "metadata": {
        "id": "WwaDqKD7oAvD"
      }
    },
    {
      "cell_type": "code",
      "source": [
        "MAX_EPOCH = 10000\n",
        "lr = 1e-2\n",
        "alpha = 0.001\n",
        "\n",
        "model = SimpleNN(in_dim=1, hidden_dim=50, out_dim=1)\n",
        "model.to(device)\n",
        "\n",
        "optimizer = torch.optim.Adam(model.parameters(), lr)\n",
        "\n",
        "show_progress = False\n",
        "for epoch in tqdm.tqdm(range(1, MAX_EPOCH+1)):\n",
        "  optimizer.zero_grad(set_to_none=True)\n",
        "  y_pred = model(x).view(-1)\n",
        "\n",
        "  loss = torch.mean((y - y_pred)**2)\n",
        "  for param in model.parameters():\n",
        "    loss += alpha*(torch.linalg.norm(param)**2)\n",
        "  loss.backward()\n",
        "\n",
        "  optimizer.step()\n",
        "\n",
        "  if show_progress:\n",
        "    print(f'epoch : {epoch} | loss : {loss.item():.5f}')"
      ],
      "metadata": {
        "colab": {
          "base_uri": "https://localhost:8080/"
        },
        "id": "L-0GIx3Hnk8w",
        "outputId": "d099ca6a-f6b2-40cb-f53b-c57ab672c9c7"
      },
      "execution_count": 9,
      "outputs": [
        {
          "output_type": "stream",
          "name": "stderr",
          "text": [
            "100%|██████████| 10000/10000 [00:16<00:00, 591.00it/s]\n"
          ]
        }
      ]
    },
    {
      "cell_type": "code",
      "source": [
        "n_sample = 500\n",
        "sample_x = torch.empty((n_sample, 1))\n",
        "sample_x = torch.Tensor.uniform_(sample_x, 0, 2*torch.pi)\n",
        "\n",
        "with torch.no_grad():\n",
        "  pred = model(sample_x).view(-1)\n",
        "\n",
        "sns.scatterplot(x=sample_x.view(-1), y=pred)\n",
        "sns.scatterplot(x=x.view(-1), y=y)"
      ],
      "metadata": {
        "colab": {
          "base_uri": "https://localhost:8080/",
          "height": 283
        },
        "id": "r-uuAxSio01v",
        "outputId": "358ef90d-3b4b-4e70-e16d-5a8b63034905"
      },
      "execution_count": 10,
      "outputs": [
        {
          "output_type": "execute_result",
          "data": {
            "text/plain": [
              "<Axes: >"
            ]
          },
          "metadata": {},
          "execution_count": 10
        },
        {
          "output_type": "display_data",
          "data": {
            "text/plain": [
              "<Figure size 432x288 with 1 Axes>"
            ],
            "image/png": "[encoded data removed]"
          },
          "metadata": {
            "needs_background": "light"
          }
        }
      ]
    },
    {
      "cell_type": "code",
      "source": [],
      "metadata": {
        "id": "ND7S1aYRprWT"
      },
      "execution_count": 10,
      "outputs": []
    },
    {
      "cell_type": "markdown",
      "source": [
        "# L1正則化を使用して過学習を抑制する"
      ],
      "metadata": {
        "id": "Kk6WG5LUEldC"
      }
    },
    {
      "cell_type": "code",
      "source": [
        "MAX_EPOCH = 10000\n",
        "lr = 1e-2\n",
        "alpha = 0.002\n",
        "\n",
        "model = SimpleNN(in_dim=1, hidden_dim=50, out_dim=1)\n",
        "model.to(device)\n",
        "\n",
        "optimizer = torch.optim.Adam(model.parameters(), lr)\n",
        "\n",
        "show_progress = False\n",
        "for epoch in tqdm.tqdm(range(1, MAX_EPOCH+1)):\n",
        "  optimizer.zero_grad(set_to_none=True)\n",
        "  y_pred = model(x).view(-1)\n",
        "\n",
        "  loss = torch.mean((y - y_pred)**2)\n",
        "  for param in model.parameters():\n",
        "    loss += alpha*(torch.linalg.norm(param))\n",
        "  loss.backward()\n",
        "\n",
        "  optimizer.step()\n",
        "\n",
        "  if show_progress:\n",
        "    print(f'epoch : {epoch} | loss : {loss.item():.5f}')"
      ],
      "metadata": {
        "colab": {
          "base_uri": "https://localhost:8080/"
        },
        "id": "vW6EwtunE1RR",
        "outputId": "16c44b92-1c80-4d38-a0d1-12b1059be260"
      },
      "execution_count": 11,
      "outputs": [
        {
          "output_type": "stream",
          "name": "stderr",
          "text": [
            "100%|██████████| 10000/10000 [00:14<00:00, 673.28it/s]\n"
          ]
        }
      ]
    },
    {
      "cell_type": "code",
      "source": [
        "n_sample = 500\n",
        "sample_x = torch.empty((n_sample, 1))\n",
        "sample_x = torch.Tensor.uniform_(sample_x, 0, 2*torch.pi)\n",
        "\n",
        "with torch.no_grad():\n",
        "  pred = model(sample_x).view(-1)\n",
        "\n",
        "sns.scatterplot(x=sample_x.view(-1), y=pred)\n",
        "sns.scatterplot(x=x.view(-1), y=y)"
      ],
      "metadata": {
        "colab": {
          "base_uri": "https://localhost:8080/",
          "height": 284
        },
        "id": "aqgA0dOxGqep",
        "outputId": "ce4b4493-dda3-4b82-cbd4-f5db82fc5c6e"
      },
      "execution_count": 12,
      "outputs": [
        {
          "output_type": "execute_result",
          "data": {
            "text/plain": [
              "<Axes: >"
            ]
          },
          "metadata": {},
          "execution_count": 12
        },
        {
          "output_type": "display_data",
          "data": {
            "text/plain": [
              "<Figure size 432x288 with 1 Axes>"
            ],
            "image/png": "[encoded data removed]"
          },
          "metadata": {
            "needs_background": "light"
          }
        }
      ]
    },
    {
      "cell_type": "code",
      "source": [],
      "metadata": {
        "id": "QGJQEpAoG0Tb"
      },
      "execution_count": 12,
      "outputs": []
    }
  ]
}