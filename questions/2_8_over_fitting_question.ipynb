{
  "nbformat": 4,
  "nbformat_minor": 0,
  "metadata": {
    "colab": {
      "provenance": [],
      "authorship_tag": "ABX9TyPCIftPofwFJGHIQUxJ0Eey",
      "include_colab_link": true
    },
    "kernelspec": {
      "name": "python3",
      "display_name": "Python 3"
    },
    "language_info": {
      "name": "python"
    }
  },
  "cells": [
    {
      "cell_type": "markdown",
      "metadata": {
        "id": "view-in-github",
        "colab_type": "text"
      },
      "source": [
        "<a href=\"https://colab.research.google.com/github/wadaka0821/nlp-tutorial/blob/main/questions/2_8_over_fitting_question.ipynb\" target=\"_parent\"><img src=\"https://colab.research.google.com/assets/colab-badge.svg\" alt=\"Open In Colab\"/></a>"
      ]
    },
    {
      "cell_type": "markdown",
      "source": [
        "# 過学習の抑制（正則化）\n",
        "\n",
        "作成者：和田  \n",
        "最終更新日：2023/02/25"
      ],
      "metadata": {
        "id": "68j2NaiHc3wC"
      }
    },
    {
      "cell_type": "code",
      "execution_count": null,
      "metadata": {
        "id": "v2KyVmjCcx0t"
      },
      "outputs": [],
      "source": [
        "import torch\n",
        "import matplotlib.pyplot as plt\n",
        "import seaborn as sns\n",
        "import tqdm"
      ]
    },
    {
      "cell_type": "code",
      "source": [
        "seed = 42\n",
        "# Pytorchのシード値を固定\n",
        "# 必要に応じてpythonやnumpyなどのシード値も固定する必要があります（再現性を持たせたい場合）\n",
        "torch.manual_seed(seed)\n",
        "torch.cuda.manual_seed(seed)\n",
        "torch.backends.cudnn.deterministic = True\n",
        "torch.use_deterministic_algorithms = True\n",
        "\n",
        "device = 'cuda' if torch.cuda.is_available() else 'cpu'"
      ],
      "metadata": {
        "id": "-Tyvzr1zdO19"
      },
      "execution_count": null,
      "outputs": []
    },
    {
      "cell_type": "code",
      "source": [
        "# 使用可能なデバイスの確認\n",
        "f'{device=}'"
      ],
      "metadata": {
        "colab": {
          "base_uri": "https://localhost:8080/",
          "height": 36
        },
        "id": "E6_dcYhJdVTq",
        "outputId": "22782c87-a8e8-4dc9-cdfe-8f65e01595aa"
      },
      "execution_count": null,
      "outputs": [
        {
          "output_type": "execute_result",
          "data": {
            "text/plain": [
              "\"device='cpu'\""
            ],
            "application/vnd.google.colaboratory.intrinsic+json": {
              "type": "string"
            }
          },
          "metadata": {},
          "execution_count": 3
        }
      ]
    },
    {
      "cell_type": "markdown",
      "source": [
        "以下の関数を学習させます\n",
        "\\begin{equation}\n",
        "  y = sin(x)\n",
        "\\end{equation}"
      ],
      "metadata": {
        "id": "sEJbcSeHdXZ6"
      }
    },
    {
      "cell_type": "markdown",
      "source": [
        "# 学習データの作成と確認"
      ],
      "metadata": {
        "id": "gfM0PTtQqveX"
      }
    },
    {
      "cell_type": "code",
      "source": [
        "train_data_num = 5\n",
        "x = torch.empty((train_data_num, 1))\n",
        "x = torch.Tensor.uniform_(x, 0, 2*torch.pi)\n",
        "\n",
        "y = torch.sin(x.view(-1))"
      ],
      "metadata": {
        "id": "KVtOrpIudVtd"
      },
      "execution_count": null,
      "outputs": []
    },
    {
      "cell_type": "code",
      "source": [
        "sns.scatterplot(x=x.view(-1), y=y).set(title='sin(x)', xlabel='x', ylabel='y')"
      ],
      "metadata": {
        "colab": {
          "base_uri": "https://localhost:8080/",
          "height": 313
        },
        "id": "u2Hodkxlem9k",
        "outputId": "0583456f-b455-4da9-b4f4-dda12e47abaf"
      },
      "execution_count": null,
      "outputs": [
        {
          "output_type": "execute_result",
          "data": {
            "text/plain": [
              "[Text(0.5, 1.0, 'sin(x)'), Text(0.5, 0, 'x'), Text(0, 0.5, 'y')]"
            ]
          },
          "metadata": {},
          "execution_count": 5
        },
        {
          "output_type": "display_data",
          "data": {
            "text/plain": [
              "<Figure size 432x288 with 1 Axes>"
            ],
            "image/png": "[encoded data removed]"
          },
          "metadata": {
            "needs_background": "light"
          }
        }
      ]
    },
    {
      "cell_type": "markdown",
      "source": [
        "# モデルの定義"
      ],
      "metadata": {
        "id": "lCQmZDdYgnIC"
      }
    },
    {
      "cell_type": "code",
      "source": [
        "class SimpleNN(torch.nn.Module):\n",
        "  def __init__(self, in_dim=2, hidden_dim=2, out_dim=2):\n",
        "    super(SimpleNN, self).__init__()\n",
        "\n",
        "    self.hidden_layer1 = torch.nn.Linear(in_features=in_dim, out_features=hidden_dim)\n",
        "    self.hidden_layer2 = torch.nn.Linear(in_features=hidden_dim, out_features=hidden_dim)\n",
        "    self.hidden_layer3 = torch.nn.Linear(in_features=hidden_dim, out_features=hidden_dim)\n",
        "    self.output_layer = torch.nn.Linear(in_features=hidden_dim, out_features=out_dim)\n",
        "\n",
        "  def forward(self, x):\n",
        "    h = torch.tanh(self.hidden_layer1(x))\n",
        "    h = torch.tanh(self.hidden_layer2(h))\n",
        "    h = torch.tanh(self.hidden_layer3(h))\n",
        "    o = self.output_layer(h)\n",
        "\n",
        "    return o"
      ],
      "metadata": {
        "id": "qQWuE5EqenaN"
      },
      "execution_count": null,
      "outputs": []
    },
    {
      "cell_type": "markdown",
      "source": [
        "# 学習（正則化なし）"
      ],
      "metadata": {
        "id": "S3xvLzwwgtZf"
      }
    },
    {
      "cell_type": "code",
      "source": [
        "MAX_EPOCH = 10000\n",
        "lr = 1e-2\n",
        "\n",
        "model = SimpleNN(in_dim=1, hidden_dim=50, out_dim=1)\n",
        "model.to(device)\n",
        "\n",
        "optimizer = torch.optim.Adam(model.parameters(), lr)\n",
        "\n",
        "show_progress = False\n",
        "for epoch in tqdm.tqdm(range(1, MAX_EPOCH+1)):\n",
        "  optimizer.zero_grad(set_to_none=True)\n",
        "  y_pred = model(x).view(-1)\n",
        "\n",
        "  loss = torch.mean((y - y_pred)**2)\n",
        "  loss.backward()\n",
        "\n",
        "  optimizer.step()\n",
        "\n",
        "  if show_progress:\n",
        "    print(f'epoch : {epoch} | loss : {loss.item():.5f}')\n"
      ],
      "metadata": {
        "colab": {
          "base_uri": "https://localhost:8080/"
        },
        "id": "QKwn3WLcgpxY",
        "outputId": "6dbe1e23-22e9-4b8b-971b-232ce646d0f4"
      },
      "execution_count": null,
      "outputs": [
        {
          "output_type": "stream",
          "name": "stderr",
          "text": [
            "100%|██████████| 10000/10000 [00:31<00:00, 313.29it/s]\n"
          ]
        }
      ]
    },
    {
      "cell_type": "markdown",
      "source": [
        "## 問題1\n",
        "---\n",
        "↑の学習のコードでの損失を計算している部分について，\n",
        "```python\n",
        "loss = torch.mean((y - y_pred)**2)\n",
        "```\n",
        "この式で計算している損失は何と呼ばれる損失ですか？"
      ],
      "metadata": {
        "id": "Jz3xJZvbkZ7g"
      }
    },
    {
      "cell_type": "markdown",
      "source": [
        " # 学習されたモデル"
      ],
      "metadata": {
        "id": "wwhgGZdmh-6m"
      }
    },
    {
      "cell_type": "code",
      "source": [
        "n_sample = 500\n",
        "sample_x = torch.empty((n_sample, 1))\n",
        "sample_x = torch.Tensor.uniform_(sample_x, 0, 2*torch.pi)\n",
        "\n",
        "with torch.no_grad():\n",
        "  pred = model(sample_x).view(-1)\n",
        "\n",
        "sns.scatterplot(x=sample_x.view(-1), y=pred)\n",
        "sns.scatterplot(x=x.view(-1), y=y)"
      ],
      "metadata": {
        "colab": {
          "base_uri": "https://localhost:8080/",
          "height": 283
        },
        "id": "FPJsHXSyheiC",
        "outputId": "bb36782a-4b98-43d8-f661-d594429ae656"
      },
      "execution_count": null,
      "outputs": [
        {
          "output_type": "execute_result",
          "data": {
            "text/plain": [
              "<AxesSubplot:>"
            ]
          },
          "metadata": {},
          "execution_count": 8
        },
        {
          "output_type": "display_data",
          "data": {
            "text/plain": [
              "<Figure size 432x288 with 1 Axes>"
            ],
            "image/png": "[encoded data removed]"
          },
          "metadata": {
            "needs_background": "light"
          }
        }
      ]
    },
    {
      "cell_type": "markdown",
      "source": [
        "# 学習（正則化あり）"
      ],
      "metadata": {
        "id": "WwaDqKD7oAvD"
      }
    },
    {
      "cell_type": "code",
      "source": [
        "MAX_EPOCH = 10000\n",
        "lr = 1e-2\n",
        "alpha = 0.001\n",
        "\n",
        "model = SimpleNN(in_dim=1, hidden_dim=50, out_dim=1)\n",
        "model.to(device)\n",
        "\n",
        "optimizer = torch.optim.Adam(model.parameters(), lr)\n",
        "\n",
        "show_progress = False\n",
        "for epoch in tqdm.tqdm(range(1, MAX_EPOCH+1)):\n",
        "  optimizer.zero_grad(set_to_none=True)\n",
        "  y_pred = model(x).view(-1)\n",
        "\n",
        "  loss = torch.mean((y - y_pred)**2)\n",
        "  for param in model.parameters():\n",
        "    loss += alpha*(torch.linalg.norm(param)**2)\n",
        "  loss.backward()\n",
        "\n",
        "  optimizer.step()\n",
        "\n",
        "  if show_progress:\n",
        "    print(f'epoch : {epoch} | loss : {loss.item():.5f}')"
      ],
      "metadata": {
        "colab": {
          "base_uri": "https://localhost:8080/"
        },
        "id": "L-0GIx3Hnk8w",
        "outputId": "a5198dcb-3387-49fb-85a4-b6c9513581d6"
      },
      "execution_count": null,
      "outputs": [
        {
          "output_type": "stream",
          "name": "stderr",
          "text": [
            "100%|██████████| 10000/10000 [00:24<00:00, 400.46it/s]\n"
          ]
        }
      ]
    },
    {
      "cell_type": "code",
      "source": [
        "n_sample = 500\n",
        "sample_x = torch.empty((n_sample, 1))\n",
        "sample_x = torch.Tensor.uniform_(sample_x, 0, 2*torch.pi)\n",
        "\n",
        "with torch.no_grad():\n",
        "  pred = model(sample_x).view(-1)\n",
        "\n",
        "sns.scatterplot(x=sample_x.view(-1), y=pred)\n",
        "sns.scatterplot(x=x.view(-1), y=y)"
      ],
      "metadata": {
        "colab": {
          "base_uri": "https://localhost:8080/",
          "height": 283
        },
        "id": "r-uuAxSio01v",
        "outputId": "9d2ddaa8-8a91-419e-f063-8f43507f7448"
      },
      "execution_count": null,
      "outputs": [
        {
          "output_type": "execute_result",
          "data": {
            "text/plain": [
              "<AxesSubplot:>"
            ]
          },
          "metadata": {},
          "execution_count": 10
        },
        {
          "output_type": "display_data",
          "data": {
            "text/plain": [
              "<Figure size 432x288 with 1 Axes>"
            ],
            "image/png": "[encoded data removed]"
          },
          "metadata": {
            "needs_background": "light"
          }
        }
      ]
    },
    {
      "cell_type": "markdown",
      "source": [
        "## 問題2\n",
        "---\n",
        "1. 今回は L2 Loss を使用して過学習の抑制を行いました．ほかにも過学習の抑制方法は存在します．いくつかの過学習の抑制方法について調べてください．\n",
        "1. (出来たらでOK)上で調べた過学習の抑制方法によってモデルの学習(モデル自体の構造を変更してもOK)を行ってください"
      ],
      "metadata": {
        "id": "K3_n7h9BjVpu"
      }
    },
    {
      "cell_type": "code",
      "source": [],
      "metadata": {
        "id": "ND7S1aYRprWT"
      },
      "execution_count": null,
      "outputs": []
    }
  ]
}