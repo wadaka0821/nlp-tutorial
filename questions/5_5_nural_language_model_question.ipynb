{
  "nbformat": 4,
  "nbformat_minor": 0,
  "metadata": {
    "colab": {
      "provenance": [],
      "authorship_tag": "ABX9TyMto57mSdEGhB8qAvQkxPxh",
      "include_colab_link": true
    },
    "kernelspec": {
      "name": "python3",
      "display_name": "Python 3"
    },
    "language_info": {
      "name": "python"
    },
    "accelerator": "GPU",
    "gpuClass": "standard",
    "widgets": {
      "application/vnd.jupyter.widget-state+json": {
        "fef856ba1d6f4a3f8f047ebcf0b733d4": {
          "model_module": "@jupyter-widgets/controls",
          "model_name": "HBoxModel",
          "model_module_version": "1.5.0",
          "state": {
            "_dom_classes": [],
            "_model_module": "@jupyter-widgets/controls",
            "_model_module_version": "1.5.0",
            "_model_name": "HBoxModel",
            "_view_count": null,
            "_view_module": "@jupyter-widgets/controls",
            "_view_module_version": "1.5.0",
            "_view_name": "HBoxView",
            "box_style": "",
            "children": [
              "IPY_MODEL_5442092971244fee848d8a38bfdb49f1",
              "IPY_MODEL_e3bfcbdb84b548dc90a1c6b86b2c2cd6",
              "IPY_MODEL_b395fdea4efa47058f0694e2ccdd2190"
            ],
            "layout": "IPY_MODEL_e4b82ca7135e417286484cac3b340c6d"
          }
        },
        "5442092971244fee848d8a38bfdb49f1": {
          "model_module": "@jupyter-widgets/controls",
          "model_name": "HTMLModel",
          "model_module_version": "1.5.0",
          "state": {
            "_dom_classes": [],
            "_model_module": "@jupyter-widgets/controls",
            "_model_module_version": "1.5.0",
            "_model_name": "HTMLModel",
            "_view_count": null,
            "_view_module": "@jupyter-widgets/controls",
            "_view_module_version": "1.5.0",
            "_view_name": "HTMLView",
            "description": "",
            "description_tooltip": null,
            "layout": "IPY_MODEL_d18c42396f0e4600bcb5ba9caf44cfcf",
            "placeholder": "​",
            "style": "IPY_MODEL_c4a66386ab1b4edea64e7ff38e01f1d3",
            "value": "100%"
          }
        },
        "e3bfcbdb84b548dc90a1c6b86b2c2cd6": {
          "model_module": "@jupyter-widgets/controls",
          "model_name": "FloatProgressModel",
          "model_module_version": "1.5.0",
          "state": {
            "_dom_classes": [],
            "_model_module": "@jupyter-widgets/controls",
            "_model_module_version": "1.5.0",
            "_model_name": "FloatProgressModel",
            "_view_count": null,
            "_view_module": "@jupyter-widgets/controls",
            "_view_module_version": "1.5.0",
            "_view_name": "ProgressView",
            "bar_style": "success",
            "description": "",
            "description_tooltip": null,
            "layout": "IPY_MODEL_1a8623033f7f49cbb19ec8a8bbe2d6a5",
            "max": 3,
            "min": 0,
            "orientation": "horizontal",
            "style": "IPY_MODEL_9153e11d677244709bd4668fd4ecd007",
            "value": 3
          }
        },
        "b395fdea4efa47058f0694e2ccdd2190": {
          "model_module": "@jupyter-widgets/controls",
          "model_name": "HTMLModel",
          "model_module_version": "1.5.0",
          "state": {
            "_dom_classes": [],
            "_model_module": "@jupyter-widgets/controls",
            "_model_module_version": "1.5.0",
            "_model_name": "HTMLModel",
            "_view_count": null,
            "_view_module": "@jupyter-widgets/controls",
            "_view_module_version": "1.5.0",
            "_view_name": "HTMLView",
            "description": "",
            "description_tooltip": null,
            "layout": "IPY_MODEL_3d9128393a12476ea748301346fbc526",
            "placeholder": "​",
            "style": "IPY_MODEL_38785180ebef491b911374ba0d711887",
            "value": " 3/3 [00:00&lt;00:00, 88.82it/s]"
          }
        },
        "e4b82ca7135e417286484cac3b340c6d": {
          "model_module": "@jupyter-widgets/base",
          "model_name": "LayoutModel",
          "model_module_version": "1.2.0",
          "state": {
            "_model_module": "@jupyter-widgets/base",
            "_model_module_version": "1.2.0",
            "_model_name": "LayoutModel",
            "_view_count": null,
            "_view_module": "@jupyter-widgets/base",
            "_view_module_version": "1.2.0",
            "_view_name": "LayoutView",
            "align_content": null,
            "align_items": null,
            "align_self": null,
            "border": null,
            "bottom": null,
            "display": null,
            "flex": null,
            "flex_flow": null,
            "grid_area": null,
            "grid_auto_columns": null,
            "grid_auto_flow": null,
            "grid_auto_rows": null,
            "grid_column": null,
            "grid_gap": null,
            "grid_row": null,
            "grid_template_areas": null,
            "grid_template_columns": null,
            "grid_template_rows": null,
            "height": null,
            "justify_content": null,
            "justify_items": null,
            "left": null,
            "margin": null,
            "max_height": null,
            "max_width": null,
            "min_height": null,
            "min_width": null,
            "object_fit": null,
            "object_position": null,
            "order": null,
            "overflow": null,
            "overflow_x": null,
            "overflow_y": null,
            "padding": null,
            "right": null,
            "top": null,
            "visibility": null,
            "width": null
          }
        },
        "d18c42396f0e4600bcb5ba9caf44cfcf": {
          "model_module": "@jupyter-widgets/base",
          "model_name": "LayoutModel",
          "model_module_version": "1.2.0",
          "state": {
            "_model_module": "@jupyter-widgets/base",
            "_model_module_version": "1.2.0",
            "_model_name": "LayoutModel",
            "_view_count": null,
            "_view_module": "@jupyter-widgets/base",
            "_view_module_version": "1.2.0",
            "_view_name": "LayoutView",
            "align_content": null,
            "align_items": null,
            "align_self": null,
            "border": null,
            "bottom": null,
            "display": null,
            "flex": null,
            "flex_flow": null,
            "grid_area": null,
            "grid_auto_columns": null,
            "grid_auto_flow": null,
            "grid_auto_rows": null,
            "grid_column": null,
            "grid_gap": null,
            "grid_row": null,
            "grid_template_areas": null,
            "grid_template_columns": null,
            "grid_template_rows": null,
            "height": null,
            "justify_content": null,
            "justify_items": null,
            "left": null,
            "margin": null,
            "max_height": null,
            "max_width": null,
            "min_height": null,
            "min_width": null,
            "object_fit": null,
            "object_position": null,
            "order": null,
            "overflow": null,
            "overflow_x": null,
            "overflow_y": null,
            "padding": null,
            "right": null,
            "top": null,
            "visibility": null,
            "width": null
          }
        },
        "c4a66386ab1b4edea64e7ff38e01f1d3": {
          "model_module": "@jupyter-widgets/controls",
          "model_name": "DescriptionStyleModel",
          "model_module_version": "1.5.0",
          "state": {
            "_model_module": "@jupyter-widgets/controls",
            "_model_module_version": "1.5.0",
            "_model_name": "DescriptionStyleModel",
            "_view_count": null,
            "_view_module": "@jupyter-widgets/base",
            "_view_module_version": "1.2.0",
            "_view_name": "StyleView",
            "description_width": ""
          }
        },
        "1a8623033f7f49cbb19ec8a8bbe2d6a5": {
          "model_module": "@jupyter-widgets/base",
          "model_name": "LayoutModel",
          "model_module_version": "1.2.0",
          "state": {
            "_model_module": "@jupyter-widgets/base",
            "_model_module_version": "1.2.0",
            "_model_name": "LayoutModel",
            "_view_count": null,
            "_view_module": "@jupyter-widgets/base",
            "_view_module_version": "1.2.0",
            "_view_name": "LayoutView",
            "align_content": null,
            "align_items": null,
            "align_self": null,
            "border": null,
            "bottom": null,
            "display": null,
            "flex": null,
            "flex_flow": null,
            "grid_area": null,
            "grid_auto_columns": null,
            "grid_auto_flow": null,
            "grid_auto_rows": null,
            "grid_column": null,
            "grid_gap": null,
            "grid_row": null,
            "grid_template_areas": null,
            "grid_template_columns": null,
            "grid_template_rows": null,
            "height": null,
            "justify_content": null,
            "justify_items": null,
            "left": null,
            "margin": null,
            "max_height": null,
            "max_width": null,
            "min_height": null,
            "min_width": null,
            "object_fit": null,
            "object_position": null,
            "order": null,
            "overflow": null,
            "overflow_x": null,
            "overflow_y": null,
            "padding": null,
            "right": null,
            "top": null,
            "visibility": null,
            "width": null
          }
        },
        "9153e11d677244709bd4668fd4ecd007": {
          "model_module": "@jupyter-widgets/controls",
          "model_name": "ProgressStyleModel",
          "model_module_version": "1.5.0",
          "state": {
            "_model_module": "@jupyter-widgets/controls",
            "_model_module_version": "1.5.0",
            "_model_name": "ProgressStyleModel",
            "_view_count": null,
            "_view_module": "@jupyter-widgets/base",
            "_view_module_version": "1.2.0",
            "_view_name": "StyleView",
            "bar_color": null,
            "description_width": ""
          }
        },
        "3d9128393a12476ea748301346fbc526": {
          "model_module": "@jupyter-widgets/base",
          "model_name": "LayoutModel",
          "model_module_version": "1.2.0",
          "state": {
            "_model_module": "@jupyter-widgets/base",
            "_model_module_version": "1.2.0",
            "_model_name": "LayoutModel",
            "_view_count": null,
            "_view_module": "@jupyter-widgets/base",
            "_view_module_version": "1.2.0",
            "_view_name": "LayoutView",
            "align_content": null,
            "align_items": null,
            "align_self": null,
            "border": null,
            "bottom": null,
            "display": null,
            "flex": null,
            "flex_flow": null,
            "grid_area": null,
            "grid_auto_columns": null,
            "grid_auto_flow": null,
            "grid_auto_rows": null,
            "grid_column": null,
            "grid_gap": null,
            "grid_row": null,
            "grid_template_areas": null,
            "grid_template_columns": null,
            "grid_template_rows": null,
            "height": null,
            "justify_content": null,
            "justify_items": null,
            "left": null,
            "margin": null,
            "max_height": null,
            "max_width": null,
            "min_height": null,
            "min_width": null,
            "object_fit": null,
            "object_position": null,
            "order": null,
            "overflow": null,
            "overflow_x": null,
            "overflow_y": null,
            "padding": null,
            "right": null,
            "top": null,
            "visibility": null,
            "width": null
          }
        },
        "38785180ebef491b911374ba0d711887": {
          "model_module": "@jupyter-widgets/controls",
          "model_name": "DescriptionStyleModel",
          "model_module_version": "1.5.0",
          "state": {
            "_model_module": "@jupyter-widgets/controls",
            "_model_module_version": "1.5.0",
            "_model_name": "DescriptionStyleModel",
            "_view_count": null,
            "_view_module": "@jupyter-widgets/base",
            "_view_module_version": "1.2.0",
            "_view_name": "StyleView",
            "description_width": ""
          }
        }
      }
    }
  },
  "cells": [
    {
      "cell_type": "markdown",
      "metadata": {
        "id": "view-in-github",
        "colab_type": "text"
      },
      "source": [
        "<a href=\"https://colab.research.google.com/github/wadaka0821/nlp-tutorial/blob/main/questions/5_5_nural_language_model_question.ipynb\" target=\"_parent\"><img src=\"https://colab.research.google.com/assets/colab-badge.svg\" alt=\"Open In Colab\"/></a>"
      ]
    },
    {
      "cell_type": "markdown",
      "source": [
        "# ニューラル言語モデル\n",
        "## 作成者：和田\n",
        "## 最終更新日：2023/03/09"
      ],
      "metadata": {
        "id": "GC4Dm9SN1xky"
      }
    },
    {
      "cell_type": "code",
      "execution_count": null,
      "metadata": {
        "colab": {
          "base_uri": "https://localhost:8080/"
        },
        "id": "gJk_kowp1nPH",
        "outputId": "78f29549-9a99-42bf-a68e-c4899fd8e66b"
      },
      "outputs": [
        {
          "output_type": "stream",
          "name": "stdout",
          "text": [
            "Looking in indexes: https://pypi.org/simple, https://us-python.pkg.dev/colab-wheels/public/simple/\n",
            "Requirement already satisfied: datasets in /usr/local/lib/python3.9/dist-packages (2.10.1)\n",
            "Requirement already satisfied: huggingface-hub<1.0.0,>=0.2.0 in /usr/local/lib/python3.9/dist-packages (from datasets) (0.13.1)\n",
            "Requirement already satisfied: xxhash in /usr/local/lib/python3.9/dist-packages (from datasets) (3.2.0)\n",
            "Requirement already satisfied: packaging in /usr/local/lib/python3.9/dist-packages (from datasets) (23.0)\n",
            "Requirement already satisfied: fsspec[http]>=2021.11.1 in /usr/local/lib/python3.9/dist-packages (from datasets) (2023.3.0)\n",
            "Requirement already satisfied: pandas in /usr/local/lib/python3.9/dist-packages (from datasets) (1.3.5)\n",
            "Requirement already satisfied: numpy>=1.17 in /usr/local/lib/python3.9/dist-packages (from datasets) (1.22.4)\n",
            "Requirement already satisfied: pyyaml>=5.1 in /usr/local/lib/python3.9/dist-packages (from datasets) (6.0)\n",
            "Requirement already satisfied: aiohttp in /usr/local/lib/python3.9/dist-packages (from datasets) (3.8.4)\n",
            "Requirement already satisfied: dill<0.3.7,>=0.3.0 in /usr/local/lib/python3.9/dist-packages (from datasets) (0.3.6)\n",
            "Requirement already satisfied: responses<0.19 in /usr/local/lib/python3.9/dist-packages (from datasets) (0.18.0)\n",
            "Requirement already satisfied: requests>=2.19.0 in /usr/local/lib/python3.9/dist-packages (from datasets) (2.25.1)\n",
            "Requirement already satisfied: multiprocess in /usr/local/lib/python3.9/dist-packages (from datasets) (0.70.14)\n",
            "Requirement already satisfied: tqdm>=4.62.1 in /usr/local/lib/python3.9/dist-packages (from datasets) (4.65.0)\n",
            "Requirement already satisfied: pyarrow>=6.0.0 in /usr/local/lib/python3.9/dist-packages (from datasets) (9.0.0)\n",
            "Requirement already satisfied: aiosignal>=1.1.2 in /usr/local/lib/python3.9/dist-packages (from aiohttp->datasets) (1.3.1)\n",
            "Requirement already satisfied: multidict<7.0,>=4.5 in /usr/local/lib/python3.9/dist-packages (from aiohttp->datasets) (6.0.4)\n",
            "Requirement already satisfied: yarl<2.0,>=1.0 in /usr/local/lib/python3.9/dist-packages (from aiohttp->datasets) (1.8.2)\n",
            "Requirement already satisfied: frozenlist>=1.1.1 in /usr/local/lib/python3.9/dist-packages (from aiohttp->datasets) (1.3.3)\n",
            "Requirement already satisfied: charset-normalizer<4.0,>=2.0 in /usr/local/lib/python3.9/dist-packages (from aiohttp->datasets) (3.1.0)\n",
            "Requirement already satisfied: async-timeout<5.0,>=4.0.0a3 in /usr/local/lib/python3.9/dist-packages (from aiohttp->datasets) (4.0.2)\n",
            "Requirement already satisfied: attrs>=17.3.0 in /usr/local/lib/python3.9/dist-packages (from aiohttp->datasets) (22.2.0)\n",
            "Requirement already satisfied: typing-extensions>=3.7.4.3 in /usr/local/lib/python3.9/dist-packages (from huggingface-hub<1.0.0,>=0.2.0->datasets) (4.5.0)\n",
            "Requirement already satisfied: filelock in /usr/local/lib/python3.9/dist-packages (from huggingface-hub<1.0.0,>=0.2.0->datasets) (3.9.0)\n",
            "Requirement already satisfied: chardet<5,>=3.0.2 in /usr/local/lib/python3.9/dist-packages (from requests>=2.19.0->datasets) (4.0.0)\n",
            "Requirement already satisfied: certifi>=2017.4.17 in /usr/local/lib/python3.9/dist-packages (from requests>=2.19.0->datasets) (2022.12.7)\n",
            "Requirement already satisfied: urllib3<1.27,>=1.21.1 in /usr/local/lib/python3.9/dist-packages (from requests>=2.19.0->datasets) (1.26.14)\n",
            "Requirement already satisfied: idna<3,>=2.5 in /usr/local/lib/python3.9/dist-packages (from requests>=2.19.0->datasets) (2.10)\n",
            "Requirement already satisfied: pytz>=2017.3 in /usr/local/lib/python3.9/dist-packages (from pandas->datasets) (2022.7.1)\n",
            "Requirement already satisfied: python-dateutil>=2.7.3 in /usr/local/lib/python3.9/dist-packages (from pandas->datasets) (2.8.2)\n",
            "Requirement already satisfied: six>=1.5 in /usr/local/lib/python3.9/dist-packages (from python-dateutil>=2.7.3->pandas->datasets) (1.15.0)\n"
          ]
        }
      ],
      "source": [
        "!pip install datasets"
      ]
    },
    {
      "cell_type": "code",
      "source": [
        "import nltk\n",
        "from datasets import load_dataset\n",
        "from tqdm import tqdm\n",
        "import torch\n",
        "from torch.nn import Embedding, LSTM, Linear, Softmax, CrossEntropyLoss\n",
        "from torch.nn.utils.rnn import pad_sequence\n",
        "from torch.optim import Adam\n",
        "import numpy as np\n",
        "import seaborn as sns"
      ],
      "metadata": {
        "id": "_B5k1ycy16GZ"
      },
      "execution_count": null,
      "outputs": []
    },
    {
      "cell_type": "code",
      "source": [
        "nltk.download('punkt') # 単語分割に必要なデータのダウンロード"
      ],
      "metadata": {
        "colab": {
          "base_uri": "https://localhost:8080/"
        },
        "id": "AM2er59r3IVL",
        "outputId": "1be8dc5f-b44b-4704-f3cc-e3b2003b1953"
      },
      "execution_count": null,
      "outputs": [
        {
          "output_type": "stream",
          "name": "stderr",
          "text": [
            "[nltk_data] Downloading package punkt to /root/nltk_data...\n",
            "[nltk_data]   Package punkt is already up-to-date!\n"
          ]
        },
        {
          "output_type": "execute_result",
          "data": {
            "text/plain": [
              "True"
            ]
          },
          "metadata": {},
          "execution_count": 3
        }
      ]
    },
    {
      "cell_type": "code",
      "source": [
        "dataset = load_dataset(\"common_gen\") # 使用するデータのダウンロード"
      ],
      "metadata": {
        "colab": {
          "base_uri": "https://localhost:8080/",
          "height": 87,
          "referenced_widgets": [
            "fef856ba1d6f4a3f8f047ebcf0b733d4",
            "5442092971244fee848d8a38bfdb49f1",
            "e3bfcbdb84b548dc90a1c6b86b2c2cd6",
            "b395fdea4efa47058f0694e2ccdd2190",
            "e4b82ca7135e417286484cac3b340c6d",
            "d18c42396f0e4600bcb5ba9caf44cfcf",
            "c4a66386ab1b4edea64e7ff38e01f1d3",
            "1a8623033f7f49cbb19ec8a8bbe2d6a5",
            "9153e11d677244709bd4668fd4ecd007",
            "3d9128393a12476ea748301346fbc526",
            "38785180ebef491b911374ba0d711887"
          ]
        },
        "id": "21XSANSH3ImA",
        "outputId": "7926f859-c90d-482b-f304-221c777c1fb8"
      },
      "execution_count": null,
      "outputs": [
        {
          "output_type": "stream",
          "name": "stderr",
          "text": [
            "WARNING:datasets.builder:Found cached dataset common_gen (/root/.cache/huggingface/datasets/common_gen/default/2020.5.30/1a9e8bdc026c41ce7a9e96260debf7d2809cb7fd63fa02b017e4fac1b00c6b23)\n"
          ]
        },
        {
          "output_type": "display_data",
          "data": {
            "text/plain": [
              "  0%|          | 0/3 [00:00<?, ?it/s]"
            ],
            "application/vnd.jupyter.widget-view+json": {
              "version_major": 2,
              "version_minor": 0,
              "model_id": "fef856ba1d6f4a3f8f047ebcf0b733d4"
            }
          },
          "metadata": {}
        }
      ]
    },
    {
      "cell_type": "code",
      "source": [
        "corpus = dataset['train']['target']"
      ],
      "metadata": {
        "id": "eovyKyum3KqH"
      },
      "execution_count": null,
      "outputs": []
    },
    {
      "cell_type": "code",
      "source": [
        "tokenized_corpus = list(map(nltk.tokenize.word_tokenize, corpus))"
      ],
      "metadata": {
        "id": "_0Ke8XKw3N4Z"
      },
      "execution_count": null,
      "outputs": []
    },
    {
      "cell_type": "code",
      "source": [
        "class LM(torch.nn.Module):\n",
        "    PAD_TOKEN = '<PAD>' # Padding 用\n",
        "    SOS_TOKEN = '<s>' # Start Of Sequence\n",
        "    EOS_TOKEN = '</s>' # End Of Sequence\n",
        "    UNK_TOKEN = '<UNK>' # 未知語\n",
        "\n",
        "    def __init__(self, corpus, hidden_dim=200):\n",
        "        super(LM, self).__init__()\n",
        "        self.vocab = {self.PAD_TOKEN:0,\n",
        "                      self.SOS_TOKEN:1,\n",
        "                      self.EOS_TOKEN:2,\n",
        "                      self.UNK_TOKEN:3}\n",
        "        self.vocab_size = len(self.vocab)\n",
        "        self.corpus = corpus\n",
        "        self.hidden_dim = hidden_dim\n",
        "        self._build_vocab()\n",
        "        self.embedding = Embedding(\n",
        "            num_embeddings = self.vocab_size,\n",
        "            embedding_dim = self.hidden_dim,\n",
        "        )\n",
        "        self.lstm = LSTM(\n",
        "            input_size = self.hidden_dim,\n",
        "            hidden_size = self.hidden_dim,\n",
        "            bias = True,\n",
        "            batch_first = True,\n",
        "            bidirectional = False,\n",
        "        )\n",
        "        self.output_linear = Linear(\n",
        "            in_features = self.hidden_dim,\n",
        "            out_features = self.vocab_size,\n",
        "        )\n",
        "    \n",
        "    def _build_vocab(self):\n",
        "        for sent in self.corpus:\n",
        "            for word in sent:\n",
        "                if word not in self.vocab:\n",
        "                    self.vocab[word] = len(self.vocab)\n",
        "        self.vocab_size = len(self.vocab)\n",
        "\n",
        "    def encode(self, sent):\n",
        "        if type(sent[0]) == type(list()):\n",
        "            return [[self.vocab.get(j) if self.vocab.get(j) else self.vocab[self.UNK_TOKEN] for j in i] for i in sent]\n",
        "        else:\n",
        "            return [self.vocab.get(i) if self.vocab.get(i) else self.vocab[self.UNK_TOKEN] for i in sent]\n",
        "\n",
        "    def decode(self, ids):\n",
        "        vocab_rev = {value:key for key, value in self.vocab.items()}\n",
        "        if type(ids[0]) == type(list()):\n",
        "            return [[vocab_rev.get(j) for j in i] for i in ids]\n",
        "        else:\n",
        "            return [vocab_rev.get(i) for i in ids]\n",
        "\n",
        "    def forward(self, X, device='cpu'):\n",
        "        X = self.embedding(X)\n",
        "        h = torch.zeros(1, len(X), self.hidden_dim).to(device)\n",
        "        c = torch.zeros(1, len(X), self.hidden_dim).to(device)\n",
        "        o, _ = self.lstm(X, (h, c))\n",
        "        o = self.output_linear(o)\n",
        "\n",
        "        return o\n",
        "\n",
        "    @torch.inference_mode()\n",
        "    def predict(self, X, device='cpu', max_length=64):\n",
        "        generated_ids = X.tolist()\n",
        "        h = torch.zeros(1, self.hidden_dim).to(device)\n",
        "        c = torch.zeros(1, self.hidden_dim).to(device)\n",
        "\n",
        "        while generated_ids[-1] != self.vocab[self.EOS_TOKEN] and len(generated_ids) < max_length:\n",
        "            lstm_input = self.embedding(torch.Tensor(generated_ids).long().to(device))\n",
        "            o, _ = self.lstm(lstm_input, (h, c))\n",
        "            o = self.output_linear(o)\n",
        "            idx = torch.argmax(o[-1])\n",
        "            generated_ids.append(idx.item())\n",
        "        \n",
        "        return generated_ids"
      ],
      "metadata": {
        "id": "2zO58OUA3azK"
      },
      "execution_count": null,
      "outputs": []
    },
    {
      "cell_type": "code",
      "source": [
        "model = LM(tokenized_corpus)"
      ],
      "metadata": {
        "id": "kuAoaV4a-OGb"
      },
      "execution_count": null,
      "outputs": []
    },
    {
      "cell_type": "code",
      "source": [
        "corpus_ids = model.encode([[LM.SOS_TOKEN]+sent+[LM.EOS_TOKEN] for sent in tokenized_corpus])"
      ],
      "metadata": {
        "id": "EDHkbpDB-hOv"
      },
      "execution_count": null,
      "outputs": []
    },
    {
      "cell_type": "code",
      "source": [
        "X = [torch.Tensor(i[:-1]).long() for i in corpus_ids]\n",
        "Y = [torch.Tensor(i[1:]).long() for i in corpus_ids]"
      ],
      "metadata": {
        "id": "VCORMct3_IIK"
      },
      "execution_count": null,
      "outputs": []
    },
    {
      "cell_type": "code",
      "source": [
        "class MyDataset(torch.utils.data.Dataset):\n",
        "    def __init__(self, X, Y):\n",
        "        self.X = X\n",
        "        self.Y = Y\n",
        "    \n",
        "    def __len__(self):\n",
        "        return len(self.X)\n",
        "\n",
        "    def __getitem__(self, idx):\n",
        "        return self.X[idx], self.Y[idx]"
      ],
      "metadata": {
        "id": "VsqvQw11_BWF"
      },
      "execution_count": null,
      "outputs": []
    },
    {
      "cell_type": "code",
      "source": [
        "train_dataset = MyDataset(X, Y)\n",
        "dataloader = torch.utils.data.DataLoader(train_dataset, batch_size=32, shuffle=True, collate_fn=lambda x: [[i[0] for i in x], [i[1] for i in x]])"
      ],
      "metadata": {
        "id": "p5YLoCsX_CGh"
      },
      "execution_count": null,
      "outputs": []
    },
    {
      "cell_type": "code",
      "source": [
        "device = 'cuda' if torch.cuda.is_available() else 'cpu'"
      ],
      "metadata": {
        "id": "z0OClH0xAkFs"
      },
      "execution_count": null,
      "outputs": []
    },
    {
      "cell_type": "code",
      "source": [
        "criterion = CrossEntropyLoss()\n",
        "optimizer = Adam(model.parameters(), lr=1e-3)\n",
        "MAX_EPOCH = 10\n",
        "\n",
        "model.to(device)\n",
        "\n",
        "loss_history = list()\n",
        "for epoch in range(1, MAX_EPOCH+1):\n",
        "    for X, Y in tqdm(dataloader):\n",
        "        optimizer.zero_grad(set_to_none=True)\n",
        "        X = pad_sequence(X, batch_first=True).to(device)\n",
        "        Y = pad_sequence(Y, batch_first=True).to(device)\n",
        "\n",
        "        o = model(X, device)\n",
        "        o = o.view(o.shape[0]*o.shape[1], -1) # CrossEntropyLoss の入力用に shape を変更\n",
        "        Y = Y.view(-1)\n",
        "        loss = criterion(o, Y)\n",
        "\n",
        "        loss_history.append(loss.item())\n",
        "        loss.backward()\n",
        "        optimizer.step()\n",
        "    mean_loss = np.mean(loss_history[-len(dataloader):])\n",
        "    print(f'{epoch=} | {mean_loss=} |')"
      ],
      "metadata": {
        "colab": {
          "base_uri": "https://localhost:8080/"
        },
        "id": "-AI9Va3g-okb",
        "outputId": "a3b1fb35-0d09-460f-976a-cf8b53be5545"
      },
      "execution_count": null,
      "outputs": [
        {
          "output_type": "stream",
          "name": "stderr",
          "text": [
            "100%|██████████| 2106/2106 [00:19<00:00, 109.34it/s]\n"
          ]
        },
        {
          "output_type": "stream",
          "name": "stdout",
          "text": [
            "epoch=1 | mean_loss=3.235457199477968 |\n"
          ]
        },
        {
          "output_type": "stream",
          "name": "stderr",
          "text": [
            "100%|██████████| 2106/2106 [00:19<00:00, 110.80it/s]\n"
          ]
        },
        {
          "output_type": "stream",
          "name": "stdout",
          "text": [
            "epoch=2 | mean_loss=2.637579584166988 |\n"
          ]
        },
        {
          "output_type": "stream",
          "name": "stderr",
          "text": [
            "100%|██████████| 2106/2106 [00:19<00:00, 105.71it/s]\n"
          ]
        },
        {
          "output_type": "stream",
          "name": "stdout",
          "text": [
            "epoch=3 | mean_loss=2.3679026973213566 |\n"
          ]
        },
        {
          "output_type": "stream",
          "name": "stderr",
          "text": [
            "100%|██████████| 2106/2106 [00:19<00:00, 108.58it/s]\n"
          ]
        },
        {
          "output_type": "stream",
          "name": "stdout",
          "text": [
            "epoch=4 | mean_loss=2.1882455158777048 |\n"
          ]
        },
        {
          "output_type": "stream",
          "name": "stderr",
          "text": [
            "100%|██████████| 2106/2106 [00:19<00:00, 109.57it/s]\n"
          ]
        },
        {
          "output_type": "stream",
          "name": "stdout",
          "text": [
            "epoch=5 | mean_loss=2.0500173302117917 |\n"
          ]
        },
        {
          "output_type": "stream",
          "name": "stderr",
          "text": [
            "100%|██████████| 2106/2106 [00:19<00:00, 109.85it/s]\n"
          ]
        },
        {
          "output_type": "stream",
          "name": "stdout",
          "text": [
            "epoch=6 | mean_loss=1.9340738683005003 |\n"
          ]
        },
        {
          "output_type": "stream",
          "name": "stderr",
          "text": [
            "100%|██████████| 2106/2106 [00:19<00:00, 109.17it/s]\n"
          ]
        },
        {
          "output_type": "stream",
          "name": "stdout",
          "text": [
            "epoch=7 | mean_loss=1.8375209028791046 |\n"
          ]
        },
        {
          "output_type": "stream",
          "name": "stderr",
          "text": [
            "100%|██████████| 2106/2106 [00:19<00:00, 108.80it/s]\n"
          ]
        },
        {
          "output_type": "stream",
          "name": "stdout",
          "text": [
            "epoch=8 | mean_loss=1.7538045133620586 |\n"
          ]
        },
        {
          "output_type": "stream",
          "name": "stderr",
          "text": [
            "100%|██████████| 2106/2106 [00:19<00:00, 109.26it/s]\n"
          ]
        },
        {
          "output_type": "stream",
          "name": "stdout",
          "text": [
            "epoch=9 | mean_loss=1.6808507830215882 |\n"
          ]
        },
        {
          "output_type": "stream",
          "name": "stderr",
          "text": [
            "100%|██████████| 2106/2106 [00:19<00:00, 108.96it/s]"
          ]
        },
        {
          "output_type": "stream",
          "name": "stdout",
          "text": [
            "epoch=10 | mean_loss=1.6207784620898176 |\n"
          ]
        },
        {
          "output_type": "stream",
          "name": "stderr",
          "text": [
            "\n"
          ]
        }
      ]
    },
    {
      "cell_type": "code",
      "source": [
        "p = sns.lineplot(x=[i+1 for i in range(len(loss_history))], y=loss_history)\n",
        "p.set(\n",
        "    title = 'training loss',\n",
        "    xlabel = 'step',\n",
        "    ylabel = 'CrossEntropyLoss'\n",
        ")"
      ],
      "metadata": {
        "colab": {
          "base_uri": "https://localhost:8080/",
          "height": 349
        },
        "id": "SdhOk1BdHZvh",
        "outputId": "c261288e-89e3-4f23-e6ce-216232bceefa"
      },
      "execution_count": null,
      "outputs": [
        {
          "output_type": "execute_result",
          "data": {
            "text/plain": [
              "[Text(0.5, 1.0, 'training loss'),\n",
              " Text(0.5, 0, 'step'),\n",
              " Text(0, 0.5, 'CrossEntropyLoss')]"
            ]
          },
          "metadata": {},
          "execution_count": 26
        },
        {
          "output_type": "display_data",
          "data": {
            "text/plain": [
              "<Figure size 432x288 with 1 Axes>"
            ],
            "image/png": "[encoded data removed]"
          },
          "metadata": {
            "needs_background": "light"
          }
        }
      ]
    },
    {
      "cell_type": "code",
      "source": [
        "pred_ids = model.predict(torch.Tensor([1]).long().to(device), device)"
      ],
      "metadata": {
        "id": "wDzZudH7Bm45"
      },
      "execution_count": null,
      "outputs": []
    },
    {
      "cell_type": "code",
      "source": [
        "model.decode(pred_ids)"
      ],
      "metadata": {
        "colab": {
          "base_uri": "https://localhost:8080/"
        },
        "id": "XtOPHSKsEccM",
        "outputId": "ce4e05c1-e095-45ae-9614-eaa94cf2f68b"
      },
      "execution_count": null,
      "outputs": [
        {
          "output_type": "execute_result",
          "data": {
            "text/plain": [
              "['<s>',\n",
              " 'A',\n",
              " 'man',\n",
              " 'is',\n",
              " 'working',\n",
              " 'on',\n",
              " 'a',\n",
              " 'shelf',\n",
              " 'with',\n",
              " 'a',\n",
              " 'horse',\n",
              " 'in',\n",
              " 'a',\n",
              " 'sunny',\n",
              " 'day',\n",
              " '.',\n",
              " '</s>']"
            ]
          },
          "metadata": {},
          "execution_count": 16
        }
      ]
    },
    {
      "cell_type": "code",
      "source": [
        "text = ['<s>', 'The', 'sun']\n",
        "encoded_text = model.encode(text)\n",
        "print(encoded_text)\n",
        "pred_ids = model.predict(torch.Tensor(encoded_text).long().to(device), device)\n",
        "print(model.decode(pred_ids))"
      ],
      "metadata": {
        "colab": {
          "base_uri": "https://localhost:8080/"
        },
        "id": "hiwMlicaEvGk",
        "outputId": "95213d7b-02ea-45d8-fc43-c54c5f10eb23"
      },
      "execution_count": null,
      "outputs": [
        {
          "output_type": "stream",
          "name": "stdout",
          "text": [
            "[1, 20, 827]\n",
            "['<s>', 'The', 'sun', 'is', 'obscured', 'by', 'the', 'sea', '.', '</s>']\n"
          ]
        }
      ]
    },
    {
      "cell_type": "code",
      "source": [
        "text = ['<s>', 'The', 'rider']\n",
        "encoded_text = model.encode(text)\n",
        "print(encoded_text)\n",
        "pred_ids = model.predict(torch.Tensor(encoded_text).long().to(device), device)\n",
        "print(model.decode(pred_ids))"
      ],
      "metadata": {
        "colab": {
          "base_uri": "https://localhost:8080/"
        },
        "id": "geuc4WXYGmUx",
        "outputId": "bb95444e-72c2-4447-c47d-b5864f05d639"
      },
      "execution_count": null,
      "outputs": [
        {
          "output_type": "stream",
          "name": "stdout",
          "text": [
            "[1, 20, 1928]\n",
            "['<s>', 'The', 'rider', 'is', 'winning', 'the', 'race', '.', '</s>']\n"
          ]
        }
      ]
    },
    {
      "cell_type": "code",
      "source": [
        "text = ['<s>', 'A', 'horse']\n",
        "encoded_text = model.encode(text)\n",
        "print(encoded_text)\n",
        "pred_ids = model.predict(torch.Tensor(encoded_text).long().to(device), device)\n",
        "print(model.decode(pred_ids))"
      ],
      "metadata": {
        "colab": {
          "base_uri": "https://localhost:8080/"
        },
        "id": "phsWjvDNGxUq",
        "outputId": "36f6295e-4dc6-4596-9573-140fafc1b7b5"
      },
      "execution_count": null,
      "outputs": [
        {
          "output_type": "stream",
          "name": "stdout",
          "text": [
            "[1, 9, 48]\n",
            "['<s>', 'A', 'horse', 'is', 'eating', 'grass', 'in', 'a', 'zoo', '.', '</s>']\n"
          ]
        }
      ]
    },
    {
      "cell_type": "code",
      "source": [],
      "metadata": {
        "id": "luo2aUq0G5fu"
      },
      "execution_count": null,
      "outputs": []
    },
    {
      "cell_type": "markdown",
      "source": [
        "# 問題1\n",
        "---\n",
        "一般的に，LSTM は RNN と比べて長い系列が得意だとされています．今回学習されたモデルは LSTM を使用していますが，どの程度の長さまでまともな文が出力されるでしょうか？いろいろ試してみてください．"
      ],
      "metadata": {
        "id": "F6QEI-wHnTCH"
      }
    },
    {
      "cell_type": "markdown",
      "source": [
        "## 問題2\n",
        "---\n",
        "推論時に，確率の高い上位 k 件からランダムに選択するように predict を変更してください．"
      ],
      "metadata": {
        "id": "DkGwq9bTqurw"
      }
    },
    {
      "cell_type": "code",
      "source": [],
      "metadata": {
        "id": "cYPFssGjoVUf"
      },
      "execution_count": null,
      "outputs": []
    }
  ]
}