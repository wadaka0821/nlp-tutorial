{
  "nbformat": 4,
  "nbformat_minor": 0,
  "metadata": {
    "colab": {
      "provenance": [],
      "authorship_tag": "ABX9TyMd7I9fyJ1TCmMdaRuC6jg6",
      "include_colab_link": true
    },
    "kernelspec": {
      "name": "python3",
      "display_name": "Python 3"
    },
    "language_info": {
      "name": "python"
    }
  },
  "cells": [
    {
      "cell_type": "markdown",
      "metadata": {
        "id": "view-in-github",
        "colab_type": "text"
      },
      "source": [
        "<a href=\"https://colab.research.google.com/github/wadaka0821/nlp-tutorial/blob/main/questions/2_9_semi_adder_question.ipynb\" target=\"_parent\"><img src=\"https://colab.research.google.com/assets/colab-badge.svg\" alt=\"Open In Colab\"/></a>"
      ]
    },
    {
      "cell_type": "markdown",
      "source": [
        "# シンプルなNN（ニューラルネットワーク）の実装\n",
        "\n",
        "作成者：和田  \n",
        "最終更新日：2023/02/25"
      ],
      "metadata": {
        "id": "tED9mGL_NzYU"
      }
    },
    {
      "cell_type": "code",
      "execution_count": null,
      "metadata": {
        "id": "kmIjiYrpNnDr"
      },
      "outputs": [],
      "source": [
        "import torch\n",
        "import matplotlib.pyplot as plt\n",
        "import seaborn as sns\n",
        "from tqdm import tqdm"
      ]
    },
    {
      "cell_type": "code",
      "source": [
        "seed = 42\n",
        "# Pytorchのシード値を固定\n",
        "# 必要に応じてpythonやnumpyなどのシード値も固定する必要があります（再現性を持たせたい場合）\n",
        "torch.manual_seed(seed)\n",
        "torch.cuda.manual_seed(seed)\n",
        "torch.backends.cudnn.deterministic = True\n",
        "torch.use_deterministic_algorithms = True\n",
        "\n",
        "device = 'cuda' if torch.cuda.is_available() else 'cpu'"
      ],
      "metadata": {
        "id": "nBRqikM3OLe7"
      },
      "execution_count": null,
      "outputs": []
    },
    {
      "cell_type": "code",
      "source": [
        "# 使用可能なデバイスの確認\n",
        "f'{device=}'"
      ],
      "metadata": {
        "colab": {
          "base_uri": "https://localhost:8080/",
          "height": 36
        },
        "id": "UKL7tohiONdT",
        "outputId": "15c85d56-9b61-4859-87ea-a1c7b6819a68"
      },
      "execution_count": null,
      "outputs": [
        {
          "output_type": "execute_result",
          "data": {
            "text/plain": [
              "\"device='cpu'\""
            ],
            "application/vnd.google.colaboratory.intrinsic+json": {
              "type": "string"
            }
          },
          "metadata": {},
          "execution_count": 3
        }
      ]
    },
    {
      "cell_type": "markdown",
      "source": [
        "# 取り組むタスク\n",
        "\n",
        "## 半加算器の動作をNNに学習させます\n",
        "\n",
        "半加算器(2進数の足し算)の動作  \n",
        "\n",
        "|入力1|入力2|出力1|出力2|  \n",
        "|---:|---:|---:|---:|\n",
        "|0|0|0|0|\n",
        "|0|1|1|0|\n",
        "|1|0|1|0|\n",
        "|1|1|0|1|\n",
        "\n",
        "※普通MLはルールベースの手法では対応が難しいような複雑なタスクに対して使用するべきなので，本来はこのタスクをNNに学習させるのは不適切ですが，練習なので分かりやすい例にしました"
      ],
      "metadata": {
        "id": "VaWv1TmQOXfi"
      }
    },
    {
      "cell_type": "code",
      "source": [
        "# 入力用のテンソルを作成\n",
        "x = torch.Tensor([[0, 0],\n",
        "                  [0, 1],\n",
        "                  [1, 0],\n",
        "                  [1, 1]])\n",
        "\n",
        "# 出力用のテンソルを作成\n",
        "y = torch.Tensor([[0, 0],\n",
        "                  [1, 0],\n",
        "                  [1, 0],\n",
        "                  [0, 1]])"
      ],
      "metadata": {
        "id": "h2SKVoriOTrQ"
      },
      "execution_count": null,
      "outputs": []
    },
    {
      "cell_type": "code",
      "source": [
        "fig, ax = plt.subplots(1, 2, figsize=(10, 5))\n",
        "sns.scatterplot(x=x[:, 0], y=x[:, 1], hue=y[:, 0], ax=ax[0]).set(title='output1', xlabel='input1', ylabel='input2')\n",
        "sns.scatterplot(x=x[:, 0], y=x[:, 1], hue=y[:, 1], ax=ax[1]).set(title='output2', xlabel='input1', ylabel='input2')"
      ],
      "metadata": {
        "colab": {
          "base_uri": "https://localhost:8080/",
          "height": 368
        },
        "id": "-xQkeU_9QLwk",
        "outputId": "b53b6dab-6165-4732-c6a5-f1989cc92230"
      },
      "execution_count": null,
      "outputs": [
        {
          "output_type": "execute_result",
          "data": {
            "text/plain": [
              "[Text(0.5, 1.0, 'output2'), Text(0.5, 0, 'input1'), Text(0, 0.5, 'input2')]"
            ]
          },
          "metadata": {},
          "execution_count": 5
        },
        {
          "output_type": "display_data",
          "data": {
            "text/plain": [
              "<Figure size 720x360 with 2 Axes>"
            ],
            "image/png": "[encoded data removed]"
          },
          "metadata": {
            "needs_background": "light"
          }
        }
      ]
    },
    {
      "cell_type": "markdown",
      "source": [
        "# モデルの定義と学習"
      ],
      "metadata": {
        "id": "ww77bpklTDXv"
      }
    },
    {
      "cell_type": "code",
      "source": [
        "class SimpleNN(torch.nn.Module):\n",
        "  def __init__(self, in_dim=2, hidden_dim=2, out_dim=2):\n",
        "    super(SimpleNN, self).__init__()\n",
        "\n",
        "    self.hidden_layer = torch.nn.Linear(in_features=in_dim, out_features=hidden_dim)\n",
        "    self.output_layer = torch.nn.Linear(in_features=hidden_dim, out_features=out_dim)\n",
        "\n",
        "  def forward(self, x):\n",
        "    h = torch.relu(self.hidden_layer(x))\n",
        "    y = torch.sigmoid(self.output_layer(h))\n",
        "\n",
        "    return y"
      ],
      "metadata": {
        "id": "kq0NEII8QeZv"
      },
      "execution_count": null,
      "outputs": []
    },
    {
      "cell_type": "code",
      "source": [
        "MAX_EPOCH = 50\n",
        "lr = 3e-2\n",
        "\n",
        "model = SimpleNN(hidden_dim=5)\n",
        "model.to(device)\n",
        "\n",
        "x.to(device)\n",
        "y.to(device)\n",
        "\n",
        "optimizer = torch.optim.AdamW(model.parameters(), lr=lr)\n",
        "for epoch in range(1, MAX_EPOCH+1):\n",
        "  optimizer.zero_grad(set_to_none=True)\n",
        "  y_pred = model(x)\n",
        "  loss = torch.mean(- (y * torch.log(y_pred) + (1 - y) * torch.log(1 - y_pred)))\n",
        "\n",
        "  loss.backward()\n",
        "  optimizer.step()\n",
        "\n",
        "  print(f'epoch : {epoch} | training loss : {loss.item():.3f}')"
      ],
      "metadata": {
        "colab": {
          "base_uri": "https://localhost:8080/"
        },
        "id": "QUZTzHIHT5Pp",
        "outputId": "11b67edc-63c7-44f0-8e47-3943d4b7981e"
      },
      "execution_count": null,
      "outputs": [
        {
          "output_type": "stream",
          "name": "stdout",
          "text": [
            "epoch : 1 | training loss : 0.662\n",
            "epoch : 2 | training loss : 0.650\n",
            "epoch : 3 | training loss : 0.639\n",
            "epoch : 4 | training loss : 0.628\n",
            "epoch : 5 | training loss : 0.616\n",
            "epoch : 6 | training loss : 0.605\n",
            "epoch : 7 | training loss : 0.598\n",
            "epoch : 8 | training loss : 0.589\n",
            "epoch : 9 | training loss : 0.582\n",
            "epoch : 10 | training loss : 0.573\n",
            "epoch : 11 | training loss : 0.564\n",
            "epoch : 12 | training loss : 0.555\n",
            "epoch : 13 | training loss : 0.545\n",
            "epoch : 14 | training loss : 0.534\n",
            "epoch : 15 | training loss : 0.521\n",
            "epoch : 16 | training loss : 0.512\n",
            "epoch : 17 | training loss : 0.502\n",
            "epoch : 18 | training loss : 0.493\n",
            "epoch : 19 | training loss : 0.482\n",
            "epoch : 20 | training loss : 0.471\n",
            "epoch : 21 | training loss : 0.460\n",
            "epoch : 22 | training loss : 0.449\n",
            "epoch : 23 | training loss : 0.438\n",
            "epoch : 24 | training loss : 0.427\n",
            "epoch : 25 | training loss : 0.416\n",
            "epoch : 26 | training loss : 0.405\n",
            "epoch : 27 | training loss : 0.394\n",
            "epoch : 28 | training loss : 0.382\n",
            "epoch : 29 | training loss : 0.370\n",
            "epoch : 30 | training loss : 0.358\n",
            "epoch : 31 | training loss : 0.348\n",
            "epoch : 32 | training loss : 0.336\n",
            "epoch : 33 | training loss : 0.324\n",
            "epoch : 34 | training loss : 0.312\n",
            "epoch : 35 | training loss : 0.303\n",
            "epoch : 36 | training loss : 0.292\n",
            "epoch : 37 | training loss : 0.280\n",
            "epoch : 38 | training loss : 0.269\n",
            "epoch : 39 | training loss : 0.260\n",
            "epoch : 40 | training loss : 0.250\n",
            "epoch : 41 | training loss : 0.240\n",
            "epoch : 42 | training loss : 0.231\n",
            "epoch : 43 | training loss : 0.222\n",
            "epoch : 44 | training loss : 0.213\n",
            "epoch : 45 | training loss : 0.204\n",
            "epoch : 46 | training loss : 0.196\n",
            "epoch : 47 | training loss : 0.188\n",
            "epoch : 48 | training loss : 0.180\n",
            "epoch : 49 | training loss : 0.173\n",
            "epoch : 50 | training loss : 0.166\n"
          ]
        }
      ]
    },
    {
      "cell_type": "markdown",
      "source": [
        "## 問題1\n",
        "---\n",
        "1. 今回作成したモデルでは sigmoid 関数を適用して出力としています．しかし，用途によっては必ずしも sigmoid 関数を適用する必要はありません．それはどのような場合でしょうか？\n",
        "1. モデルに sigmoid 関数に適用する前の値(logits)を出力させる場合，損失の計算を変更する必要があります．このときに使用できる損失(torch.nnで定義されているもの)について調べてください．"
      ],
      "metadata": {
        "id": "n47wwKAum2CD"
      }
    },
    {
      "cell_type": "markdown",
      "source": [
        " # 予測結果の確認"
      ],
      "metadata": {
        "id": "s4apcNTSYj9Q"
      }
    },
    {
      "cell_type": "code",
      "source": [
        "with torch.no_grad():\n",
        "  pred = model(x) > .5"
      ],
      "metadata": {
        "id": "iX6pdDQRVOIA"
      },
      "execution_count": null,
      "outputs": []
    },
    {
      "cell_type": "code",
      "source": [
        "pred.int()"
      ],
      "metadata": {
        "colab": {
          "base_uri": "https://localhost:8080/"
        },
        "id": "gfTqRUbLYdy8",
        "outputId": "5967c1c5-4d95-47c8-83b1-878a53a75103"
      },
      "execution_count": null,
      "outputs": [
        {
          "output_type": "execute_result",
          "data": {
            "text/plain": [
              "tensor([[0, 0],\n",
              "        [1, 0],\n",
              "        [1, 0],\n",
              "        [0, 1]], dtype=torch.int32)"
            ]
          },
          "metadata": {},
          "execution_count": 9
        }
      ]
    },
    {
      "cell_type": "code",
      "source": [
        "y"
      ],
      "metadata": {
        "colab": {
          "base_uri": "https://localhost:8080/"
        },
        "id": "VucAkAzpVfQ9",
        "outputId": "4fcfb5b6-c04a-40c7-d1de-fd131da2fda4"
      },
      "execution_count": null,
      "outputs": [
        {
          "output_type": "execute_result",
          "data": {
            "text/plain": [
              "tensor([[0., 0.],\n",
              "        [1., 0.],\n",
              "        [1., 0.],\n",
              "        [0., 1.]])"
            ]
          },
          "metadata": {},
          "execution_count": 10
        }
      ]
    },
    {
      "cell_type": "markdown",
      "source": [
        "## 問題2\n",
        "---\n",
        "1. 今回，モデルの出力する確率が 0.5 を境界として 0, 1 を分けています．しかし，時には棄却域を設けて0, 1の判断を行わないことが適切である場合があります．それはどのような場合でしょうか？\n",
        "1. 棄却域を設けた場合に，以下の指示に従って，正解率を計算するプログラムを書いてください\n",
        "    - 棄却域は[0.3, 0.7]\n",
        "    - 棄却されたものは正解率の計算から除外する\n",
        "        - 正解を1, 誤りを0, 棄却されたものを-1としたときに[1, 1, 0, -1, 1, -1]の正解率は 0.75\n",
        "    - 全体の内，棄却されたものの割合も計算する\n",
        "    - モデルの予測結果と教師データは以下のコードで疑似的に作成する\n",
        "    ```python\n",
        "    # 予測結果の作成\n",
        "    pred_Y = torch.rand((100, ))\n",
        "    # 教師データの作成\n",
        "    Y = torch.rand((100, )) > 0.5\n",
        "    Y = Y.long()\n",
        "    ```"
      ],
      "metadata": {
        "id": "DF_vQsjpoUjB"
      }
    },
    {
      "cell_type": "markdown",
      "source": [
        "# ネットワークの可視化（おまけ）"
      ],
      "metadata": {
        "id": "dHO7M2y1Y4aO"
      }
    },
    {
      "cell_type": "code",
      "source": [
        "!pip install torchviz"
      ],
      "metadata": {
        "colab": {
          "base_uri": "https://localhost:8080/"
        },
        "id": "PUXEtTNOXKeM",
        "outputId": "4bf49a72-d05e-40ea-9cca-8068fa1eeeb9"
      },
      "execution_count": null,
      "outputs": [
        {
          "output_type": "stream",
          "name": "stdout",
          "text": [
            "Looking in indexes: https://pypi.org/simple, https://us-python.pkg.dev/colab-wheels/public/simple/\n",
            "Requirement already satisfied: torchviz in /usr/local/lib/python3.8/dist-packages (0.0.2)\n",
            "Requirement already satisfied: torch in /usr/local/lib/python3.8/dist-packages (from torchviz) (1.13.1+cu116)\n",
            "Requirement already satisfied: graphviz in /usr/local/lib/python3.8/dist-packages (from torchviz) (0.10.1)\n",
            "Requirement already satisfied: typing-extensions in /usr/local/lib/python3.8/dist-packages (from torch->torchviz) (4.5.0)\n"
          ]
        }
      ]
    },
    {
      "cell_type": "code",
      "source": [
        "from torchviz import make_dot"
      ],
      "metadata": {
        "id": "xihc3-CnY7wM"
      },
      "execution_count": null,
      "outputs": []
    },
    {
      "cell_type": "code",
      "source": [
        "model.zero_grad()\n",
        "pred = model(x)\n",
        "make_dot(pred, params=dict(list(model.named_parameters())))"
      ],
      "metadata": {
        "colab": {
          "base_uri": "https://localhost:8080/",
          "height": 646
        },
        "id": "3I_WOtIdY-My",
        "outputId": "31fa421e-c2dc-448c-b894-bbe11a7bb466"
      },
      "execution_count": null,
      "outputs": [
        {
          "output_type": "execute_result",
          "data": {
            "text/plain": [
              "<graphviz.dot.Digraph at 0x7f7d71ab4b20>"
            ],
            "image/svg+xml": "<?xml version=\"1.0\" encoding=\"UTF-8\" standalone=\"no\"?>\n<!DOCTYPE svg PUBLIC \"-//W3C//DTD SVG 1.1//EN\"\n \"http://www.w3.org/Graphics/SVG/1.1/DTD/svg11.dtd\">\n<!-- Generated by graphviz version 2.43.0 (0)\n -->\n<!-- Title: %3 Pages: 1 -->\n<svg width=\"383pt\" height=\"468pt\"\n viewBox=\"0.00 0.00 383.00 468.00\" xmlns=\"http://www.w3.org/2000/svg\" xmlns:xlink=\"http://www.w3.org/1999/xlink\">\n<g id=\"graph0\" class=\"graph\" transform=\"scale(1 1) rotate(0) translate(4 464)\">\n<title>%3</title>\n<polygon fill=\"white\" stroke=\"transparent\" points=\"-4,4 -4,-464 379,-464 379,4 -4,4\"/>\n<!-- 140176754956224 -->\n<g id=\"node1\" class=\"node\">\n<title>140176754956224</title>\n<polygon fill=\"#caff70\" stroke=\"black\" points=\"217,-31 158,-31 158,0 217,0 217,-31\"/>\n<text text-anchor=\"middle\" x=\"187.5\" y=\"-7\" font-family=\"monospace\" font-size=\"10.00\"> (4, 2)</text>\n</g>\n<!-- 140176754691136 -->\n<g id=\"node2\" class=\"node\">\n<title>140176754691136</title>\n<polygon fill=\"lightgrey\" stroke=\"black\" points=\"244,-86 131,-86 131,-67 244,-67 244,-86\"/>\n<text text-anchor=\"middle\" x=\"187.5\" y=\"-74\" font-family=\"monospace\" font-size=\"10.00\">SigmoidBackward0</text>\n</g>\n<!-- 140176754691136&#45;&gt;140176754956224 -->\n<g id=\"edge14\" class=\"edge\">\n<title>140176754691136&#45;&gt;140176754956224</title>\n<path fill=\"none\" stroke=\"black\" d=\"M187.5,-66.79C187.5,-60.07 187.5,-50.4 187.5,-41.34\"/>\n<polygon fill=\"black\" stroke=\"black\" points=\"191,-41.19 187.5,-31.19 184,-41.19 191,-41.19\"/>\n</g>\n<!-- 140176754691088 -->\n<g id=\"node3\" class=\"node\">\n<title>140176754691088</title>\n<polygon fill=\"lightgrey\" stroke=\"black\" points=\"238,-141 137,-141 137,-122 238,-122 238,-141\"/>\n<text text-anchor=\"middle\" x=\"187.5\" y=\"-129\" font-family=\"monospace\" font-size=\"10.00\">AddmmBackward0</text>\n</g>\n<!-- 140176754691088&#45;&gt;140176754691136 -->\n<g id=\"edge1\" class=\"edge\">\n<title>140176754691088&#45;&gt;140176754691136</title>\n<path fill=\"none\" stroke=\"black\" d=\"M187.5,-121.75C187.5,-114.8 187.5,-104.85 187.5,-96.13\"/>\n<polygon fill=\"black\" stroke=\"black\" points=\"191,-96.09 187.5,-86.09 184,-96.09 191,-96.09\"/>\n</g>\n<!-- 140176754691184 -->\n<g id=\"node4\" class=\"node\">\n<title>140176754691184</title>\n<polygon fill=\"lightgrey\" stroke=\"black\" points=\"116,-196 15,-196 15,-177 116,-177 116,-196\"/>\n<text text-anchor=\"middle\" x=\"65.5\" y=\"-184\" font-family=\"monospace\" font-size=\"10.00\">AccumulateGrad</text>\n</g>\n<!-- 140176754691184&#45;&gt;140176754691088 -->\n<g id=\"edge2\" class=\"edge\">\n<title>140176754691184&#45;&gt;140176754691088</title>\n<path fill=\"none\" stroke=\"black\" d=\"M85.1,-176.98C104.82,-168.42 135.45,-155.11 158.08,-145.28\"/>\n<polygon fill=\"black\" stroke=\"black\" points=\"159.76,-148.37 167.54,-141.17 156.98,-141.94 159.76,-148.37\"/>\n</g>\n<!-- 140176755022800 -->\n<g id=\"node5\" class=\"node\">\n<title>140176755022800</title>\n<polygon fill=\"lightblue\" stroke=\"black\" points=\"119,-262 0,-262 0,-232 119,-232 119,-262\"/>\n<text text-anchor=\"middle\" x=\"59.5\" y=\"-250\" font-family=\"monospace\" font-size=\"10.00\">output_layer.bias</text>\n<text text-anchor=\"middle\" x=\"59.5\" y=\"-239\" font-family=\"monospace\" font-size=\"10.00\"> (2)</text>\n</g>\n<!-- 140176755022800&#45;&gt;140176754691184 -->\n<g id=\"edge3\" class=\"edge\">\n<title>140176755022800&#45;&gt;140176754691184</title>\n<path fill=\"none\" stroke=\"black\" d=\"M60.95,-231.84C61.73,-224.21 62.71,-214.7 63.56,-206.45\"/>\n<polygon fill=\"black\" stroke=\"black\" points=\"67.06,-206.57 64.6,-196.27 60.1,-205.86 67.06,-206.57\"/>\n</g>\n<!-- 140176754691232 -->\n<g id=\"node6\" class=\"node\">\n<title>140176754691232</title>\n<polygon fill=\"lightgrey\" stroke=\"black\" points=\"235,-196 140,-196 140,-177 235,-177 235,-196\"/>\n<text text-anchor=\"middle\" x=\"187.5\" y=\"-184\" font-family=\"monospace\" font-size=\"10.00\">ReluBackward0</text>\n</g>\n<!-- 140176754691232&#45;&gt;140176754691088 -->\n<g id=\"edge4\" class=\"edge\">\n<title>140176754691232&#45;&gt;140176754691088</title>\n<path fill=\"none\" stroke=\"black\" d=\"M187.5,-176.75C187.5,-169.8 187.5,-159.85 187.5,-151.13\"/>\n<polygon fill=\"black\" stroke=\"black\" points=\"191,-151.09 187.5,-141.09 184,-151.09 191,-151.09\"/>\n</g>\n<!-- 140176754691280 -->\n<g id=\"node7\" class=\"node\">\n<title>140176754691280</title>\n<polygon fill=\"lightgrey\" stroke=\"black\" points=\"238,-256.5 137,-256.5 137,-237.5 238,-237.5 238,-256.5\"/>\n<text text-anchor=\"middle\" x=\"187.5\" y=\"-244.5\" font-family=\"monospace\" font-size=\"10.00\">AddmmBackward0</text>\n</g>\n<!-- 140176754691280&#45;&gt;140176754691232 -->\n<g id=\"edge5\" class=\"edge\">\n<title>140176754691280&#45;&gt;140176754691232</title>\n<path fill=\"none\" stroke=\"black\" d=\"M187.5,-237.37C187.5,-229.25 187.5,-216.81 187.5,-206.39\"/>\n<polygon fill=\"black\" stroke=\"black\" points=\"191,-206.17 187.5,-196.17 184,-206.17 191,-206.17\"/>\n</g>\n<!-- 140176754691568 -->\n<g id=\"node8\" class=\"node\">\n<title>140176754691568</title>\n<polygon fill=\"lightgrey\" stroke=\"black\" points=\"121,-322.5 20,-322.5 20,-303.5 121,-303.5 121,-322.5\"/>\n<text text-anchor=\"middle\" x=\"70.5\" y=\"-310.5\" font-family=\"monospace\" font-size=\"10.00\">AccumulateGrad</text>\n</g>\n<!-- 140176754691568&#45;&gt;140176754691280 -->\n<g id=\"edge6\" class=\"edge\">\n<title>140176754691568&#45;&gt;140176754691280</title>\n<path fill=\"none\" stroke=\"black\" d=\"M86.28,-303.37C105.91,-292.63 139.64,-274.18 162.73,-261.55\"/>\n<polygon fill=\"black\" stroke=\"black\" points=\"164.5,-264.57 171.6,-256.7 161.14,-258.43 164.5,-264.57\"/>\n</g>\n<!-- 140176754998704 -->\n<g id=\"node9\" class=\"node\">\n<title>140176754998704</title>\n<polygon fill=\"lightblue\" stroke=\"black\" points=\"125,-394 6,-394 6,-364 125,-364 125,-394\"/>\n<text text-anchor=\"middle\" x=\"65.5\" y=\"-382\" font-family=\"monospace\" font-size=\"10.00\">hidden_layer.bias</text>\n<text text-anchor=\"middle\" x=\"65.5\" y=\"-371\" font-family=\"monospace\" font-size=\"10.00\"> (5)</text>\n</g>\n<!-- 140176754998704&#45;&gt;140176754691568 -->\n<g id=\"edge7\" class=\"edge\">\n<title>140176754998704&#45;&gt;140176754691568</title>\n<path fill=\"none\" stroke=\"black\" d=\"M66.61,-363.8C67.32,-354.7 68.25,-342.79 69.02,-332.9\"/>\n<polygon fill=\"black\" stroke=\"black\" points=\"72.52,-333.09 69.81,-322.84 65.54,-332.54 72.52,-333.09\"/>\n</g>\n<!-- 140176754691472 -->\n<g id=\"node10\" class=\"node\">\n<title>140176754691472</title>\n<polygon fill=\"lightgrey\" stroke=\"black\" points=\"226,-322.5 149,-322.5 149,-303.5 226,-303.5 226,-322.5\"/>\n<text text-anchor=\"middle\" x=\"187.5\" y=\"-310.5\" font-family=\"monospace\" font-size=\"10.00\">TBackward0</text>\n</g>\n<!-- 140176754691472&#45;&gt;140176754691280 -->\n<g id=\"edge8\" class=\"edge\">\n<title>140176754691472&#45;&gt;140176754691280</title>\n<path fill=\"none\" stroke=\"black\" d=\"M187.5,-303.37C187.5,-294.16 187.5,-279.29 187.5,-267.27\"/>\n<polygon fill=\"black\" stroke=\"black\" points=\"191,-266.91 187.5,-256.91 184,-266.91 191,-266.91\"/>\n</g>\n<!-- 140176754691616 -->\n<g id=\"node11\" class=\"node\">\n<title>140176754691616</title>\n<polygon fill=\"lightgrey\" stroke=\"black\" points=\"244,-388.5 143,-388.5 143,-369.5 244,-369.5 244,-388.5\"/>\n<text text-anchor=\"middle\" x=\"193.5\" y=\"-376.5\" font-family=\"monospace\" font-size=\"10.00\">AccumulateGrad</text>\n</g>\n<!-- 140176754691616&#45;&gt;140176754691472 -->\n<g id=\"edge9\" class=\"edge\">\n<title>140176754691616&#45;&gt;140176754691472</title>\n<path fill=\"none\" stroke=\"black\" d=\"M192.69,-369.37C191.82,-360.07 190.4,-344.98 189.27,-332.9\"/>\n<polygon fill=\"black\" stroke=\"black\" points=\"192.75,-332.53 188.33,-322.91 185.78,-333.19 192.75,-332.53\"/>\n</g>\n<!-- 140176754998464 -->\n<g id=\"node12\" class=\"node\">\n<title>140176754998464</title>\n<polygon fill=\"lightblue\" stroke=\"black\" points=\"259,-460 128,-460 128,-430 259,-430 259,-460\"/>\n<text text-anchor=\"middle\" x=\"193.5\" y=\"-448\" font-family=\"monospace\" font-size=\"10.00\">hidden_layer.weight</text>\n<text text-anchor=\"middle\" x=\"193.5\" y=\"-437\" font-family=\"monospace\" font-size=\"10.00\"> (5, 2)</text>\n</g>\n<!-- 140176754998464&#45;&gt;140176754691616 -->\n<g id=\"edge10\" class=\"edge\">\n<title>140176754998464&#45;&gt;140176754691616</title>\n<path fill=\"none\" stroke=\"black\" d=\"M193.5,-429.8C193.5,-420.7 193.5,-408.79 193.5,-398.9\"/>\n<polygon fill=\"black\" stroke=\"black\" points=\"197,-398.84 193.5,-388.84 190,-398.84 197,-398.84\"/>\n</g>\n<!-- 140176754691040 -->\n<g id=\"node13\" class=\"node\">\n<title>140176754691040</title>\n<polygon fill=\"lightgrey\" stroke=\"black\" points=\"337,-196 260,-196 260,-177 337,-177 337,-196\"/>\n<text text-anchor=\"middle\" x=\"298.5\" y=\"-184\" font-family=\"monospace\" font-size=\"10.00\">TBackward0</text>\n</g>\n<!-- 140176754691040&#45;&gt;140176754691088 -->\n<g id=\"edge11\" class=\"edge\">\n<title>140176754691040&#45;&gt;140176754691088</title>\n<path fill=\"none\" stroke=\"black\" d=\"M280.67,-176.98C262.89,-168.5 235.35,-155.35 214.82,-145.54\"/>\n<polygon fill=\"black\" stroke=\"black\" points=\"216.19,-142.32 205.66,-141.17 213.17,-148.64 216.19,-142.32\"/>\n</g>\n<!-- 140176754691664 -->\n<g id=\"node14\" class=\"node\">\n<title>140176754691664</title>\n<polygon fill=\"lightgrey\" stroke=\"black\" points=\"358,-256.5 257,-256.5 257,-237.5 358,-237.5 358,-256.5\"/>\n<text text-anchor=\"middle\" x=\"307.5\" y=\"-244.5\" font-family=\"monospace\" font-size=\"10.00\">AccumulateGrad</text>\n</g>\n<!-- 140176754691664&#45;&gt;140176754691040 -->\n<g id=\"edge12\" class=\"edge\">\n<title>140176754691664&#45;&gt;140176754691040</title>\n<path fill=\"none\" stroke=\"black\" d=\"M306.17,-237.37C304.91,-229.16 302.97,-216.54 301.35,-206.05\"/>\n<polygon fill=\"black\" stroke=\"black\" points=\"304.81,-205.52 299.83,-196.17 297.89,-206.58 304.81,-205.52\"/>\n</g>\n<!-- 140176755022720 -->\n<g id=\"node15\" class=\"node\">\n<title>140176755022720</title>\n<polygon fill=\"lightblue\" stroke=\"black\" points=\"375,-328 244,-328 244,-298 375,-298 375,-328\"/>\n<text text-anchor=\"middle\" x=\"309.5\" y=\"-316\" font-family=\"monospace\" font-size=\"10.00\">output_layer.weight</text>\n<text text-anchor=\"middle\" x=\"309.5\" y=\"-305\" font-family=\"monospace\" font-size=\"10.00\"> (2, 5)</text>\n</g>\n<!-- 140176755022720&#45;&gt;140176754691664 -->\n<g id=\"edge13\" class=\"edge\">\n<title>140176755022720&#45;&gt;140176754691664</title>\n<path fill=\"none\" stroke=\"black\" d=\"M309.06,-297.8C308.77,-288.7 308.4,-276.79 308.09,-266.9\"/>\n<polygon fill=\"black\" stroke=\"black\" points=\"311.59,-266.73 307.78,-256.84 304.59,-266.95 311.59,-266.73\"/>\n</g>\n</g>\n</svg>\n"
          },
          "metadata": {},
          "execution_count": 13
        }
      ]
    },
    {
      "cell_type": "code",
      "source": [],
      "metadata": {
        "id": "Z1GbKFKKbQ1-"
      },
      "execution_count": null,
      "outputs": []
    }
  ]
}