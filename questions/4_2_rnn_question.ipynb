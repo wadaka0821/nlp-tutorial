{
  "nbformat": 4,
  "nbformat_minor": 0,
  "metadata": {
    "colab": {
      "provenance": [],
      "authorship_tag": "ABX9TyPRjCbQBbHtoyqQ6CywW8H6",
      "include_colab_link": true
    },
    "kernelspec": {
      "name": "python3",
      "display_name": "Python 3"
    },
    "language_info": {
      "name": "python"
    },
    "accelerator": "GPU",
    "gpuClass": "standard",
    "widgets": {
      "application/vnd.jupyter.widget-state+json": {
        "a3bea5c4d3404f889310a95f2d1bcb0c": {
          "model_module": "@jupyter-widgets/controls",
          "model_name": "HBoxModel",
          "model_module_version": "1.5.0",
          "state": {
            "_dom_classes": [],
            "_model_module": "@jupyter-widgets/controls",
            "_model_module_version": "1.5.0",
            "_model_name": "HBoxModel",
            "_view_count": null,
            "_view_module": "@jupyter-widgets/controls",
            "_view_module_version": "1.5.0",
            "_view_name": "HBoxView",
            "box_style": "",
            "children": [
              "IPY_MODEL_e17e33d60f6b471bb1ff2bc3a9733e44",
              "IPY_MODEL_9e5df133fe6b44d7b1c239e505e63cbe",
              "IPY_MODEL_cd69a3b8b9ad4a91921a327faa3f2490"
            ],
            "layout": "IPY_MODEL_69051195569f45119ae4d3c00fa8dab8"
          }
        },
        "e17e33d60f6b471bb1ff2bc3a9733e44": {
          "model_module": "@jupyter-widgets/controls",
          "model_name": "HTMLModel",
          "model_module_version": "1.5.0",
          "state": {
            "_dom_classes": [],
            "_model_module": "@jupyter-widgets/controls",
            "_model_module_version": "1.5.0",
            "_model_name": "HTMLModel",
            "_view_count": null,
            "_view_module": "@jupyter-widgets/controls",
            "_view_module_version": "1.5.0",
            "_view_name": "HTMLView",
            "description": "",
            "description_tooltip": null,
            "layout": "IPY_MODEL_4a96c081a5f6455782ca4a35e5f2d149",
            "placeholder": "​",
            "style": "IPY_MODEL_e687957554534d42adc457abfdab1976",
            "value": "Downloading builder script: 100%"
          }
        },
        "9e5df133fe6b44d7b1c239e505e63cbe": {
          "model_module": "@jupyter-widgets/controls",
          "model_name": "FloatProgressModel",
          "model_module_version": "1.5.0",
          "state": {
            "_dom_classes": [],
            "_model_module": "@jupyter-widgets/controls",
            "_model_module_version": "1.5.0",
            "_model_name": "FloatProgressModel",
            "_view_count": null,
            "_view_module": "@jupyter-widgets/controls",
            "_view_module_version": "1.5.0",
            "_view_name": "ProgressView",
            "bar_style": "success",
            "description": "",
            "description_tooltip": null,
            "layout": "IPY_MODEL_c11102583eb34b5aa36c954f2b42d967",
            "max": 4096,
            "min": 0,
            "orientation": "horizontal",
            "style": "IPY_MODEL_4546304008c2481491c7b5a0f3b25dae",
            "value": 4096
          }
        },
        "cd69a3b8b9ad4a91921a327faa3f2490": {
          "model_module": "@jupyter-widgets/controls",
          "model_name": "HTMLModel",
          "model_module_version": "1.5.0",
          "state": {
            "_dom_classes": [],
            "_model_module": "@jupyter-widgets/controls",
            "_model_module_version": "1.5.0",
            "_model_name": "HTMLModel",
            "_view_count": null,
            "_view_module": "@jupyter-widgets/controls",
            "_view_module_version": "1.5.0",
            "_view_name": "HTMLView",
            "description": "",
            "description_tooltip": null,
            "layout": "IPY_MODEL_34f516fdc6974e25b6c5b3c2bacfc1ae",
            "placeholder": "​",
            "style": "IPY_MODEL_634c111318194e5aa1b5ffd4c5e8c410",
            "value": " 4.10k/4.10k [00:00&lt;00:00, 187kB/s]"
          }
        },
        "69051195569f45119ae4d3c00fa8dab8": {
          "model_module": "@jupyter-widgets/base",
          "model_name": "LayoutModel",
          "model_module_version": "1.2.0",
          "state": {
            "_model_module": "@jupyter-widgets/base",
            "_model_module_version": "1.2.0",
            "_model_name": "LayoutModel",
            "_view_count": null,
            "_view_module": "@jupyter-widgets/base",
            "_view_module_version": "1.2.0",
            "_view_name": "LayoutView",
            "align_content": null,
            "align_items": null,
            "align_self": null,
            "border": null,
            "bottom": null,
            "display": null,
            "flex": null,
            "flex_flow": null,
            "grid_area": null,
            "grid_auto_columns": null,
            "grid_auto_flow": null,
            "grid_auto_rows": null,
            "grid_column": null,
            "grid_gap": null,
            "grid_row": null,
            "grid_template_areas": null,
            "grid_template_columns": null,
            "grid_template_rows": null,
            "height": null,
            "justify_content": null,
            "justify_items": null,
            "left": null,
            "margin": null,
            "max_height": null,
            "max_width": null,
            "min_height": null,
            "min_width": null,
            "object_fit": null,
            "object_position": null,
            "order": null,
            "overflow": null,
            "overflow_x": null,
            "overflow_y": null,
            "padding": null,
            "right": null,
            "top": null,
            "visibility": null,
            "width": null
          }
        },
        "4a96c081a5f6455782ca4a35e5f2d149": {
          "model_module": "@jupyter-widgets/base",
          "model_name": "LayoutModel",
          "model_module_version": "1.2.0",
          "state": {
            "_model_module": "@jupyter-widgets/base",
            "_model_module_version": "1.2.0",
            "_model_name": "LayoutModel",
            "_view_count": null,
            "_view_module": "@jupyter-widgets/base",
            "_view_module_version": "1.2.0",
            "_view_name": "LayoutView",
            "align_content": null,
            "align_items": null,
            "align_self": null,
            "border": null,
            "bottom": null,
            "display": null,
            "flex": null,
            "flex_flow": null,
            "grid_area": null,
            "grid_auto_columns": null,
            "grid_auto_flow": null,
            "grid_auto_rows": null,
            "grid_column": null,
            "grid_gap": null,
            "grid_row": null,
            "grid_template_areas": null,
            "grid_template_columns": null,
            "grid_template_rows": null,
            "height": null,
            "justify_content": null,
            "justify_items": null,
            "left": null,
            "margin": null,
            "max_height": null,
            "max_width": null,
            "min_height": null,
            "min_width": null,
            "object_fit": null,
            "object_position": null,
            "order": null,
            "overflow": null,
            "overflow_x": null,
            "overflow_y": null,
            "padding": null,
            "right": null,
            "top": null,
            "visibility": null,
            "width": null
          }
        },
        "e687957554534d42adc457abfdab1976": {
          "model_module": "@jupyter-widgets/controls",
          "model_name": "DescriptionStyleModel",
          "model_module_version": "1.5.0",
          "state": {
            "_model_module": "@jupyter-widgets/controls",
            "_model_module_version": "1.5.0",
            "_model_name": "DescriptionStyleModel",
            "_view_count": null,
            "_view_module": "@jupyter-widgets/base",
            "_view_module_version": "1.2.0",
            "_view_name": "StyleView",
            "description_width": ""
          }
        },
        "c11102583eb34b5aa36c954f2b42d967": {
          "model_module": "@jupyter-widgets/base",
          "model_name": "LayoutModel",
          "model_module_version": "1.2.0",
          "state": {
            "_model_module": "@jupyter-widgets/base",
            "_model_module_version": "1.2.0",
            "_model_name": "LayoutModel",
            "_view_count": null,
            "_view_module": "@jupyter-widgets/base",
            "_view_module_version": "1.2.0",
            "_view_name": "LayoutView",
            "align_content": null,
            "align_items": null,
            "align_self": null,
            "border": null,
            "bottom": null,
            "display": null,
            "flex": null,
            "flex_flow": null,
            "grid_area": null,
            "grid_auto_columns": null,
            "grid_auto_flow": null,
            "grid_auto_rows": null,
            "grid_column": null,
            "grid_gap": null,
            "grid_row": null,
            "grid_template_areas": null,
            "grid_template_columns": null,
            "grid_template_rows": null,
            "height": null,
            "justify_content": null,
            "justify_items": null,
            "left": null,
            "margin": null,
            "max_height": null,
            "max_width": null,
            "min_height": null,
            "min_width": null,
            "object_fit": null,
            "object_position": null,
            "order": null,
            "overflow": null,
            "overflow_x": null,
            "overflow_y": null,
            "padding": null,
            "right": null,
            "top": null,
            "visibility": null,
            "width": null
          }
        },
        "4546304008c2481491c7b5a0f3b25dae": {
          "model_module": "@jupyter-widgets/controls",
          "model_name": "ProgressStyleModel",
          "model_module_version": "1.5.0",
          "state": {
            "_model_module": "@jupyter-widgets/controls",
            "_model_module_version": "1.5.0",
            "_model_name": "ProgressStyleModel",
            "_view_count": null,
            "_view_module": "@jupyter-widgets/base",
            "_view_module_version": "1.2.0",
            "_view_name": "StyleView",
            "bar_color": null,
            "description_width": ""
          }
        },
        "34f516fdc6974e25b6c5b3c2bacfc1ae": {
          "model_module": "@jupyter-widgets/base",
          "model_name": "LayoutModel",
          "model_module_version": "1.2.0",
          "state": {
            "_model_module": "@jupyter-widgets/base",
            "_model_module_version": "1.2.0",
            "_model_name": "LayoutModel",
            "_view_count": null,
            "_view_module": "@jupyter-widgets/base",
            "_view_module_version": "1.2.0",
            "_view_name": "LayoutView",
            "align_content": null,
            "align_items": null,
            "align_self": null,
            "border": null,
            "bottom": null,
            "display": null,
            "flex": null,
            "flex_flow": null,
            "grid_area": null,
            "grid_auto_columns": null,
            "grid_auto_flow": null,
            "grid_auto_rows": null,
            "grid_column": null,
            "grid_gap": null,
            "grid_row": null,
            "grid_template_areas": null,
            "grid_template_columns": null,
            "grid_template_rows": null,
            "height": null,
            "justify_content": null,
            "justify_items": null,
            "left": null,
            "margin": null,
            "max_height": null,
            "max_width": null,
            "min_height": null,
            "min_width": null,
            "object_fit": null,
            "object_position": null,
            "order": null,
            "overflow": null,
            "overflow_x": null,
            "overflow_y": null,
            "padding": null,
            "right": null,
            "top": null,
            "visibility": null,
            "width": null
          }
        },
        "634c111318194e5aa1b5ffd4c5e8c410": {
          "model_module": "@jupyter-widgets/controls",
          "model_name": "DescriptionStyleModel",
          "model_module_version": "1.5.0",
          "state": {
            "_model_module": "@jupyter-widgets/controls",
            "_model_module_version": "1.5.0",
            "_model_name": "DescriptionStyleModel",
            "_view_count": null,
            "_view_module": "@jupyter-widgets/base",
            "_view_module_version": "1.2.0",
            "_view_name": "StyleView",
            "description_width": ""
          }
        },
        "a047af43c43844ffb9b8ee6748bf2a85": {
          "model_module": "@jupyter-widgets/controls",
          "model_name": "HBoxModel",
          "model_module_version": "1.5.0",
          "state": {
            "_dom_classes": [],
            "_model_module": "@jupyter-widgets/controls",
            "_model_module_version": "1.5.0",
            "_model_name": "HBoxModel",
            "_view_count": null,
            "_view_module": "@jupyter-widgets/controls",
            "_view_module_version": "1.5.0",
            "_view_name": "HBoxView",
            "box_style": "",
            "children": [
              "IPY_MODEL_78a32042a68c44b3a30f8a7ae095414d",
              "IPY_MODEL_9941daef50b14e91afbeca80630ab676",
              "IPY_MODEL_a837a79d69884890ae6a0e460a5f4221"
            ],
            "layout": "IPY_MODEL_f30bfd83716e4bc78ba0935ca2bd43d4"
          }
        },
        "78a32042a68c44b3a30f8a7ae095414d": {
          "model_module": "@jupyter-widgets/controls",
          "model_name": "HTMLModel",
          "model_module_version": "1.5.0",
          "state": {
            "_dom_classes": [],
            "_model_module": "@jupyter-widgets/controls",
            "_model_module_version": "1.5.0",
            "_model_name": "HTMLModel",
            "_view_count": null,
            "_view_module": "@jupyter-widgets/controls",
            "_view_module_version": "1.5.0",
            "_view_name": "HTMLView",
            "description": "",
            "description_tooltip": null,
            "layout": "IPY_MODEL_38df5dee47e44132ae1d0e0561b2b0b6",
            "placeholder": "​",
            "style": "IPY_MODEL_3771c717fcd543d4ae8248803570ac58",
            "value": "Downloading metadata: 100%"
          }
        },
        "9941daef50b14e91afbeca80630ab676": {
          "model_module": "@jupyter-widgets/controls",
          "model_name": "FloatProgressModel",
          "model_module_version": "1.5.0",
          "state": {
            "_dom_classes": [],
            "_model_module": "@jupyter-widgets/controls",
            "_model_module_version": "1.5.0",
            "_model_name": "FloatProgressModel",
            "_view_count": null,
            "_view_module": "@jupyter-widgets/controls",
            "_view_module_version": "1.5.0",
            "_view_name": "ProgressView",
            "bar_style": "success",
            "description": "",
            "description_tooltip": null,
            "layout": "IPY_MODEL_b215aac4e5e0488e94d5b2aef9cd53bf",
            "max": 2395,
            "min": 0,
            "orientation": "horizontal",
            "style": "IPY_MODEL_ff058eb4c7d44e7f89d99413407a3f6b",
            "value": 2395
          }
        },
        "a837a79d69884890ae6a0e460a5f4221": {
          "model_module": "@jupyter-widgets/controls",
          "model_name": "HTMLModel",
          "model_module_version": "1.5.0",
          "state": {
            "_dom_classes": [],
            "_model_module": "@jupyter-widgets/controls",
            "_model_module_version": "1.5.0",
            "_model_name": "HTMLModel",
            "_view_count": null,
            "_view_module": "@jupyter-widgets/controls",
            "_view_module_version": "1.5.0",
            "_view_name": "HTMLView",
            "description": "",
            "description_tooltip": null,
            "layout": "IPY_MODEL_8fb7da99ca52486ca241e5a8d2a26874",
            "placeholder": "​",
            "style": "IPY_MODEL_a7877cb28ae44e899c7bb9392e3c2e0c",
            "value": " 2.40k/2.40k [00:00&lt;00:00, 121kB/s]"
          }
        },
        "f30bfd83716e4bc78ba0935ca2bd43d4": {
          "model_module": "@jupyter-widgets/base",
          "model_name": "LayoutModel",
          "model_module_version": "1.2.0",
          "state": {
            "_model_module": "@jupyter-widgets/base",
            "_model_module_version": "1.2.0",
            "_model_name": "LayoutModel",
            "_view_count": null,
            "_view_module": "@jupyter-widgets/base",
            "_view_module_version": "1.2.0",
            "_view_name": "LayoutView",
            "align_content": null,
            "align_items": null,
            "align_self": null,
            "border": null,
            "bottom": null,
            "display": null,
            "flex": null,
            "flex_flow": null,
            "grid_area": null,
            "grid_auto_columns": null,
            "grid_auto_flow": null,
            "grid_auto_rows": null,
            "grid_column": null,
            "grid_gap": null,
            "grid_row": null,
            "grid_template_areas": null,
            "grid_template_columns": null,
            "grid_template_rows": null,
            "height": null,
            "justify_content": null,
            "justify_items": null,
            "left": null,
            "margin": null,
            "max_height": null,
            "max_width": null,
            "min_height": null,
            "min_width": null,
            "object_fit": null,
            "object_position": null,
            "order": null,
            "overflow": null,
            "overflow_x": null,
            "overflow_y": null,
            "padding": null,
            "right": null,
            "top": null,
            "visibility": null,
            "width": null
          }
        },
        "38df5dee47e44132ae1d0e0561b2b0b6": {
          "model_module": "@jupyter-widgets/base",
          "model_name": "LayoutModel",
          "model_module_version": "1.2.0",
          "state": {
            "_model_module": "@jupyter-widgets/base",
            "_model_module_version": "1.2.0",
            "_model_name": "LayoutModel",
            "_view_count": null,
            "_view_module": "@jupyter-widgets/base",
            "_view_module_version": "1.2.0",
            "_view_name": "LayoutView",
            "align_content": null,
            "align_items": null,
            "align_self": null,
            "border": null,
            "bottom": null,
            "display": null,
            "flex": null,
            "flex_flow": null,
            "grid_area": null,
            "grid_auto_columns": null,
            "grid_auto_flow": null,
            "grid_auto_rows": null,
            "grid_column": null,
            "grid_gap": null,
            "grid_row": null,
            "grid_template_areas": null,
            "grid_template_columns": null,
            "grid_template_rows": null,
            "height": null,
            "justify_content": null,
            "justify_items": null,
            "left": null,
            "margin": null,
            "max_height": null,
            "max_width": null,
            "min_height": null,
            "min_width": null,
            "object_fit": null,
            "object_position": null,
            "order": null,
            "overflow": null,
            "overflow_x": null,
            "overflow_y": null,
            "padding": null,
            "right": null,
            "top": null,
            "visibility": null,
            "width": null
          }
        },
        "3771c717fcd543d4ae8248803570ac58": {
          "model_module": "@jupyter-widgets/controls",
          "model_name": "DescriptionStyleModel",
          "model_module_version": "1.5.0",
          "state": {
            "_model_module": "@jupyter-widgets/controls",
            "_model_module_version": "1.5.0",
            "_model_name": "DescriptionStyleModel",
            "_view_count": null,
            "_view_module": "@jupyter-widgets/base",
            "_view_module_version": "1.2.0",
            "_view_name": "StyleView",
            "description_width": ""
          }
        },
        "b215aac4e5e0488e94d5b2aef9cd53bf": {
          "model_module": "@jupyter-widgets/base",
          "model_name": "LayoutModel",
          "model_module_version": "1.2.0",
          "state": {
            "_model_module": "@jupyter-widgets/base",
            "_model_module_version": "1.2.0",
            "_model_name": "LayoutModel",
            "_view_count": null,
            "_view_module": "@jupyter-widgets/base",
            "_view_module_version": "1.2.0",
            "_view_name": "LayoutView",
            "align_content": null,
            "align_items": null,
            "align_self": null,
            "border": null,
            "bottom": null,
            "display": null,
            "flex": null,
            "flex_flow": null,
            "grid_area": null,
            "grid_auto_columns": null,
            "grid_auto_flow": null,
            "grid_auto_rows": null,
            "grid_column": null,
            "grid_gap": null,
            "grid_row": null,
            "grid_template_areas": null,
            "grid_template_columns": null,
            "grid_template_rows": null,
            "height": null,
            "justify_content": null,
            "justify_items": null,
            "left": null,
            "margin": null,
            "max_height": null,
            "max_width": null,
            "min_height": null,
            "min_width": null,
            "object_fit": null,
            "object_position": null,
            "order": null,
            "overflow": null,
            "overflow_x": null,
            "overflow_y": null,
            "padding": null,
            "right": null,
            "top": null,
            "visibility": null,
            "width": null
          }
        },
        "ff058eb4c7d44e7f89d99413407a3f6b": {
          "model_module": "@jupyter-widgets/controls",
          "model_name": "ProgressStyleModel",
          "model_module_version": "1.5.0",
          "state": {
            "_model_module": "@jupyter-widgets/controls",
            "_model_module_version": "1.5.0",
            "_model_name": "ProgressStyleModel",
            "_view_count": null,
            "_view_module": "@jupyter-widgets/base",
            "_view_module_version": "1.2.0",
            "_view_name": "StyleView",
            "bar_color": null,
            "description_width": ""
          }
        },
        "8fb7da99ca52486ca241e5a8d2a26874": {
          "model_module": "@jupyter-widgets/base",
          "model_name": "LayoutModel",
          "model_module_version": "1.2.0",
          "state": {
            "_model_module": "@jupyter-widgets/base",
            "_model_module_version": "1.2.0",
            "_model_name": "LayoutModel",
            "_view_count": null,
            "_view_module": "@jupyter-widgets/base",
            "_view_module_version": "1.2.0",
            "_view_name": "LayoutView",
            "align_content": null,
            "align_items": null,
            "align_self": null,
            "border": null,
            "bottom": null,
            "display": null,
            "flex": null,
            "flex_flow": null,
            "grid_area": null,
            "grid_auto_columns": null,
            "grid_auto_flow": null,
            "grid_auto_rows": null,
            "grid_column": null,
            "grid_gap": null,
            "grid_row": null,
            "grid_template_areas": null,
            "grid_template_columns": null,
            "grid_template_rows": null,
            "height": null,
            "justify_content": null,
            "justify_items": null,
            "left": null,
            "margin": null,
            "max_height": null,
            "max_width": null,
            "min_height": null,
            "min_width": null,
            "object_fit": null,
            "object_position": null,
            "order": null,
            "overflow": null,
            "overflow_x": null,
            "overflow_y": null,
            "padding": null,
            "right": null,
            "top": null,
            "visibility": null,
            "width": null
          }
        },
        "a7877cb28ae44e899c7bb9392e3c2e0c": {
          "model_module": "@jupyter-widgets/controls",
          "model_name": "DescriptionStyleModel",
          "model_module_version": "1.5.0",
          "state": {
            "_model_module": "@jupyter-widgets/controls",
            "_model_module_version": "1.5.0",
            "_model_name": "DescriptionStyleModel",
            "_view_count": null,
            "_view_module": "@jupyter-widgets/base",
            "_view_module_version": "1.2.0",
            "_view_name": "StyleView",
            "description_width": ""
          }
        },
        "9ad5afcb7ec14649b67a88d12ac1248e": {
          "model_module": "@jupyter-widgets/controls",
          "model_name": "HBoxModel",
          "model_module_version": "1.5.0",
          "state": {
            "_dom_classes": [],
            "_model_module": "@jupyter-widgets/controls",
            "_model_module_version": "1.5.0",
            "_model_name": "HBoxModel",
            "_view_count": null,
            "_view_module": "@jupyter-widgets/controls",
            "_view_module_version": "1.5.0",
            "_view_name": "HBoxView",
            "box_style": "",
            "children": [
              "IPY_MODEL_b6c962c1c3e54456abd874aa1f08428d",
              "IPY_MODEL_552805e3717048849f0e471f9bec4f86",
              "IPY_MODEL_06b52335046a48b1a954910e1f46ecf5"
            ],
            "layout": "IPY_MODEL_55d90d476a754a0fa32553163e1efe79"
          }
        },
        "b6c962c1c3e54456abd874aa1f08428d": {
          "model_module": "@jupyter-widgets/controls",
          "model_name": "HTMLModel",
          "model_module_version": "1.5.0",
          "state": {
            "_dom_classes": [],
            "_model_module": "@jupyter-widgets/controls",
            "_model_module_version": "1.5.0",
            "_model_name": "HTMLModel",
            "_view_count": null,
            "_view_module": "@jupyter-widgets/controls",
            "_view_module_version": "1.5.0",
            "_view_name": "HTMLView",
            "description": "",
            "description_tooltip": null,
            "layout": "IPY_MODEL_bbefc305f892407d8d787aa4534370ff",
            "placeholder": "​",
            "style": "IPY_MODEL_121a1beaa88f41e2b346c3da83e4b26e",
            "value": "Downloading readme: 100%"
          }
        },
        "552805e3717048849f0e471f9bec4f86": {
          "model_module": "@jupyter-widgets/controls",
          "model_name": "FloatProgressModel",
          "model_module_version": "1.5.0",
          "state": {
            "_dom_classes": [],
            "_model_module": "@jupyter-widgets/controls",
            "_model_module_version": "1.5.0",
            "_model_name": "FloatProgressModel",
            "_view_count": null,
            "_view_module": "@jupyter-widgets/controls",
            "_view_module_version": "1.5.0",
            "_view_name": "ProgressView",
            "bar_style": "success",
            "description": "",
            "description_tooltip": null,
            "layout": "IPY_MODEL_ad83a08faa414942a633df72e7bf6a5a",
            "max": 6990,
            "min": 0,
            "orientation": "horizontal",
            "style": "IPY_MODEL_ddd54afc4c0b49f78316c3a768586f49",
            "value": 6990
          }
        },
        "06b52335046a48b1a954910e1f46ecf5": {
          "model_module": "@jupyter-widgets/controls",
          "model_name": "HTMLModel",
          "model_module_version": "1.5.0",
          "state": {
            "_dom_classes": [],
            "_model_module": "@jupyter-widgets/controls",
            "_model_module_version": "1.5.0",
            "_model_name": "HTMLModel",
            "_view_count": null,
            "_view_module": "@jupyter-widgets/controls",
            "_view_module_version": "1.5.0",
            "_view_name": "HTMLView",
            "description": "",
            "description_tooltip": null,
            "layout": "IPY_MODEL_0caf095d38814ddc823a0a2b606ad099",
            "placeholder": "​",
            "style": "IPY_MODEL_a0c5f1223ff54abe89bd79c92d908300",
            "value": " 6.99k/6.99k [00:00&lt;00:00, 300kB/s]"
          }
        },
        "55d90d476a754a0fa32553163e1efe79": {
          "model_module": "@jupyter-widgets/base",
          "model_name": "LayoutModel",
          "model_module_version": "1.2.0",
          "state": {
            "_model_module": "@jupyter-widgets/base",
            "_model_module_version": "1.2.0",
            "_model_name": "LayoutModel",
            "_view_count": null,
            "_view_module": "@jupyter-widgets/base",
            "_view_module_version": "1.2.0",
            "_view_name": "LayoutView",
            "align_content": null,
            "align_items": null,
            "align_self": null,
            "border": null,
            "bottom": null,
            "display": null,
            "flex": null,
            "flex_flow": null,
            "grid_area": null,
            "grid_auto_columns": null,
            "grid_auto_flow": null,
            "grid_auto_rows": null,
            "grid_column": null,
            "grid_gap": null,
            "grid_row": null,
            "grid_template_areas": null,
            "grid_template_columns": null,
            "grid_template_rows": null,
            "height": null,
            "justify_content": null,
            "justify_items": null,
            "left": null,
            "margin": null,
            "max_height": null,
            "max_width": null,
            "min_height": null,
            "min_width": null,
            "object_fit": null,
            "object_position": null,
            "order": null,
            "overflow": null,
            "overflow_x": null,
            "overflow_y": null,
            "padding": null,
            "right": null,
            "top": null,
            "visibility": null,
            "width": null
          }
        },
        "bbefc305f892407d8d787aa4534370ff": {
          "model_module": "@jupyter-widgets/base",
          "model_name": "LayoutModel",
          "model_module_version": "1.2.0",
          "state": {
            "_model_module": "@jupyter-widgets/base",
            "_model_module_version": "1.2.0",
            "_model_name": "LayoutModel",
            "_view_count": null,
            "_view_module": "@jupyter-widgets/base",
            "_view_module_version": "1.2.0",
            "_view_name": "LayoutView",
            "align_content": null,
            "align_items": null,
            "align_self": null,
            "border": null,
            "bottom": null,
            "display": null,
            "flex": null,
            "flex_flow": null,
            "grid_area": null,
            "grid_auto_columns": null,
            "grid_auto_flow": null,
            "grid_auto_rows": null,
            "grid_column": null,
            "grid_gap": null,
            "grid_row": null,
            "grid_template_areas": null,
            "grid_template_columns": null,
            "grid_template_rows": null,
            "height": null,
            "justify_content": null,
            "justify_items": null,
            "left": null,
            "margin": null,
            "max_height": null,
            "max_width": null,
            "min_height": null,
            "min_width": null,
            "object_fit": null,
            "object_position": null,
            "order": null,
            "overflow": null,
            "overflow_x": null,
            "overflow_y": null,
            "padding": null,
            "right": null,
            "top": null,
            "visibility": null,
            "width": null
          }
        },
        "121a1beaa88f41e2b346c3da83e4b26e": {
          "model_module": "@jupyter-widgets/controls",
          "model_name": "DescriptionStyleModel",
          "model_module_version": "1.5.0",
          "state": {
            "_model_module": "@jupyter-widgets/controls",
            "_model_module_version": "1.5.0",
            "_model_name": "DescriptionStyleModel",
            "_view_count": null,
            "_view_module": "@jupyter-widgets/base",
            "_view_module_version": "1.2.0",
            "_view_name": "StyleView",
            "description_width": ""
          }
        },
        "ad83a08faa414942a633df72e7bf6a5a": {
          "model_module": "@jupyter-widgets/base",
          "model_name": "LayoutModel",
          "model_module_version": "1.2.0",
          "state": {
            "_model_module": "@jupyter-widgets/base",
            "_model_module_version": "1.2.0",
            "_model_name": "LayoutModel",
            "_view_count": null,
            "_view_module": "@jupyter-widgets/base",
            "_view_module_version": "1.2.0",
            "_view_name": "LayoutView",
            "align_content": null,
            "align_items": null,
            "align_self": null,
            "border": null,
            "bottom": null,
            "display": null,
            "flex": null,
            "flex_flow": null,
            "grid_area": null,
            "grid_auto_columns": null,
            "grid_auto_flow": null,
            "grid_auto_rows": null,
            "grid_column": null,
            "grid_gap": null,
            "grid_row": null,
            "grid_template_areas": null,
            "grid_template_columns": null,
            "grid_template_rows": null,
            "height": null,
            "justify_content": null,
            "justify_items": null,
            "left": null,
            "margin": null,
            "max_height": null,
            "max_width": null,
            "min_height": null,
            "min_width": null,
            "object_fit": null,
            "object_position": null,
            "order": null,
            "overflow": null,
            "overflow_x": null,
            "overflow_y": null,
            "padding": null,
            "right": null,
            "top": null,
            "visibility": null,
            "width": null
          }
        },
        "ddd54afc4c0b49f78316c3a768586f49": {
          "model_module": "@jupyter-widgets/controls",
          "model_name": "ProgressStyleModel",
          "model_module_version": "1.5.0",
          "state": {
            "_model_module": "@jupyter-widgets/controls",
            "_model_module_version": "1.5.0",
            "_model_name": "ProgressStyleModel",
            "_view_count": null,
            "_view_module": "@jupyter-widgets/base",
            "_view_module_version": "1.2.0",
            "_view_name": "StyleView",
            "bar_color": null,
            "description_width": ""
          }
        },
        "0caf095d38814ddc823a0a2b606ad099": {
          "model_module": "@jupyter-widgets/base",
          "model_name": "LayoutModel",
          "model_module_version": "1.2.0",
          "state": {
            "_model_module": "@jupyter-widgets/base",
            "_model_module_version": "1.2.0",
            "_model_name": "LayoutModel",
            "_view_count": null,
            "_view_module": "@jupyter-widgets/base",
            "_view_module_version": "1.2.0",
            "_view_name": "LayoutView",
            "align_content": null,
            "align_items": null,
            "align_self": null,
            "border": null,
            "bottom": null,
            "display": null,
            "flex": null,
            "flex_flow": null,
            "grid_area": null,
            "grid_auto_columns": null,
            "grid_auto_flow": null,
            "grid_auto_rows": null,
            "grid_column": null,
            "grid_gap": null,
            "grid_row": null,
            "grid_template_areas": null,
            "grid_template_columns": null,
            "grid_template_rows": null,
            "height": null,
            "justify_content": null,
            "justify_items": null,
            "left": null,
            "margin": null,
            "max_height": null,
            "max_width": null,
            "min_height": null,
            "min_width": null,
            "object_fit": null,
            "object_position": null,
            "order": null,
            "overflow": null,
            "overflow_x": null,
            "overflow_y": null,
            "padding": null,
            "right": null,
            "top": null,
            "visibility": null,
            "width": null
          }
        },
        "a0c5f1223ff54abe89bd79c92d908300": {
          "model_module": "@jupyter-widgets/controls",
          "model_name": "DescriptionStyleModel",
          "model_module_version": "1.5.0",
          "state": {
            "_model_module": "@jupyter-widgets/controls",
            "_model_module_version": "1.5.0",
            "_model_name": "DescriptionStyleModel",
            "_view_count": null,
            "_view_module": "@jupyter-widgets/base",
            "_view_module_version": "1.2.0",
            "_view_name": "StyleView",
            "description_width": ""
          }
        },
        "bbbe7efd36be40a9b62b5c6c6f5953ed": {
          "model_module": "@jupyter-widgets/controls",
          "model_name": "HBoxModel",
          "model_module_version": "1.5.0",
          "state": {
            "_dom_classes": [],
            "_model_module": "@jupyter-widgets/controls",
            "_model_module_version": "1.5.0",
            "_model_name": "HBoxModel",
            "_view_count": null,
            "_view_module": "@jupyter-widgets/controls",
            "_view_module_version": "1.5.0",
            "_view_name": "HBoxView",
            "box_style": "",
            "children": [
              "IPY_MODEL_9f87614440b14b8d94cc8aad51a91ab7",
              "IPY_MODEL_776c7060c9594b338063df269230ba4b",
              "IPY_MODEL_4066c141871446b2b5ad9add823bb105"
            ],
            "layout": "IPY_MODEL_02ba0e2afdb148ea8edb691098da7862"
          }
        },
        "9f87614440b14b8d94cc8aad51a91ab7": {
          "model_module": "@jupyter-widgets/controls",
          "model_name": "HTMLModel",
          "model_module_version": "1.5.0",
          "state": {
            "_dom_classes": [],
            "_model_module": "@jupyter-widgets/controls",
            "_model_module_version": "1.5.0",
            "_model_name": "HTMLModel",
            "_view_count": null,
            "_view_module": "@jupyter-widgets/controls",
            "_view_module_version": "1.5.0",
            "_view_name": "HTMLView",
            "description": "",
            "description_tooltip": null,
            "layout": "IPY_MODEL_b2aecd862c6349d4b1a8b46d9ba0a2c0",
            "placeholder": "​",
            "style": "IPY_MODEL_dab40a548084478cb28ae81dde9e5669",
            "value": "Downloading data: 100%"
          }
        },
        "776c7060c9594b338063df269230ba4b": {
          "model_module": "@jupyter-widgets/controls",
          "model_name": "FloatProgressModel",
          "model_module_version": "1.5.0",
          "state": {
            "_dom_classes": [],
            "_model_module": "@jupyter-widgets/controls",
            "_model_module_version": "1.5.0",
            "_model_name": "FloatProgressModel",
            "_view_count": null,
            "_view_module": "@jupyter-widgets/controls",
            "_view_module_version": "1.5.0",
            "_view_name": "ProgressView",
            "bar_style": "success",
            "description": "",
            "description_tooltip": null,
            "layout": "IPY_MODEL_39db5d8157194e1c807546d97770d0c6",
            "max": 1845699,
            "min": 0,
            "orientation": "horizontal",
            "style": "IPY_MODEL_2d48f4399dfd49b4a57883c086ba5e94",
            "value": 1845699
          }
        },
        "4066c141871446b2b5ad9add823bb105": {
          "model_module": "@jupyter-widgets/controls",
          "model_name": "HTMLModel",
          "model_module_version": "1.5.0",
          "state": {
            "_dom_classes": [],
            "_model_module": "@jupyter-widgets/controls",
            "_model_module_version": "1.5.0",
            "_model_name": "HTMLModel",
            "_view_count": null,
            "_view_module": "@jupyter-widgets/controls",
            "_view_module_version": "1.5.0",
            "_view_name": "HTMLView",
            "description": "",
            "description_tooltip": null,
            "layout": "IPY_MODEL_78dc3dfa537043aa99ec9158c1b1a31d",
            "placeholder": "​",
            "style": "IPY_MODEL_499e13d5f28b4e418b6d83a561ae195b",
            "value": " 1.85M/1.85M [00:00&lt;00:00, 22.6MB/s]"
          }
        },
        "02ba0e2afdb148ea8edb691098da7862": {
          "model_module": "@jupyter-widgets/base",
          "model_name": "LayoutModel",
          "model_module_version": "1.2.0",
          "state": {
            "_model_module": "@jupyter-widgets/base",
            "_model_module_version": "1.2.0",
            "_model_name": "LayoutModel",
            "_view_count": null,
            "_view_module": "@jupyter-widgets/base",
            "_view_module_version": "1.2.0",
            "_view_name": "LayoutView",
            "align_content": null,
            "align_items": null,
            "align_self": null,
            "border": null,
            "bottom": null,
            "display": null,
            "flex": null,
            "flex_flow": null,
            "grid_area": null,
            "grid_auto_columns": null,
            "grid_auto_flow": null,
            "grid_auto_rows": null,
            "grid_column": null,
            "grid_gap": null,
            "grid_row": null,
            "grid_template_areas": null,
            "grid_template_columns": null,
            "grid_template_rows": null,
            "height": null,
            "justify_content": null,
            "justify_items": null,
            "left": null,
            "margin": null,
            "max_height": null,
            "max_width": null,
            "min_height": null,
            "min_width": null,
            "object_fit": null,
            "object_position": null,
            "order": null,
            "overflow": null,
            "overflow_x": null,
            "overflow_y": null,
            "padding": null,
            "right": null,
            "top": null,
            "visibility": null,
            "width": null
          }
        },
        "b2aecd862c6349d4b1a8b46d9ba0a2c0": {
          "model_module": "@jupyter-widgets/base",
          "model_name": "LayoutModel",
          "model_module_version": "1.2.0",
          "state": {
            "_model_module": "@jupyter-widgets/base",
            "_model_module_version": "1.2.0",
            "_model_name": "LayoutModel",
            "_view_count": null,
            "_view_module": "@jupyter-widgets/base",
            "_view_module_version": "1.2.0",
            "_view_name": "LayoutView",
            "align_content": null,
            "align_items": null,
            "align_self": null,
            "border": null,
            "bottom": null,
            "display": null,
            "flex": null,
            "flex_flow": null,
            "grid_area": null,
            "grid_auto_columns": null,
            "grid_auto_flow": null,
            "grid_auto_rows": null,
            "grid_column": null,
            "grid_gap": null,
            "grid_row": null,
            "grid_template_areas": null,
            "grid_template_columns": null,
            "grid_template_rows": null,
            "height": null,
            "justify_content": null,
            "justify_items": null,
            "left": null,
            "margin": null,
            "max_height": null,
            "max_width": null,
            "min_height": null,
            "min_width": null,
            "object_fit": null,
            "object_position": null,
            "order": null,
            "overflow": null,
            "overflow_x": null,
            "overflow_y": null,
            "padding": null,
            "right": null,
            "top": null,
            "visibility": null,
            "width": null
          }
        },
        "dab40a548084478cb28ae81dde9e5669": {
          "model_module": "@jupyter-widgets/controls",
          "model_name": "DescriptionStyleModel",
          "model_module_version": "1.5.0",
          "state": {
            "_model_module": "@jupyter-widgets/controls",
            "_model_module_version": "1.5.0",
            "_model_name": "DescriptionStyleModel",
            "_view_count": null,
            "_view_module": "@jupyter-widgets/base",
            "_view_module_version": "1.2.0",
            "_view_name": "StyleView",
            "description_width": ""
          }
        },
        "39db5d8157194e1c807546d97770d0c6": {
          "model_module": "@jupyter-widgets/base",
          "model_name": "LayoutModel",
          "model_module_version": "1.2.0",
          "state": {
            "_model_module": "@jupyter-widgets/base",
            "_model_module_version": "1.2.0",
            "_model_name": "LayoutModel",
            "_view_count": null,
            "_view_module": "@jupyter-widgets/base",
            "_view_module_version": "1.2.0",
            "_view_name": "LayoutView",
            "align_content": null,
            "align_items": null,
            "align_self": null,
            "border": null,
            "bottom": null,
            "display": null,
            "flex": null,
            "flex_flow": null,
            "grid_area": null,
            "grid_auto_columns": null,
            "grid_auto_flow": null,
            "grid_auto_rows": null,
            "grid_column": null,
            "grid_gap": null,
            "grid_row": null,
            "grid_template_areas": null,
            "grid_template_columns": null,
            "grid_template_rows": null,
            "height": null,
            "justify_content": null,
            "justify_items": null,
            "left": null,
            "margin": null,
            "max_height": null,
            "max_width": null,
            "min_height": null,
            "min_width": null,
            "object_fit": null,
            "object_position": null,
            "order": null,
            "overflow": null,
            "overflow_x": null,
            "overflow_y": null,
            "padding": null,
            "right": null,
            "top": null,
            "visibility": null,
            "width": null
          }
        },
        "2d48f4399dfd49b4a57883c086ba5e94": {
          "model_module": "@jupyter-widgets/controls",
          "model_name": "ProgressStyleModel",
          "model_module_version": "1.5.0",
          "state": {
            "_model_module": "@jupyter-widgets/controls",
            "_model_module_version": "1.5.0",
            "_model_name": "ProgressStyleModel",
            "_view_count": null,
            "_view_module": "@jupyter-widgets/base",
            "_view_module_version": "1.2.0",
            "_view_name": "StyleView",
            "bar_color": null,
            "description_width": ""
          }
        },
        "78dc3dfa537043aa99ec9158c1b1a31d": {
          "model_module": "@jupyter-widgets/base",
          "model_name": "LayoutModel",
          "model_module_version": "1.2.0",
          "state": {
            "_model_module": "@jupyter-widgets/base",
            "_model_module_version": "1.2.0",
            "_model_name": "LayoutModel",
            "_view_count": null,
            "_view_module": "@jupyter-widgets/base",
            "_view_module_version": "1.2.0",
            "_view_name": "LayoutView",
            "align_content": null,
            "align_items": null,
            "align_self": null,
            "border": null,
            "bottom": null,
            "display": null,
            "flex": null,
            "flex_flow": null,
            "grid_area": null,
            "grid_auto_columns": null,
            "grid_auto_flow": null,
            "grid_auto_rows": null,
            "grid_column": null,
            "grid_gap": null,
            "grid_row": null,
            "grid_template_areas": null,
            "grid_template_columns": null,
            "grid_template_rows": null,
            "height": null,
            "justify_content": null,
            "justify_items": null,
            "left": null,
            "margin": null,
            "max_height": null,
            "max_width": null,
            "min_height": null,
            "min_width": null,
            "object_fit": null,
            "object_position": null,
            "order": null,
            "overflow": null,
            "overflow_x": null,
            "overflow_y": null,
            "padding": null,
            "right": null,
            "top": null,
            "visibility": null,
            "width": null
          }
        },
        "499e13d5f28b4e418b6d83a561ae195b": {
          "model_module": "@jupyter-widgets/controls",
          "model_name": "DescriptionStyleModel",
          "model_module_version": "1.5.0",
          "state": {
            "_model_module": "@jupyter-widgets/controls",
            "_model_module_version": "1.5.0",
            "_model_name": "DescriptionStyleModel",
            "_view_count": null,
            "_view_module": "@jupyter-widgets/base",
            "_view_module_version": "1.2.0",
            "_view_name": "StyleView",
            "description_width": ""
          }
        },
        "65b7970f72ca4e9e83e96b09b8286206": {
          "model_module": "@jupyter-widgets/controls",
          "model_name": "HBoxModel",
          "model_module_version": "1.5.0",
          "state": {
            "_dom_classes": [],
            "_model_module": "@jupyter-widgets/controls",
            "_model_module_version": "1.5.0",
            "_model_name": "HBoxModel",
            "_view_count": null,
            "_view_module": "@jupyter-widgets/controls",
            "_view_module_version": "1.5.0",
            "_view_name": "HBoxView",
            "box_style": "",
            "children": [
              "IPY_MODEL_2d7607a81fab45ba8488411d6149e89c",
              "IPY_MODEL_3385a2be44af4965bac1bfffd2659215",
              "IPY_MODEL_31caf8bd997b455facd1a51b1ff197ec"
            ],
            "layout": "IPY_MODEL_56faea8714a8424aaf79ae94efdafd73"
          }
        },
        "2d7607a81fab45ba8488411d6149e89c": {
          "model_module": "@jupyter-widgets/controls",
          "model_name": "HTMLModel",
          "model_module_version": "1.5.0",
          "state": {
            "_dom_classes": [],
            "_model_module": "@jupyter-widgets/controls",
            "_model_module_version": "1.5.0",
            "_model_name": "HTMLModel",
            "_view_count": null,
            "_view_module": "@jupyter-widgets/controls",
            "_view_module_version": "1.5.0",
            "_view_name": "HTMLView",
            "description": "",
            "description_tooltip": null,
            "layout": "IPY_MODEL_fac24de1d4e14d52bcac72e14a492dbc",
            "placeholder": "​",
            "style": "IPY_MODEL_eea66593a4954680acbebaa657619049",
            "value": "Generating train split: 100%"
          }
        },
        "3385a2be44af4965bac1bfffd2659215": {
          "model_module": "@jupyter-widgets/controls",
          "model_name": "FloatProgressModel",
          "model_module_version": "1.5.0",
          "state": {
            "_dom_classes": [],
            "_model_module": "@jupyter-widgets/controls",
            "_model_module_version": "1.5.0",
            "_model_name": "FloatProgressModel",
            "_view_count": null,
            "_view_module": "@jupyter-widgets/controls",
            "_view_module_version": "1.5.0",
            "_view_name": "ProgressView",
            "bar_style": "",
            "description": "",
            "description_tooltip": null,
            "layout": "IPY_MODEL_574639dff9394428bb802b83e2b0b4ba",
            "max": 67389,
            "min": 0,
            "orientation": "horizontal",
            "style": "IPY_MODEL_384b1ce35976412b902f193ac4e8b337",
            "value": 67389
          }
        },
        "31caf8bd997b455facd1a51b1ff197ec": {
          "model_module": "@jupyter-widgets/controls",
          "model_name": "HTMLModel",
          "model_module_version": "1.5.0",
          "state": {
            "_dom_classes": [],
            "_model_module": "@jupyter-widgets/controls",
            "_model_module_version": "1.5.0",
            "_model_name": "HTMLModel",
            "_view_count": null,
            "_view_module": "@jupyter-widgets/controls",
            "_view_module_version": "1.5.0",
            "_view_name": "HTMLView",
            "description": "",
            "description_tooltip": null,
            "layout": "IPY_MODEL_deebfc7f9b7a4da19cd5d30e2cdfcf37",
            "placeholder": "​",
            "style": "IPY_MODEL_ef6ea0d00ae04dfdbbe63c56ef35340f",
            "value": " 67175/67389 [00:05&lt;00:00, 3915.77 examples/s]"
          }
        },
        "56faea8714a8424aaf79ae94efdafd73": {
          "model_module": "@jupyter-widgets/base",
          "model_name": "LayoutModel",
          "model_module_version": "1.2.0",
          "state": {
            "_model_module": "@jupyter-widgets/base",
            "_model_module_version": "1.2.0",
            "_model_name": "LayoutModel",
            "_view_count": null,
            "_view_module": "@jupyter-widgets/base",
            "_view_module_version": "1.2.0",
            "_view_name": "LayoutView",
            "align_content": null,
            "align_items": null,
            "align_self": null,
            "border": null,
            "bottom": null,
            "display": null,
            "flex": null,
            "flex_flow": null,
            "grid_area": null,
            "grid_auto_columns": null,
            "grid_auto_flow": null,
            "grid_auto_rows": null,
            "grid_column": null,
            "grid_gap": null,
            "grid_row": null,
            "grid_template_areas": null,
            "grid_template_columns": null,
            "grid_template_rows": null,
            "height": null,
            "justify_content": null,
            "justify_items": null,
            "left": null,
            "margin": null,
            "max_height": null,
            "max_width": null,
            "min_height": null,
            "min_width": null,
            "object_fit": null,
            "object_position": null,
            "order": null,
            "overflow": null,
            "overflow_x": null,
            "overflow_y": null,
            "padding": null,
            "right": null,
            "top": null,
            "visibility": "hidden",
            "width": null
          }
        },
        "fac24de1d4e14d52bcac72e14a492dbc": {
          "model_module": "@jupyter-widgets/base",
          "model_name": "LayoutModel",
          "model_module_version": "1.2.0",
          "state": {
            "_model_module": "@jupyter-widgets/base",
            "_model_module_version": "1.2.0",
            "_model_name": "LayoutModel",
            "_view_count": null,
            "_view_module": "@jupyter-widgets/base",
            "_view_module_version": "1.2.0",
            "_view_name": "LayoutView",
            "align_content": null,
            "align_items": null,
            "align_self": null,
            "border": null,
            "bottom": null,
            "display": null,
            "flex": null,
            "flex_flow": null,
            "grid_area": null,
            "grid_auto_columns": null,
            "grid_auto_flow": null,
            "grid_auto_rows": null,
            "grid_column": null,
            "grid_gap": null,
            "grid_row": null,
            "grid_template_areas": null,
            "grid_template_columns": null,
            "grid_template_rows": null,
            "height": null,
            "justify_content": null,
            "justify_items": null,
            "left": null,
            "margin": null,
            "max_height": null,
            "max_width": null,
            "min_height": null,
            "min_width": null,
            "object_fit": null,
            "object_position": null,
            "order": null,
            "overflow": null,
            "overflow_x": null,
            "overflow_y": null,
            "padding": null,
            "right": null,
            "top": null,
            "visibility": null,
            "width": null
          }
        },
        "eea66593a4954680acbebaa657619049": {
          "model_module": "@jupyter-widgets/controls",
          "model_name": "DescriptionStyleModel",
          "model_module_version": "1.5.0",
          "state": {
            "_model_module": "@jupyter-widgets/controls",
            "_model_module_version": "1.5.0",
            "_model_name": "DescriptionStyleModel",
            "_view_count": null,
            "_view_module": "@jupyter-widgets/base",
            "_view_module_version": "1.2.0",
            "_view_name": "StyleView",
            "description_width": ""
          }
        },
        "574639dff9394428bb802b83e2b0b4ba": {
          "model_module": "@jupyter-widgets/base",
          "model_name": "LayoutModel",
          "model_module_version": "1.2.0",
          "state": {
            "_model_module": "@jupyter-widgets/base",
            "_model_module_version": "1.2.0",
            "_model_name": "LayoutModel",
            "_view_count": null,
            "_view_module": "@jupyter-widgets/base",
            "_view_module_version": "1.2.0",
            "_view_name": "LayoutView",
            "align_content": null,
            "align_items": null,
            "align_self": null,
            "border": null,
            "bottom": null,
            "display": null,
            "flex": null,
            "flex_flow": null,
            "grid_area": null,
            "grid_auto_columns": null,
            "grid_auto_flow": null,
            "grid_auto_rows": null,
            "grid_column": null,
            "grid_gap": null,
            "grid_row": null,
            "grid_template_areas": null,
            "grid_template_columns": null,
            "grid_template_rows": null,
            "height": null,
            "justify_content": null,
            "justify_items": null,
            "left": null,
            "margin": null,
            "max_height": null,
            "max_width": null,
            "min_height": null,
            "min_width": null,
            "object_fit": null,
            "object_position": null,
            "order": null,
            "overflow": null,
            "overflow_x": null,
            "overflow_y": null,
            "padding": null,
            "right": null,
            "top": null,
            "visibility": null,
            "width": null
          }
        },
        "384b1ce35976412b902f193ac4e8b337": {
          "model_module": "@jupyter-widgets/controls",
          "model_name": "ProgressStyleModel",
          "model_module_version": "1.5.0",
          "state": {
            "_model_module": "@jupyter-widgets/controls",
            "_model_module_version": "1.5.0",
            "_model_name": "ProgressStyleModel",
            "_view_count": null,
            "_view_module": "@jupyter-widgets/base",
            "_view_module_version": "1.2.0",
            "_view_name": "StyleView",
            "bar_color": null,
            "description_width": ""
          }
        },
        "deebfc7f9b7a4da19cd5d30e2cdfcf37": {
          "model_module": "@jupyter-widgets/base",
          "model_name": "LayoutModel",
          "model_module_version": "1.2.0",
          "state": {
            "_model_module": "@jupyter-widgets/base",
            "_model_module_version": "1.2.0",
            "_model_name": "LayoutModel",
            "_view_count": null,
            "_view_module": "@jupyter-widgets/base",
            "_view_module_version": "1.2.0",
            "_view_name": "LayoutView",
            "align_content": null,
            "align_items": null,
            "align_self": null,
            "border": null,
            "bottom": null,
            "display": null,
            "flex": null,
            "flex_flow": null,
            "grid_area": null,
            "grid_auto_columns": null,
            "grid_auto_flow": null,
            "grid_auto_rows": null,
            "grid_column": null,
            "grid_gap": null,
            "grid_row": null,
            "grid_template_areas": null,
            "grid_template_columns": null,
            "grid_template_rows": null,
            "height": null,
            "justify_content": null,
            "justify_items": null,
            "left": null,
            "margin": null,
            "max_height": null,
            "max_width": null,
            "min_height": null,
            "min_width": null,
            "object_fit": null,
            "object_position": null,
            "order": null,
            "overflow": null,
            "overflow_x": null,
            "overflow_y": null,
            "padding": null,
            "right": null,
            "top": null,
            "visibility": null,
            "width": null
          }
        },
        "ef6ea0d00ae04dfdbbe63c56ef35340f": {
          "model_module": "@jupyter-widgets/controls",
          "model_name": "DescriptionStyleModel",
          "model_module_version": "1.5.0",
          "state": {
            "_model_module": "@jupyter-widgets/controls",
            "_model_module_version": "1.5.0",
            "_model_name": "DescriptionStyleModel",
            "_view_count": null,
            "_view_module": "@jupyter-widgets/base",
            "_view_module_version": "1.2.0",
            "_view_name": "StyleView",
            "description_width": ""
          }
        },
        "19d9c4502c4a456194e9ea9e97e9db4b": {
          "model_module": "@jupyter-widgets/controls",
          "model_name": "HBoxModel",
          "model_module_version": "1.5.0",
          "state": {
            "_dom_classes": [],
            "_model_module": "@jupyter-widgets/controls",
            "_model_module_version": "1.5.0",
            "_model_name": "HBoxModel",
            "_view_count": null,
            "_view_module": "@jupyter-widgets/controls",
            "_view_module_version": "1.5.0",
            "_view_name": "HBoxView",
            "box_style": "",
            "children": [
              "IPY_MODEL_513e63cd4db9480eb17146b6c11f1371",
              "IPY_MODEL_fa2107c9e47a434a914279fa772a0471",
              "IPY_MODEL_e45bb6cd3b114fce897016475d9f8911"
            ],
            "layout": "IPY_MODEL_465b5e81935a40f0a1b1a3457092c6f5"
          }
        },
        "513e63cd4db9480eb17146b6c11f1371": {
          "model_module": "@jupyter-widgets/controls",
          "model_name": "HTMLModel",
          "model_module_version": "1.5.0",
          "state": {
            "_dom_classes": [],
            "_model_module": "@jupyter-widgets/controls",
            "_model_module_version": "1.5.0",
            "_model_name": "HTMLModel",
            "_view_count": null,
            "_view_module": "@jupyter-widgets/controls",
            "_view_module_version": "1.5.0",
            "_view_name": "HTMLView",
            "description": "",
            "description_tooltip": null,
            "layout": "IPY_MODEL_ab2bb1d98b8c4031a78d9a5696d68fd4",
            "placeholder": "​",
            "style": "IPY_MODEL_9510bf8897484ab5b1fe0160579aeae3",
            "value": "Generating validation split:  97%"
          }
        },
        "fa2107c9e47a434a914279fa772a0471": {
          "model_module": "@jupyter-widgets/controls",
          "model_name": "FloatProgressModel",
          "model_module_version": "1.5.0",
          "state": {
            "_dom_classes": [],
            "_model_module": "@jupyter-widgets/controls",
            "_model_module_version": "1.5.0",
            "_model_name": "FloatProgressModel",
            "_view_count": null,
            "_view_module": "@jupyter-widgets/controls",
            "_view_module_version": "1.5.0",
            "_view_name": "ProgressView",
            "bar_style": "",
            "description": "",
            "description_tooltip": null,
            "layout": "IPY_MODEL_01420a8c0d1745d586717fe3f537d46a",
            "max": 4018,
            "min": 0,
            "orientation": "horizontal",
            "style": "IPY_MODEL_cf12d35dab0a400991f13a51d5d88517",
            "value": 4018
          }
        },
        "e45bb6cd3b114fce897016475d9f8911": {
          "model_module": "@jupyter-widgets/controls",
          "model_name": "HTMLModel",
          "model_module_version": "1.5.0",
          "state": {
            "_dom_classes": [],
            "_model_module": "@jupyter-widgets/controls",
            "_model_module_version": "1.5.0",
            "_model_name": "HTMLModel",
            "_view_count": null,
            "_view_module": "@jupyter-widgets/controls",
            "_view_module_version": "1.5.0",
            "_view_name": "HTMLView",
            "description": "",
            "description_tooltip": null,
            "layout": "IPY_MODEL_5b9c1033a350422d8347ae32b8f8c2bd",
            "placeholder": "​",
            "style": "IPY_MODEL_73d36c4f6fe84a2e919148ffeb094582",
            "value": " 3902/4018 [00:00&lt;00:00, 4346.19 examples/s]"
          }
        },
        "465b5e81935a40f0a1b1a3457092c6f5": {
          "model_module": "@jupyter-widgets/base",
          "model_name": "LayoutModel",
          "model_module_version": "1.2.0",
          "state": {
            "_model_module": "@jupyter-widgets/base",
            "_model_module_version": "1.2.0",
            "_model_name": "LayoutModel",
            "_view_count": null,
            "_view_module": "@jupyter-widgets/base",
            "_view_module_version": "1.2.0",
            "_view_name": "LayoutView",
            "align_content": null,
            "align_items": null,
            "align_self": null,
            "border": null,
            "bottom": null,
            "display": null,
            "flex": null,
            "flex_flow": null,
            "grid_area": null,
            "grid_auto_columns": null,
            "grid_auto_flow": null,
            "grid_auto_rows": null,
            "grid_column": null,
            "grid_gap": null,
            "grid_row": null,
            "grid_template_areas": null,
            "grid_template_columns": null,
            "grid_template_rows": null,
            "height": null,
            "justify_content": null,
            "justify_items": null,
            "left": null,
            "margin": null,
            "max_height": null,
            "max_width": null,
            "min_height": null,
            "min_width": null,
            "object_fit": null,
            "object_position": null,
            "order": null,
            "overflow": null,
            "overflow_x": null,
            "overflow_y": null,
            "padding": null,
            "right": null,
            "top": null,
            "visibility": "hidden",
            "width": null
          }
        },
        "ab2bb1d98b8c4031a78d9a5696d68fd4": {
          "model_module": "@jupyter-widgets/base",
          "model_name": "LayoutModel",
          "model_module_version": "1.2.0",
          "state": {
            "_model_module": "@jupyter-widgets/base",
            "_model_module_version": "1.2.0",
            "_model_name": "LayoutModel",
            "_view_count": null,
            "_view_module": "@jupyter-widgets/base",
            "_view_module_version": "1.2.0",
            "_view_name": "LayoutView",
            "align_content": null,
            "align_items": null,
            "align_self": null,
            "border": null,
            "bottom": null,
            "display": null,
            "flex": null,
            "flex_flow": null,
            "grid_area": null,
            "grid_auto_columns": null,
            "grid_auto_flow": null,
            "grid_auto_rows": null,
            "grid_column": null,
            "grid_gap": null,
            "grid_row": null,
            "grid_template_areas": null,
            "grid_template_columns": null,
            "grid_template_rows": null,
            "height": null,
            "justify_content": null,
            "justify_items": null,
            "left": null,
            "margin": null,
            "max_height": null,
            "max_width": null,
            "min_height": null,
            "min_width": null,
            "object_fit": null,
            "object_position": null,
            "order": null,
            "overflow": null,
            "overflow_x": null,
            "overflow_y": null,
            "padding": null,
            "right": null,
            "top": null,
            "visibility": null,
            "width": null
          }
        },
        "9510bf8897484ab5b1fe0160579aeae3": {
          "model_module": "@jupyter-widgets/controls",
          "model_name": "DescriptionStyleModel",
          "model_module_version": "1.5.0",
          "state": {
            "_model_module": "@jupyter-widgets/controls",
            "_model_module_version": "1.5.0",
            "_model_name": "DescriptionStyleModel",
            "_view_count": null,
            "_view_module": "@jupyter-widgets/base",
            "_view_module_version": "1.2.0",
            "_view_name": "StyleView",
            "description_width": ""
          }
        },
        "01420a8c0d1745d586717fe3f537d46a": {
          "model_module": "@jupyter-widgets/base",
          "model_name": "LayoutModel",
          "model_module_version": "1.2.0",
          "state": {
            "_model_module": "@jupyter-widgets/base",
            "_model_module_version": "1.2.0",
            "_model_name": "LayoutModel",
            "_view_count": null,
            "_view_module": "@jupyter-widgets/base",
            "_view_module_version": "1.2.0",
            "_view_name": "LayoutView",
            "align_content": null,
            "align_items": null,
            "align_self": null,
            "border": null,
            "bottom": null,
            "display": null,
            "flex": null,
            "flex_flow": null,
            "grid_area": null,
            "grid_auto_columns": null,
            "grid_auto_flow": null,
            "grid_auto_rows": null,
            "grid_column": null,
            "grid_gap": null,
            "grid_row": null,
            "grid_template_areas": null,
            "grid_template_columns": null,
            "grid_template_rows": null,
            "height": null,
            "justify_content": null,
            "justify_items": null,
            "left": null,
            "margin": null,
            "max_height": null,
            "max_width": null,
            "min_height": null,
            "min_width": null,
            "object_fit": null,
            "object_position": null,
            "order": null,
            "overflow": null,
            "overflow_x": null,
            "overflow_y": null,
            "padding": null,
            "right": null,
            "top": null,
            "visibility": null,
            "width": null
          }
        },
        "cf12d35dab0a400991f13a51d5d88517": {
          "model_module": "@jupyter-widgets/controls",
          "model_name": "ProgressStyleModel",
          "model_module_version": "1.5.0",
          "state": {
            "_model_module": "@jupyter-widgets/controls",
            "_model_module_version": "1.5.0",
            "_model_name": "ProgressStyleModel",
            "_view_count": null,
            "_view_module": "@jupyter-widgets/base",
            "_view_module_version": "1.2.0",
            "_view_name": "StyleView",
            "bar_color": null,
            "description_width": ""
          }
        },
        "5b9c1033a350422d8347ae32b8f8c2bd": {
          "model_module": "@jupyter-widgets/base",
          "model_name": "LayoutModel",
          "model_module_version": "1.2.0",
          "state": {
            "_model_module": "@jupyter-widgets/base",
            "_model_module_version": "1.2.0",
            "_model_name": "LayoutModel",
            "_view_count": null,
            "_view_module": "@jupyter-widgets/base",
            "_view_module_version": "1.2.0",
            "_view_name": "LayoutView",
            "align_content": null,
            "align_items": null,
            "align_self": null,
            "border": null,
            "bottom": null,
            "display": null,
            "flex": null,
            "flex_flow": null,
            "grid_area": null,
            "grid_auto_columns": null,
            "grid_auto_flow": null,
            "grid_auto_rows": null,
            "grid_column": null,
            "grid_gap": null,
            "grid_row": null,
            "grid_template_areas": null,
            "grid_template_columns": null,
            "grid_template_rows": null,
            "height": null,
            "justify_content": null,
            "justify_items": null,
            "left": null,
            "margin": null,
            "max_height": null,
            "max_width": null,
            "min_height": null,
            "min_width": null,
            "object_fit": null,
            "object_position": null,
            "order": null,
            "overflow": null,
            "overflow_x": null,
            "overflow_y": null,
            "padding": null,
            "right": null,
            "top": null,
            "visibility": null,
            "width": null
          }
        },
        "73d36c4f6fe84a2e919148ffeb094582": {
          "model_module": "@jupyter-widgets/controls",
          "model_name": "DescriptionStyleModel",
          "model_module_version": "1.5.0",
          "state": {
            "_model_module": "@jupyter-widgets/controls",
            "_model_module_version": "1.5.0",
            "_model_name": "DescriptionStyleModel",
            "_view_count": null,
            "_view_module": "@jupyter-widgets/base",
            "_view_module_version": "1.2.0",
            "_view_name": "StyleView",
            "description_width": ""
          }
        },
        "35cca67ace124242a62085bee80e5ab5": {
          "model_module": "@jupyter-widgets/controls",
          "model_name": "HBoxModel",
          "model_module_version": "1.5.0",
          "state": {
            "_dom_classes": [],
            "_model_module": "@jupyter-widgets/controls",
            "_model_module_version": "1.5.0",
            "_model_name": "HBoxModel",
            "_view_count": null,
            "_view_module": "@jupyter-widgets/controls",
            "_view_module_version": "1.5.0",
            "_view_name": "HBoxView",
            "box_style": "",
            "children": [
              "IPY_MODEL_e17c69aea4634d53a78cf4dc04c9b50e",
              "IPY_MODEL_9a76cca5e03d468dbf4fd0026c43d184",
              "IPY_MODEL_8a505adddec344cd9a5c549386e2616c"
            ],
            "layout": "IPY_MODEL_324c57dfea1441308961587b0710dcca"
          }
        },
        "e17c69aea4634d53a78cf4dc04c9b50e": {
          "model_module": "@jupyter-widgets/controls",
          "model_name": "HTMLModel",
          "model_module_version": "1.5.0",
          "state": {
            "_dom_classes": [],
            "_model_module": "@jupyter-widgets/controls",
            "_model_module_version": "1.5.0",
            "_model_name": "HTMLModel",
            "_view_count": null,
            "_view_module": "@jupyter-widgets/controls",
            "_view_module_version": "1.5.0",
            "_view_name": "HTMLView",
            "description": "",
            "description_tooltip": null,
            "layout": "IPY_MODEL_78a7a056b27547a8b89efea555834b3b",
            "placeholder": "​",
            "style": "IPY_MODEL_89434cc7ea614adcbd969ad2603bb3e9",
            "value": "Generating test split:  85%"
          }
        },
        "9a76cca5e03d468dbf4fd0026c43d184": {
          "model_module": "@jupyter-widgets/controls",
          "model_name": "FloatProgressModel",
          "model_module_version": "1.5.0",
          "state": {
            "_dom_classes": [],
            "_model_module": "@jupyter-widgets/controls",
            "_model_module_version": "1.5.0",
            "_model_name": "FloatProgressModel",
            "_view_count": null,
            "_view_module": "@jupyter-widgets/controls",
            "_view_module_version": "1.5.0",
            "_view_name": "ProgressView",
            "bar_style": "",
            "description": "",
            "description_tooltip": null,
            "layout": "IPY_MODEL_61071d3fc39440c5ad41f6960f05659e",
            "max": 1497,
            "min": 0,
            "orientation": "horizontal",
            "style": "IPY_MODEL_5da65217babe46e6bb5432457f9e5e4e",
            "value": 1497
          }
        },
        "8a505adddec344cd9a5c549386e2616c": {
          "model_module": "@jupyter-widgets/controls",
          "model_name": "HTMLModel",
          "model_module_version": "1.5.0",
          "state": {
            "_dom_classes": [],
            "_model_module": "@jupyter-widgets/controls",
            "_model_module_version": "1.5.0",
            "_model_name": "HTMLModel",
            "_view_count": null,
            "_view_module": "@jupyter-widgets/controls",
            "_view_module_version": "1.5.0",
            "_view_name": "HTMLView",
            "description": "",
            "description_tooltip": null,
            "layout": "IPY_MODEL_37ce077a73ef4a46bd4b2f35d301fe48",
            "placeholder": "​",
            "style": "IPY_MODEL_487bc4f3d71149b2a787f22a7aec5fd1",
            "value": " 1276/1497 [00:00&lt;00:00, 4048.94 examples/s]"
          }
        },
        "324c57dfea1441308961587b0710dcca": {
          "model_module": "@jupyter-widgets/base",
          "model_name": "LayoutModel",
          "model_module_version": "1.2.0",
          "state": {
            "_model_module": "@jupyter-widgets/base",
            "_model_module_version": "1.2.0",
            "_model_name": "LayoutModel",
            "_view_count": null,
            "_view_module": "@jupyter-widgets/base",
            "_view_module_version": "1.2.0",
            "_view_name": "LayoutView",
            "align_content": null,
            "align_items": null,
            "align_self": null,
            "border": null,
            "bottom": null,
            "display": null,
            "flex": null,
            "flex_flow": null,
            "grid_area": null,
            "grid_auto_columns": null,
            "grid_auto_flow": null,
            "grid_auto_rows": null,
            "grid_column": null,
            "grid_gap": null,
            "grid_row": null,
            "grid_template_areas": null,
            "grid_template_columns": null,
            "grid_template_rows": null,
            "height": null,
            "justify_content": null,
            "justify_items": null,
            "left": null,
            "margin": null,
            "max_height": null,
            "max_width": null,
            "min_height": null,
            "min_width": null,
            "object_fit": null,
            "object_position": null,
            "order": null,
            "overflow": null,
            "overflow_x": null,
            "overflow_y": null,
            "padding": null,
            "right": null,
            "top": null,
            "visibility": "hidden",
            "width": null
          }
        },
        "78a7a056b27547a8b89efea555834b3b": {
          "model_module": "@jupyter-widgets/base",
          "model_name": "LayoutModel",
          "model_module_version": "1.2.0",
          "state": {
            "_model_module": "@jupyter-widgets/base",
            "_model_module_version": "1.2.0",
            "_model_name": "LayoutModel",
            "_view_count": null,
            "_view_module": "@jupyter-widgets/base",
            "_view_module_version": "1.2.0",
            "_view_name": "LayoutView",
            "align_content": null,
            "align_items": null,
            "align_self": null,
            "border": null,
            "bottom": null,
            "display": null,
            "flex": null,
            "flex_flow": null,
            "grid_area": null,
            "grid_auto_columns": null,
            "grid_auto_flow": null,
            "grid_auto_rows": null,
            "grid_column": null,
            "grid_gap": null,
            "grid_row": null,
            "grid_template_areas": null,
            "grid_template_columns": null,
            "grid_template_rows": null,
            "height": null,
            "justify_content": null,
            "justify_items": null,
            "left": null,
            "margin": null,
            "max_height": null,
            "max_width": null,
            "min_height": null,
            "min_width": null,
            "object_fit": null,
            "object_position": null,
            "order": null,
            "overflow": null,
            "overflow_x": null,
            "overflow_y": null,
            "padding": null,
            "right": null,
            "top": null,
            "visibility": null,
            "width": null
          }
        },
        "89434cc7ea614adcbd969ad2603bb3e9": {
          "model_module": "@jupyter-widgets/controls",
          "model_name": "DescriptionStyleModel",
          "model_module_version": "1.5.0",
          "state": {
            "_model_module": "@jupyter-widgets/controls",
            "_model_module_version": "1.5.0",
            "_model_name": "DescriptionStyleModel",
            "_view_count": null,
            "_view_module": "@jupyter-widgets/base",
            "_view_module_version": "1.2.0",
            "_view_name": "StyleView",
            "description_width": ""
          }
        },
        "61071d3fc39440c5ad41f6960f05659e": {
          "model_module": "@jupyter-widgets/base",
          "model_name": "LayoutModel",
          "model_module_version": "1.2.0",
          "state": {
            "_model_module": "@jupyter-widgets/base",
            "_model_module_version": "1.2.0",
            "_model_name": "LayoutModel",
            "_view_count": null,
            "_view_module": "@jupyter-widgets/base",
            "_view_module_version": "1.2.0",
            "_view_name": "LayoutView",
            "align_content": null,
            "align_items": null,
            "align_self": null,
            "border": null,
            "bottom": null,
            "display": null,
            "flex": null,
            "flex_flow": null,
            "grid_area": null,
            "grid_auto_columns": null,
            "grid_auto_flow": null,
            "grid_auto_rows": null,
            "grid_column": null,
            "grid_gap": null,
            "grid_row": null,
            "grid_template_areas": null,
            "grid_template_columns": null,
            "grid_template_rows": null,
            "height": null,
            "justify_content": null,
            "justify_items": null,
            "left": null,
            "margin": null,
            "max_height": null,
            "max_width": null,
            "min_height": null,
            "min_width": null,
            "object_fit": null,
            "object_position": null,
            "order": null,
            "overflow": null,
            "overflow_x": null,
            "overflow_y": null,
            "padding": null,
            "right": null,
            "top": null,
            "visibility": null,
            "width": null
          }
        },
        "5da65217babe46e6bb5432457f9e5e4e": {
          "model_module": "@jupyter-widgets/controls",
          "model_name": "ProgressStyleModel",
          "model_module_version": "1.5.0",
          "state": {
            "_model_module": "@jupyter-widgets/controls",
            "_model_module_version": "1.5.0",
            "_model_name": "ProgressStyleModel",
            "_view_count": null,
            "_view_module": "@jupyter-widgets/base",
            "_view_module_version": "1.2.0",
            "_view_name": "StyleView",
            "bar_color": null,
            "description_width": ""
          }
        },
        "37ce077a73ef4a46bd4b2f35d301fe48": {
          "model_module": "@jupyter-widgets/base",
          "model_name": "LayoutModel",
          "model_module_version": "1.2.0",
          "state": {
            "_model_module": "@jupyter-widgets/base",
            "_model_module_version": "1.2.0",
            "_model_name": "LayoutModel",
            "_view_count": null,
            "_view_module": "@jupyter-widgets/base",
            "_view_module_version": "1.2.0",
            "_view_name": "LayoutView",
            "align_content": null,
            "align_items": null,
            "align_self": null,
            "border": null,
            "bottom": null,
            "display": null,
            "flex": null,
            "flex_flow": null,
            "grid_area": null,
            "grid_auto_columns": null,
            "grid_auto_flow": null,
            "grid_auto_rows": null,
            "grid_column": null,
            "grid_gap": null,
            "grid_row": null,
            "grid_template_areas": null,
            "grid_template_columns": null,
            "grid_template_rows": null,
            "height": null,
            "justify_content": null,
            "justify_items": null,
            "left": null,
            "margin": null,
            "max_height": null,
            "max_width": null,
            "min_height": null,
            "min_width": null,
            "object_fit": null,
            "object_position": null,
            "order": null,
            "overflow": null,
            "overflow_x": null,
            "overflow_y": null,
            "padding": null,
            "right": null,
            "top": null,
            "visibility": null,
            "width": null
          }
        },
        "487bc4f3d71149b2a787f22a7aec5fd1": {
          "model_module": "@jupyter-widgets/controls",
          "model_name": "DescriptionStyleModel",
          "model_module_version": "1.5.0",
          "state": {
            "_model_module": "@jupyter-widgets/controls",
            "_model_module_version": "1.5.0",
            "_model_name": "DescriptionStyleModel",
            "_view_count": null,
            "_view_module": "@jupyter-widgets/base",
            "_view_module_version": "1.2.0",
            "_view_name": "StyleView",
            "description_width": ""
          }
        },
        "11c5be3f68924d9ca49a0618881c004c": {
          "model_module": "@jupyter-widgets/controls",
          "model_name": "HBoxModel",
          "model_module_version": "1.5.0",
          "state": {
            "_dom_classes": [],
            "_model_module": "@jupyter-widgets/controls",
            "_model_module_version": "1.5.0",
            "_model_name": "HBoxModel",
            "_view_count": null,
            "_view_module": "@jupyter-widgets/controls",
            "_view_module_version": "1.5.0",
            "_view_name": "HBoxView",
            "box_style": "",
            "children": [
              "IPY_MODEL_708801ff5e7f4cb08d93d88420aaf0cb",
              "IPY_MODEL_a46438f069e04115bfce8abbe1a60781",
              "IPY_MODEL_e77cbfee93c94d3cb9657d94ac50f1bf"
            ],
            "layout": "IPY_MODEL_fe7a8079f8d8456cb58a59c8f665ea24"
          }
        },
        "708801ff5e7f4cb08d93d88420aaf0cb": {
          "model_module": "@jupyter-widgets/controls",
          "model_name": "HTMLModel",
          "model_module_version": "1.5.0",
          "state": {
            "_dom_classes": [],
            "_model_module": "@jupyter-widgets/controls",
            "_model_module_version": "1.5.0",
            "_model_name": "HTMLModel",
            "_view_count": null,
            "_view_module": "@jupyter-widgets/controls",
            "_view_module_version": "1.5.0",
            "_view_name": "HTMLView",
            "description": "",
            "description_tooltip": null,
            "layout": "IPY_MODEL_dadd8b6e12f94e7fbd856d1d73d40783",
            "placeholder": "​",
            "style": "IPY_MODEL_fe53ac7ebbae4eb3ace53ca9cc3bf8b2",
            "value": "100%"
          }
        },
        "a46438f069e04115bfce8abbe1a60781": {
          "model_module": "@jupyter-widgets/controls",
          "model_name": "FloatProgressModel",
          "model_module_version": "1.5.0",
          "state": {
            "_dom_classes": [],
            "_model_module": "@jupyter-widgets/controls",
            "_model_module_version": "1.5.0",
            "_model_name": "FloatProgressModel",
            "_view_count": null,
            "_view_module": "@jupyter-widgets/controls",
            "_view_module_version": "1.5.0",
            "_view_name": "ProgressView",
            "bar_style": "success",
            "description": "",
            "description_tooltip": null,
            "layout": "IPY_MODEL_6e9a38ecdf774f798b094c0c5f8cc9d0",
            "max": 3,
            "min": 0,
            "orientation": "horizontal",
            "style": "IPY_MODEL_9dc550973fd340fda6c7b4dd5b8d2d26",
            "value": 3
          }
        },
        "e77cbfee93c94d3cb9657d94ac50f1bf": {
          "model_module": "@jupyter-widgets/controls",
          "model_name": "HTMLModel",
          "model_module_version": "1.5.0",
          "state": {
            "_dom_classes": [],
            "_model_module": "@jupyter-widgets/controls",
            "_model_module_version": "1.5.0",
            "_model_name": "HTMLModel",
            "_view_count": null,
            "_view_module": "@jupyter-widgets/controls",
            "_view_module_version": "1.5.0",
            "_view_name": "HTMLView",
            "description": "",
            "description_tooltip": null,
            "layout": "IPY_MODEL_98afede31774484c9744a8413e1170a0",
            "placeholder": "​",
            "style": "IPY_MODEL_2af5cedede9e4a13bffb8ea33fe8c47b",
            "value": " 3/3 [00:00&lt;00:00, 47.55it/s]"
          }
        },
        "fe7a8079f8d8456cb58a59c8f665ea24": {
          "model_module": "@jupyter-widgets/base",
          "model_name": "LayoutModel",
          "model_module_version": "1.2.0",
          "state": {
            "_model_module": "@jupyter-widgets/base",
            "_model_module_version": "1.2.0",
            "_model_name": "LayoutModel",
            "_view_count": null,
            "_view_module": "@jupyter-widgets/base",
            "_view_module_version": "1.2.0",
            "_view_name": "LayoutView",
            "align_content": null,
            "align_items": null,
            "align_self": null,
            "border": null,
            "bottom": null,
            "display": null,
            "flex": null,
            "flex_flow": null,
            "grid_area": null,
            "grid_auto_columns": null,
            "grid_auto_flow": null,
            "grid_auto_rows": null,
            "grid_column": null,
            "grid_gap": null,
            "grid_row": null,
            "grid_template_areas": null,
            "grid_template_columns": null,
            "grid_template_rows": null,
            "height": null,
            "justify_content": null,
            "justify_items": null,
            "left": null,
            "margin": null,
            "max_height": null,
            "max_width": null,
            "min_height": null,
            "min_width": null,
            "object_fit": null,
            "object_position": null,
            "order": null,
            "overflow": null,
            "overflow_x": null,
            "overflow_y": null,
            "padding": null,
            "right": null,
            "top": null,
            "visibility": null,
            "width": null
          }
        },
        "dadd8b6e12f94e7fbd856d1d73d40783": {
          "model_module": "@jupyter-widgets/base",
          "model_name": "LayoutModel",
          "model_module_version": "1.2.0",
          "state": {
            "_model_module": "@jupyter-widgets/base",
            "_model_module_version": "1.2.0",
            "_model_name": "LayoutModel",
            "_view_count": null,
            "_view_module": "@jupyter-widgets/base",
            "_view_module_version": "1.2.0",
            "_view_name": "LayoutView",
            "align_content": null,
            "align_items": null,
            "align_self": null,
            "border": null,
            "bottom": null,
            "display": null,
            "flex": null,
            "flex_flow": null,
            "grid_area": null,
            "grid_auto_columns": null,
            "grid_auto_flow": null,
            "grid_auto_rows": null,
            "grid_column": null,
            "grid_gap": null,
            "grid_row": null,
            "grid_template_areas": null,
            "grid_template_columns": null,
            "grid_template_rows": null,
            "height": null,
            "justify_content": null,
            "justify_items": null,
            "left": null,
            "margin": null,
            "max_height": null,
            "max_width": null,
            "min_height": null,
            "min_width": null,
            "object_fit": null,
            "object_position": null,
            "order": null,
            "overflow": null,
            "overflow_x": null,
            "overflow_y": null,
            "padding": null,
            "right": null,
            "top": null,
            "visibility": null,
            "width": null
          }
        },
        "fe53ac7ebbae4eb3ace53ca9cc3bf8b2": {
          "model_module": "@jupyter-widgets/controls",
          "model_name": "DescriptionStyleModel",
          "model_module_version": "1.5.0",
          "state": {
            "_model_module": "@jupyter-widgets/controls",
            "_model_module_version": "1.5.0",
            "_model_name": "DescriptionStyleModel",
            "_view_count": null,
            "_view_module": "@jupyter-widgets/base",
            "_view_module_version": "1.2.0",
            "_view_name": "StyleView",
            "description_width": ""
          }
        },
        "6e9a38ecdf774f798b094c0c5f8cc9d0": {
          "model_module": "@jupyter-widgets/base",
          "model_name": "LayoutModel",
          "model_module_version": "1.2.0",
          "state": {
            "_model_module": "@jupyter-widgets/base",
            "_model_module_version": "1.2.0",
            "_model_name": "LayoutModel",
            "_view_count": null,
            "_view_module": "@jupyter-widgets/base",
            "_view_module_version": "1.2.0",
            "_view_name": "LayoutView",
            "align_content": null,
            "align_items": null,
            "align_self": null,
            "border": null,
            "bottom": null,
            "display": null,
            "flex": null,
            "flex_flow": null,
            "grid_area": null,
            "grid_auto_columns": null,
            "grid_auto_flow": null,
            "grid_auto_rows": null,
            "grid_column": null,
            "grid_gap": null,
            "grid_row": null,
            "grid_template_areas": null,
            "grid_template_columns": null,
            "grid_template_rows": null,
            "height": null,
            "justify_content": null,
            "justify_items": null,
            "left": null,
            "margin": null,
            "max_height": null,
            "max_width": null,
            "min_height": null,
            "min_width": null,
            "object_fit": null,
            "object_position": null,
            "order": null,
            "overflow": null,
            "overflow_x": null,
            "overflow_y": null,
            "padding": null,
            "right": null,
            "top": null,
            "visibility": null,
            "width": null
          }
        },
        "9dc550973fd340fda6c7b4dd5b8d2d26": {
          "model_module": "@jupyter-widgets/controls",
          "model_name": "ProgressStyleModel",
          "model_module_version": "1.5.0",
          "state": {
            "_model_module": "@jupyter-widgets/controls",
            "_model_module_version": "1.5.0",
            "_model_name": "ProgressStyleModel",
            "_view_count": null,
            "_view_module": "@jupyter-widgets/base",
            "_view_module_version": "1.2.0",
            "_view_name": "StyleView",
            "bar_color": null,
            "description_width": ""
          }
        },
        "98afede31774484c9744a8413e1170a0": {
          "model_module": "@jupyter-widgets/base",
          "model_name": "LayoutModel",
          "model_module_version": "1.2.0",
          "state": {
            "_model_module": "@jupyter-widgets/base",
            "_model_module_version": "1.2.0",
            "_model_name": "LayoutModel",
            "_view_count": null,
            "_view_module": "@jupyter-widgets/base",
            "_view_module_version": "1.2.0",
            "_view_name": "LayoutView",
            "align_content": null,
            "align_items": null,
            "align_self": null,
            "border": null,
            "bottom": null,
            "display": null,
            "flex": null,
            "flex_flow": null,
            "grid_area": null,
            "grid_auto_columns": null,
            "grid_auto_flow": null,
            "grid_auto_rows": null,
            "grid_column": null,
            "grid_gap": null,
            "grid_row": null,
            "grid_template_areas": null,
            "grid_template_columns": null,
            "grid_template_rows": null,
            "height": null,
            "justify_content": null,
            "justify_items": null,
            "left": null,
            "margin": null,
            "max_height": null,
            "max_width": null,
            "min_height": null,
            "min_width": null,
            "object_fit": null,
            "object_position": null,
            "order": null,
            "overflow": null,
            "overflow_x": null,
            "overflow_y": null,
            "padding": null,
            "right": null,
            "top": null,
            "visibility": null,
            "width": null
          }
        },
        "2af5cedede9e4a13bffb8ea33fe8c47b": {
          "model_module": "@jupyter-widgets/controls",
          "model_name": "DescriptionStyleModel",
          "model_module_version": "1.5.0",
          "state": {
            "_model_module": "@jupyter-widgets/controls",
            "_model_module_version": "1.5.0",
            "_model_name": "DescriptionStyleModel",
            "_view_count": null,
            "_view_module": "@jupyter-widgets/base",
            "_view_module_version": "1.2.0",
            "_view_name": "StyleView",
            "description_width": ""
          }
        }
      }
    }
  },
  "cells": [
    {
      "cell_type": "markdown",
      "metadata": {
        "id": "view-in-github",
        "colab_type": "text"
      },
      "source": [
        "<a href=\"https://colab.research.google.com/github/wadaka0821/nlp-tutorial/blob/main/questions/4_2_rnn_question.ipynb\" target=\"_parent\"><img src=\"https://colab.research.google.com/assets/colab-badge.svg\" alt=\"Open In Colab\"/></a>"
      ]
    },
    {
      "cell_type": "markdown",
      "source": [
        "# RNN を使った一般常識のテキスト生成\n",
        "## 作成者：和田\n",
        "## 最終更新日：2023/03/08"
      ],
      "metadata": {
        "id": "m6T1nRM4khZa"
      }
    },
    {
      "cell_type": "code",
      "source": [
        "!pip install datasets"
      ],
      "metadata": {
        "colab": {
          "base_uri": "https://localhost:8080/"
        },
        "id": "PlNeoGv5khN2",
        "outputId": "df65e7a9-37e3-4897-bb26-1d83f7025bb0"
      },
      "execution_count": null,
      "outputs": [
        {
          "output_type": "stream",
          "name": "stdout",
          "text": [
            "Looking in indexes: https://pypi.org/simple, https://us-python.pkg.dev/colab-wheels/public/simple/\n",
            "Collecting datasets\n",
            "  Downloading datasets-2.10.1-py3-none-any.whl (469 kB)\n",
            "\u001b[2K     \u001b[90m━━━━━━━━━━━━━━━━━━━━━━━━━━━━━━━━━━━━━━\u001b[0m \u001b[32m469.0/469.0 KB\u001b[0m \u001b[31m27.7 MB/s\u001b[0m eta \u001b[36m0:00:00\u001b[0m\n",
            "\u001b[?25hCollecting multiprocess\n",
            "  Downloading multiprocess-0.70.14-py38-none-any.whl (132 kB)\n",
            "\u001b[2K     \u001b[90m━━━━━━━━━━━━━━━━━━━━━━━━━━━━━━━━━━━━━━\u001b[0m \u001b[32m132.0/132.0 KB\u001b[0m \u001b[31m17.2 MB/s\u001b[0m eta \u001b[36m0:00:00\u001b[0m\n",
            "\u001b[?25hRequirement already satisfied: packaging in /usr/local/lib/python3.8/dist-packages (from datasets) (23.0)\n",
            "Collecting dill<0.3.7,>=0.3.0\n",
            "  Downloading dill-0.3.6-py3-none-any.whl (110 kB)\n",
            "\u001b[2K     \u001b[90m━━━━━━━━━━━━━━━━━━━━━━━━━━━━━━━━━━━━━━\u001b[0m \u001b[32m110.5/110.5 KB\u001b[0m \u001b[31m13.0 MB/s\u001b[0m eta \u001b[36m0:00:00\u001b[0m\n",
            "\u001b[?25hCollecting responses<0.19\n",
            "  Downloading responses-0.18.0-py3-none-any.whl (38 kB)\n",
            "Collecting huggingface-hub<1.0.0,>=0.2.0\n",
            "  Downloading huggingface_hub-0.12.1-py3-none-any.whl (190 kB)\n",
            "\u001b[2K     \u001b[90m━━━━━━━━━━━━━━━━━━━━━━━━━━━━━━━━━━━━━━\u001b[0m \u001b[32m190.3/190.3 KB\u001b[0m \u001b[31m24.9 MB/s\u001b[0m eta \u001b[36m0:00:00\u001b[0m\n",
            "\u001b[?25hRequirement already satisfied: pyarrow>=6.0.0 in /usr/local/lib/python3.8/dist-packages (from datasets) (9.0.0)\n",
            "Requirement already satisfied: numpy>=1.17 in /usr/local/lib/python3.8/dist-packages (from datasets) (1.22.4)\n",
            "Requirement already satisfied: requests>=2.19.0 in /usr/local/lib/python3.8/dist-packages (from datasets) (2.25.1)\n",
            "Requirement already satisfied: tqdm>=4.62.1 in /usr/local/lib/python3.8/dist-packages (from datasets) (4.64.1)\n",
            "Collecting xxhash\n",
            "  Downloading xxhash-3.2.0-cp38-cp38-manylinux_2_17_x86_64.manylinux2014_x86_64.whl (213 kB)\n",
            "\u001b[2K     \u001b[90m━━━━━━━━━━━━━━━━━━━━━━━━━━━━━━━━━━━━━━\u001b[0m \u001b[32m213.0/213.0 KB\u001b[0m \u001b[31m21.2 MB/s\u001b[0m eta \u001b[36m0:00:00\u001b[0m\n",
            "\u001b[?25hRequirement already satisfied: fsspec[http]>=2021.11.1 in /usr/local/lib/python3.8/dist-packages (from datasets) (2023.1.0)\n",
            "Requirement already satisfied: pyyaml>=5.1 in /usr/local/lib/python3.8/dist-packages (from datasets) (6.0)\n",
            "Requirement already satisfied: pandas in /usr/local/lib/python3.8/dist-packages (from datasets) (1.3.5)\n",
            "Requirement already satisfied: aiohttp in /usr/local/lib/python3.8/dist-packages (from datasets) (3.8.4)\n",
            "Requirement already satisfied: frozenlist>=1.1.1 in /usr/local/lib/python3.8/dist-packages (from aiohttp->datasets) (1.3.3)\n",
            "Requirement already satisfied: charset-normalizer<4.0,>=2.0 in /usr/local/lib/python3.8/dist-packages (from aiohttp->datasets) (3.0.1)\n",
            "Requirement already satisfied: async-timeout<5.0,>=4.0.0a3 in /usr/local/lib/python3.8/dist-packages (from aiohttp->datasets) (4.0.2)\n",
            "Requirement already satisfied: multidict<7.0,>=4.5 in /usr/local/lib/python3.8/dist-packages (from aiohttp->datasets) (6.0.4)\n",
            "Requirement already satisfied: aiosignal>=1.1.2 in /usr/local/lib/python3.8/dist-packages (from aiohttp->datasets) (1.3.1)\n",
            "Requirement already satisfied: attrs>=17.3.0 in /usr/local/lib/python3.8/dist-packages (from aiohttp->datasets) (22.2.0)\n",
            "Requirement already satisfied: yarl<2.0,>=1.0 in /usr/local/lib/python3.8/dist-packages (from aiohttp->datasets) (1.8.2)\n",
            "Requirement already satisfied: filelock in /usr/local/lib/python3.8/dist-packages (from huggingface-hub<1.0.0,>=0.2.0->datasets) (3.9.0)\n",
            "Requirement already satisfied: typing-extensions>=3.7.4.3 in /usr/local/lib/python3.8/dist-packages (from huggingface-hub<1.0.0,>=0.2.0->datasets) (4.5.0)\n",
            "Requirement already satisfied: chardet<5,>=3.0.2 in /usr/local/lib/python3.8/dist-packages (from requests>=2.19.0->datasets) (4.0.0)\n",
            "Requirement already satisfied: idna<3,>=2.5 in /usr/local/lib/python3.8/dist-packages (from requests>=2.19.0->datasets) (2.10)\n",
            "Requirement already satisfied: certifi>=2017.4.17 in /usr/local/lib/python3.8/dist-packages (from requests>=2.19.0->datasets) (2022.12.7)\n",
            "Requirement already satisfied: urllib3<1.27,>=1.21.1 in /usr/local/lib/python3.8/dist-packages (from requests>=2.19.0->datasets) (1.26.14)\n",
            "Requirement already satisfied: pytz>=2017.3 in /usr/local/lib/python3.8/dist-packages (from pandas->datasets) (2022.7.1)\n",
            "Requirement already satisfied: python-dateutil>=2.7.3 in /usr/local/lib/python3.8/dist-packages (from pandas->datasets) (2.8.2)\n",
            "Requirement already satisfied: six>=1.5 in /usr/local/lib/python3.8/dist-packages (from python-dateutil>=2.7.3->pandas->datasets) (1.15.0)\n",
            "Installing collected packages: xxhash, dill, responses, multiprocess, huggingface-hub, datasets\n",
            "Successfully installed datasets-2.10.1 dill-0.3.6 huggingface-hub-0.12.1 multiprocess-0.70.14 responses-0.18.0 xxhash-3.2.0\n"
          ]
        }
      ]
    },
    {
      "cell_type": "code",
      "execution_count": null,
      "metadata": {
        "id": "AnnuBB8O6vbK"
      },
      "outputs": [],
      "source": [
        "import torch\n",
        "from torch.nn import RNN, CrossEntropyLoss, Embedding, Linear\n",
        "from torch.nn.utils.rnn import pad_sequence\n",
        "from torch.optim import Adam\n",
        "from datasets import load_dataset\n",
        "import nltk\n",
        "from tqdm import tqdm\n",
        "import seaborn as sns"
      ]
    },
    {
      "cell_type": "code",
      "source": [
        "nltk.download('punkt')"
      ],
      "metadata": {
        "colab": {
          "base_uri": "https://localhost:8080/"
        },
        "id": "WgSQz-edmnqZ",
        "outputId": "6f269520-27dd-4045-8922-87f59fda5a38"
      },
      "execution_count": null,
      "outputs": [
        {
          "output_type": "stream",
          "name": "stderr",
          "text": [
            "[nltk_data] Downloading package punkt to /root/nltk_data...\n",
            "[nltk_data]   Unzipping tokenizers/punkt.zip.\n"
          ]
        },
        {
          "output_type": "execute_result",
          "data": {
            "text/plain": [
              "True"
            ]
          },
          "metadata": {},
          "execution_count": 3
        }
      ]
    },
    {
      "cell_type": "code",
      "source": [
        "dataset = load_dataset(\"common_gen\")"
      ],
      "metadata": {
        "colab": {
          "base_uri": "https://localhost:8080/",
          "height": 213,
          "referenced_widgets": [
            "a3bea5c4d3404f889310a95f2d1bcb0c",
            "e17e33d60f6b471bb1ff2bc3a9733e44",
            "9e5df133fe6b44d7b1c239e505e63cbe",
            "cd69a3b8b9ad4a91921a327faa3f2490",
            "69051195569f45119ae4d3c00fa8dab8",
            "4a96c081a5f6455782ca4a35e5f2d149",
            "e687957554534d42adc457abfdab1976",
            "c11102583eb34b5aa36c954f2b42d967",
            "4546304008c2481491c7b5a0f3b25dae",
            "34f516fdc6974e25b6c5b3c2bacfc1ae",
            "634c111318194e5aa1b5ffd4c5e8c410",
            "a047af43c43844ffb9b8ee6748bf2a85",
            "78a32042a68c44b3a30f8a7ae095414d",
            "9941daef50b14e91afbeca80630ab676",
            "a837a79d69884890ae6a0e460a5f4221",
            "f30bfd83716e4bc78ba0935ca2bd43d4",
            "38df5dee47e44132ae1d0e0561b2b0b6",
            "3771c717fcd543d4ae8248803570ac58",
            "b215aac4e5e0488e94d5b2aef9cd53bf",
            "ff058eb4c7d44e7f89d99413407a3f6b",
            "8fb7da99ca52486ca241e5a8d2a26874",
            "a7877cb28ae44e899c7bb9392e3c2e0c",
            "9ad5afcb7ec14649b67a88d12ac1248e",
            "b6c962c1c3e54456abd874aa1f08428d",
            "552805e3717048849f0e471f9bec4f86",
            "06b52335046a48b1a954910e1f46ecf5",
            "55d90d476a754a0fa32553163e1efe79",
            "bbefc305f892407d8d787aa4534370ff",
            "121a1beaa88f41e2b346c3da83e4b26e",
            "ad83a08faa414942a633df72e7bf6a5a",
            "ddd54afc4c0b49f78316c3a768586f49",
            "0caf095d38814ddc823a0a2b606ad099",
            "a0c5f1223ff54abe89bd79c92d908300",
            "bbbe7efd36be40a9b62b5c6c6f5953ed",
            "9f87614440b14b8d94cc8aad51a91ab7",
            "776c7060c9594b338063df269230ba4b",
            "4066c141871446b2b5ad9add823bb105",
            "02ba0e2afdb148ea8edb691098da7862",
            "b2aecd862c6349d4b1a8b46d9ba0a2c0",
            "dab40a548084478cb28ae81dde9e5669",
            "39db5d8157194e1c807546d97770d0c6",
            "2d48f4399dfd49b4a57883c086ba5e94",
            "78dc3dfa537043aa99ec9158c1b1a31d",
            "499e13d5f28b4e418b6d83a561ae195b",
            "65b7970f72ca4e9e83e96b09b8286206",
            "2d7607a81fab45ba8488411d6149e89c",
            "3385a2be44af4965bac1bfffd2659215",
            "31caf8bd997b455facd1a51b1ff197ec",
            "56faea8714a8424aaf79ae94efdafd73",
            "fac24de1d4e14d52bcac72e14a492dbc",
            "eea66593a4954680acbebaa657619049",
            "574639dff9394428bb802b83e2b0b4ba",
            "384b1ce35976412b902f193ac4e8b337",
            "deebfc7f9b7a4da19cd5d30e2cdfcf37",
            "ef6ea0d00ae04dfdbbe63c56ef35340f",
            "19d9c4502c4a456194e9ea9e97e9db4b",
            "513e63cd4db9480eb17146b6c11f1371",
            "fa2107c9e47a434a914279fa772a0471",
            "e45bb6cd3b114fce897016475d9f8911",
            "465b5e81935a40f0a1b1a3457092c6f5",
            "ab2bb1d98b8c4031a78d9a5696d68fd4",
            "9510bf8897484ab5b1fe0160579aeae3",
            "01420a8c0d1745d586717fe3f537d46a",
            "cf12d35dab0a400991f13a51d5d88517",
            "5b9c1033a350422d8347ae32b8f8c2bd",
            "73d36c4f6fe84a2e919148ffeb094582",
            "35cca67ace124242a62085bee80e5ab5",
            "e17c69aea4634d53a78cf4dc04c9b50e",
            "9a76cca5e03d468dbf4fd0026c43d184",
            "8a505adddec344cd9a5c549386e2616c",
            "324c57dfea1441308961587b0710dcca",
            "78a7a056b27547a8b89efea555834b3b",
            "89434cc7ea614adcbd969ad2603bb3e9",
            "61071d3fc39440c5ad41f6960f05659e",
            "5da65217babe46e6bb5432457f9e5e4e",
            "37ce077a73ef4a46bd4b2f35d301fe48",
            "487bc4f3d71149b2a787f22a7aec5fd1",
            "11c5be3f68924d9ca49a0618881c004c",
            "708801ff5e7f4cb08d93d88420aaf0cb",
            "a46438f069e04115bfce8abbe1a60781",
            "e77cbfee93c94d3cb9657d94ac50f1bf",
            "fe7a8079f8d8456cb58a59c8f665ea24",
            "dadd8b6e12f94e7fbd856d1d73d40783",
            "fe53ac7ebbae4eb3ace53ca9cc3bf8b2",
            "6e9a38ecdf774f798b094c0c5f8cc9d0",
            "9dc550973fd340fda6c7b4dd5b8d2d26",
            "98afede31774484c9744a8413e1170a0",
            "2af5cedede9e4a13bffb8ea33fe8c47b"
          ]
        },
        "id": "Cb31-kc4lbAl",
        "outputId": "aaf75db6-3248-45d4-e675-618cd88c55ac"
      },
      "execution_count": null,
      "outputs": [
        {
          "output_type": "display_data",
          "data": {
            "text/plain": [
              "Downloading builder script:   0%|          | 0.00/4.10k [00:00<?, ?B/s]"
            ],
            "application/vnd.jupyter.widget-view+json": {
              "version_major": 2,
              "version_minor": 0,
              "model_id": "a3bea5c4d3404f889310a95f2d1bcb0c"
            }
          },
          "metadata": {}
        },
        {
          "output_type": "display_data",
          "data": {
            "text/plain": [
              "Downloading metadata:   0%|          | 0.00/2.40k [00:00<?, ?B/s]"
            ],
            "application/vnd.jupyter.widget-view+json": {
              "version_major": 2,
              "version_minor": 0,
              "model_id": "a047af43c43844ffb9b8ee6748bf2a85"
            }
          },
          "metadata": {}
        },
        {
          "output_type": "display_data",
          "data": {
            "text/plain": [
              "Downloading readme:   0%|          | 0.00/6.99k [00:00<?, ?B/s]"
            ],
            "application/vnd.jupyter.widget-view+json": {
              "version_major": 2,
              "version_minor": 0,
              "model_id": "9ad5afcb7ec14649b67a88d12ac1248e"
            }
          },
          "metadata": {}
        },
        {
          "output_type": "stream",
          "name": "stdout",
          "text": [
            "Downloading and preparing dataset common_gen/default to /root/.cache/huggingface/datasets/common_gen/default/2020.5.30/1a9e8bdc026c41ce7a9e96260debf7d2809cb7fd63fa02b017e4fac1b00c6b23...\n"
          ]
        },
        {
          "output_type": "display_data",
          "data": {
            "text/plain": [
              "Downloading data:   0%|          | 0.00/1.85M [00:00<?, ?B/s]"
            ],
            "application/vnd.jupyter.widget-view+json": {
              "version_major": 2,
              "version_minor": 0,
              "model_id": "bbbe7efd36be40a9b62b5c6c6f5953ed"
            }
          },
          "metadata": {}
        },
        {
          "output_type": "display_data",
          "data": {
            "text/plain": [
              "Generating train split:   0%|          | 0/67389 [00:00<?, ? examples/s]"
            ],
            "application/vnd.jupyter.widget-view+json": {
              "version_major": 2,
              "version_minor": 0,
              "model_id": "65b7970f72ca4e9e83e96b09b8286206"
            }
          },
          "metadata": {}
        },
        {
          "output_type": "display_data",
          "data": {
            "text/plain": [
              "Generating validation split:   0%|          | 0/4018 [00:00<?, ? examples/s]"
            ],
            "application/vnd.jupyter.widget-view+json": {
              "version_major": 2,
              "version_minor": 0,
              "model_id": "19d9c4502c4a456194e9ea9e97e9db4b"
            }
          },
          "metadata": {}
        },
        {
          "output_type": "display_data",
          "data": {
            "text/plain": [
              "Generating test split:   0%|          | 0/1497 [00:00<?, ? examples/s]"
            ],
            "application/vnd.jupyter.widget-view+json": {
              "version_major": 2,
              "version_minor": 0,
              "model_id": "35cca67ace124242a62085bee80e5ab5"
            }
          },
          "metadata": {}
        },
        {
          "output_type": "stream",
          "name": "stdout",
          "text": [
            "Dataset common_gen downloaded and prepared to /root/.cache/huggingface/datasets/common_gen/default/2020.5.30/1a9e8bdc026c41ce7a9e96260debf7d2809cb7fd63fa02b017e4fac1b00c6b23. Subsequent calls will reuse this data.\n"
          ]
        },
        {
          "output_type": "display_data",
          "data": {
            "text/plain": [
              "  0%|          | 0/3 [00:00<?, ?it/s]"
            ],
            "application/vnd.jupyter.widget-view+json": {
              "version_major": 2,
              "version_minor": 0,
              "model_id": "11c5be3f68924d9ca49a0618881c004c"
            }
          },
          "metadata": {}
        }
      ]
    },
    {
      "cell_type": "code",
      "source": [
        "dataset"
      ],
      "metadata": {
        "colab": {
          "base_uri": "https://localhost:8080/"
        },
        "id": "Ikbdn0ywlev1",
        "outputId": "c9e88512-ee10-4896-8ee7-aebc0b989e1d"
      },
      "execution_count": null,
      "outputs": [
        {
          "output_type": "execute_result",
          "data": {
            "text/plain": [
              "DatasetDict({\n",
              "    train: Dataset({\n",
              "        features: ['concept_set_idx', 'concepts', 'target'],\n",
              "        num_rows: 67389\n",
              "    })\n",
              "    validation: Dataset({\n",
              "        features: ['concept_set_idx', 'concepts', 'target'],\n",
              "        num_rows: 4018\n",
              "    })\n",
              "    test: Dataset({\n",
              "        features: ['concept_set_idx', 'concepts', 'target'],\n",
              "        num_rows: 1497\n",
              "    })\n",
              "})"
            ]
          },
          "metadata": {},
          "execution_count": 5
        }
      ]
    },
    {
      "cell_type": "code",
      "source": [
        "dataset['train'][0] # concepts で指定された単語を使用して文(target)を生成する"
      ],
      "metadata": {
        "colab": {
          "base_uri": "https://localhost:8080/"
        },
        "id": "FfJeA9Aalqey",
        "outputId": "b224b39d-6d5d-4bc9-9fa1-10a6dd41610e"
      },
      "execution_count": null,
      "outputs": [
        {
          "output_type": "execute_result",
          "data": {
            "text/plain": [
              "{'concept_set_idx': 0,\n",
              " 'concepts': ['ski', 'mountain', 'skier'],\n",
              " 'target': 'Skier skis down the mountain'}"
            ]
          },
          "metadata": {},
          "execution_count": 6
        }
      ]
    },
    {
      "cell_type": "markdown",
      "source": [
        "# 学習データから語彙の作成"
      ],
      "metadata": {
        "id": "PSbizFsSl4r1"
      }
    },
    {
      "cell_type": "code",
      "source": [
        "UNK_TOKEN = '<UNK>' # 未知語\n",
        "PAD_TOKEN = '<PAD>' # Padding 用\n",
        "SOS_TOKEN = '<s>' # Start Of Sequence\n",
        "EOS_TOKEN = '</s>' # End Of Sequence\n",
        "\n",
        "def build_vocab(sents, add_unkown=True):\n",
        "    \"\"\"単語と id を対応させる辞書を作成\n",
        "\n",
        "    Parameters\n",
        "    ----------\n",
        "    sents : list[str]\n",
        "        文のリスト\n",
        "\n",
        "    add_unkowm : bool\n",
        "        未知語に対応するトークンの追加の有無\n",
        "\n",
        "    Returns\n",
        "    -------\n",
        "    dict[str, int]\n",
        "        単語 -> id へ変換するための辞書\n",
        "    \"\"\"\n",
        "    vocab = {PAD_TOKEN:0, SOS_TOKEN:1, EOS_TOKEN:2}\n",
        "    if add_unkown:\n",
        "        vocab[UNK_TOKEN] = len(vocab)\n",
        "    for sent in sents:\n",
        "        tokenized_sent = nltk.tokenize.word_tokenize(sent) # 単語分割\n",
        "        for word in tokenized_sent:\n",
        "            if word not in vocab: # 辞書に存在していない単語のみ追加\n",
        "                vocab[word] = len(vocab)\n",
        "    print(f'vocabulary size is {len(vocab)}')\n",
        "\n",
        "    return vocab"
      ],
      "metadata": {
        "id": "msNKRJsUluz0"
      },
      "execution_count": null,
      "outputs": []
    },
    {
      "cell_type": "code",
      "source": [
        "# 学習データから concepts と target のみ取得\n",
        "concepts= [i['concepts'] for i in dataset['train']]\n",
        "targets= [i['target'] for i in dataset['train']]"
      ],
      "metadata": {
        "id": "fb5AaSJ6ncYO"
      },
      "execution_count": null,
      "outputs": []
    },
    {
      "cell_type": "code",
      "source": [
        "vocab = build_vocab(targets) # 語彙の作成"
      ],
      "metadata": {
        "colab": {
          "base_uri": "https://localhost:8080/"
        },
        "id": "15OAWOMkp1Ft",
        "outputId": "010b881f-8580-4a0b-82d1-bbfa6493c43a"
      },
      "execution_count": null,
      "outputs": [
        {
          "output_type": "stream",
          "name": "stdout",
          "text": [
            "vocabulary size is 15855\n"
          ]
        }
      ]
    },
    {
      "cell_type": "markdown",
      "source": [
        "# モデルの作成"
      ],
      "metadata": {
        "id": "rp6Ml25kqRnf"
      }
    },
    {
      "cell_type": "code",
      "source": [
        "class Text2TextModel(torch.nn.Module):\n",
        "    \"\"\"RNN を用いた Encoder-Decoder モデル\n",
        "\n",
        "    Attributes\n",
        "    ----------\n",
        "    vocab_size : int\n",
        "        語彙のサイズ(単語数)\n",
        "    hidden_size : int \n",
        "        単語の埋め込みベクトルと隠れ状態のベクトルの次元数\n",
        "    embedding : torch.nn.Embedding\n",
        "        単語を埋め込みベクトルへ変換するモデル\n",
        "    encoder : torch.nn.RNN\n",
        "        入力系列を隠れ状態に埋め込む\n",
        "    decoder : torch.nn.RNN\n",
        "        出力する系列を生成\n",
        "    output : torch.nn.Linear\n",
        "        decoder が出力したベクトル(hidden_size, )を(vocab_size, )に変換\n",
        "\n",
        "    See Also\n",
        "    --------\n",
        "    forward : 学習時の順伝搬\n",
        "\n",
        "    predict : 推論時の順伝搬(バッチ処理はしない)\n",
        "\n",
        "    Note\n",
        "    ----\n",
        "    学習時と推論時で decoder の挙動が異なるので別々でメソッドを定義する\n",
        "    \"\"\"\n",
        "    def __init__(self, vocab_size, hidden_size=300):\n",
        "        super(Text2TextModel, self).__init__()\n",
        "        self.vocab_size = vocab_size\n",
        "        self.hidden_size = hidden_size\n",
        "        self.embedding = Embedding(vocab_size, hidden_size)\n",
        "        self.encoder = RNN(\n",
        "            input_size = self.hidden_size,\n",
        "            hidden_size = self.hidden_size,\n",
        "            num_layers = 1,\n",
        "            nonlinearity = 'tanh',\n",
        "            bias = True,\n",
        "            batch_first = True,\n",
        "            dropout = 0.1,\n",
        "            bidirectional = False\n",
        "        )\n",
        "        self.decoder = RNN(\n",
        "            input_size = self.hidden_size,\n",
        "            hidden_size = self.hidden_size,\n",
        "            num_layers = 1,\n",
        "            nonlinearity = 'tanh',\n",
        "            bias = True,\n",
        "            batch_first = True,\n",
        "            dropout = 0,\n",
        "            bidirectional = False\n",
        "        )\n",
        "        self.output = Linear(\n",
        "            in_features = self.hidden_size,\n",
        "            out_features = self.vocab_size\n",
        "        )\n",
        "    \n",
        "    def forward(self, X, Y, device='cpu'):\n",
        "        \"\"\"学習時の順伝搬\n",
        "        Parameters\n",
        "        ----------\n",
        "        X : Tensor[long]\n",
        "            encoder の入力(batch_size, sequence_length)\n",
        "        Y : Tensor[long]\n",
        "            decoder の入力(batch_size, sequence_length)\n",
        "        device : str\n",
        "            実行するデバイス(cpu or cuda)の指定\n",
        "        \"\"\"\n",
        "        h = torch.zeros(1, len(X), self.hidden_size).to(device) # 隠れ状態の初期化\n",
        "        encoder_i = self.embedding(X) # encoder の入力列の単語埋め込み\n",
        "        decoder_i = self.embedding(Y) # decoder の入力列の単語埋め込み\n",
        "        _, h = self.encoder(encoder_i, h) \n",
        "        o, _ = self.decoder(decoder_i, h)\n",
        "        o = self.output(o) # logit の計算\n",
        "\n",
        "        return o\n",
        "\n",
        "    @torch.inference_mode()\n",
        "    def predict(self, X, device='cpu', max_length=64):\n",
        "        \"\"\"推論時の順伝搬\n",
        "        Parameters\n",
        "        ----------\n",
        "        X : Tensor[long]\n",
        "            encoder の入力(batch_size, sequence_length)\n",
        "        device : str\n",
        "            実行するデバイス(cpu or cuda)の指定\n",
        "        max_length : int\n",
        "            生成する系列の最大長\n",
        "        \"\"\"\n",
        "        pred = [1] # SOS トークンを最初に入れる(本当はvocab[SOS_TOKEN]で入れるのが望ましい)\n",
        "        h = torch.zeros(1, self.hidden_size).to(device) # 隠れ状態の初期化\n",
        "        encoder_i = self.embedding(X) # 入力列の埋め込み\n",
        "        _, h = self.encoder(encoder_i, h)\n",
        "        while len(pred) <= max_length and pred[-1] != 2: # EOS トークンが出力されるか最大長に達するまで生成\n",
        "            decoder_i = self.embedding(torch.Tensor(pred).long().to(device))\n",
        "            o, _ = self.decoder(decoder_i, h)\n",
        "            logits = self.output(o[-1, :])\n",
        "            pred.append(torch.argmax(logits).item()) # 最も高い確率だった単語を生成結果とする\n",
        "        return pred\n"
      ],
      "metadata": {
        "id": "t8FBJXOsp5mL"
      },
      "execution_count": null,
      "outputs": []
    },
    {
      "cell_type": "markdown",
      "source": [
        "## 問題1\n",
        "---\n",
        "定義したモデルでは，学習時の順伝播(forward)と推論時の順伝搬(predict)を別々で実装しています．どうしてこのような実装にしているか説明してください．\n",
        "\n",
        "※別々に定義しない方法もあります．"
      ],
      "metadata": {
        "id": "rWZKvQbUFXIT"
      }
    },
    {
      "cell_type": "code",
      "source": [
        "class MyDataset(torch.utils.data.Dataset):\n",
        "    def __init__(self, X, Y):\n",
        "        self.X = X\n",
        "        self.Y = Y\n",
        "    \n",
        "    def __len__(self):\n",
        "        return len(self.X)\n",
        "\n",
        "    def __getitem__(self, idx):\n",
        "        return self.X[idx], self.Y[idx]"
      ],
      "metadata": {
        "id": "Nt4_ujaAzxy6"
      },
      "execution_count": null,
      "outputs": []
    },
    {
      "cell_type": "code",
      "source": [
        "tokenized_concepts = [torch.Tensor([vocab[j] if j in vocab else vocab[UNK_TOKEN] for j in i]).long() for i in concepts]\n",
        "tokenized_targets = [torch.Tensor([vocab[SOS_TOKEN]] + [vocab[j] if j in vocab else vocab[UNK_TOKEN] for j in nltk.tokenize.word_tokenize(i)] + [vocab[EOS_TOKEN]]).long() for i in targets]"
      ],
      "metadata": {
        "id": "YxpBoUwZwj1s"
      },
      "execution_count": null,
      "outputs": []
    },
    {
      "cell_type": "code",
      "source": [
        "train_dataset = MyDataset(tokenized_concepts, tokenized_targets)\n",
        "dataloader = torch.utils.data.DataLoader(train_dataset, batch_size=32, shuffle=True, collate_fn=lambda x: [[i[0] for i in x], [i[1] for i in x]])"
      ],
      "metadata": {
        "id": "c77C7dfux0PO"
      },
      "execution_count": null,
      "outputs": []
    },
    {
      "cell_type": "code",
      "source": [
        "device = 'cuda' if torch.cuda.is_available() else 'cpu' # colabo では tpu も使用できますが，使用方法は自分で調べてみてください\n",
        "\n",
        "rnn = Text2TextModel(len(vocab)).to(device)\n",
        "optimizer = Adam(rnn.parameters(), lr=1e-3)\n",
        "criterion = CrossEntropyLoss()\n",
        "MAX_EPOCH = 40\n",
        "\n",
        "loss_history = list()\n",
        "\n",
        "for epoch in range(1, MAX_EPOCH+1):\n",
        "    for batch_X, batch_Y in tqdm(dataloader):\n",
        "        optimizer.zero_grad(set_to_none=True)\n",
        "        encoder_input = pad_sequence(batch_X, batch_first=True).to(device)\n",
        "        decoder_input = pad_sequence([i[:-1:] for i in batch_Y], batch_first=True).to(device)\n",
        "        target = pad_sequence([i[1::] for i in batch_Y], batch_first=True).to(device)\n",
        "\n",
        "        o = rnn(encoder_input, decoder_input, device)\n",
        "        o = o.view(o.shape[0]*o.shape[1], -1) # CrossEntropyLoss の入力用に shape を変更\n",
        "        target = target.view(o.shape[0], )\n",
        "        loss = criterion(o, target)\n",
        "        loss.backward()\n",
        "        \n",
        "        loss_history.append(loss.item())\n",
        "\n",
        "        optimizer.step()\n",
        "    train_loss = torch.mean(torch.Tensor(loss_history[-len(dataloader):])).item()\n",
        "    print(f'{epoch=} | {train_loss=:.5f}')"
      ],
      "metadata": {
        "colab": {
          "base_uri": "https://localhost:8080/"
        },
        "id": "a6QbTcZpyUoK",
        "outputId": "71b5ccc5-f550-4fc1-9127-063240775cc0"
      },
      "execution_count": null,
      "outputs": [
        {
          "output_type": "stream",
          "name": "stderr",
          "text": [
            "/usr/local/lib/python3.8/dist-packages/torch/nn/modules/rnn.py:67: UserWarning: dropout option adds dropout after all but last recurrent layer, so non-zero dropout expects num_layers greater than 1, but got dropout=0.1 and num_layers=1\n",
            "  warnings.warn(\"dropout option adds dropout after all but last \"\n",
            "100%|██████████| 2106/2106 [00:28<00:00, 73.00it/s]\n"
          ]
        },
        {
          "output_type": "stream",
          "name": "stdout",
          "text": [
            "epoch=1 | train_loss=3.03185\n"
          ]
        },
        {
          "output_type": "stream",
          "name": "stderr",
          "text": [
            "100%|██████████| 2106/2106 [00:28<00:00, 75.14it/s]\n"
          ]
        },
        {
          "output_type": "stream",
          "name": "stdout",
          "text": [
            "epoch=2 | train_loss=2.39603\n"
          ]
        },
        {
          "output_type": "stream",
          "name": "stderr",
          "text": [
            "100%|██████████| 2106/2106 [00:27<00:00, 75.51it/s]\n"
          ]
        },
        {
          "output_type": "stream",
          "name": "stdout",
          "text": [
            "epoch=3 | train_loss=2.12923\n"
          ]
        },
        {
          "output_type": "stream",
          "name": "stderr",
          "text": [
            "100%|██████████| 2106/2106 [00:27<00:00, 76.08it/s]\n"
          ]
        },
        {
          "output_type": "stream",
          "name": "stdout",
          "text": [
            "epoch=4 | train_loss=1.95124\n"
          ]
        },
        {
          "output_type": "stream",
          "name": "stderr",
          "text": [
            "100%|██████████| 2106/2106 [00:27<00:00, 75.57it/s]\n"
          ]
        },
        {
          "output_type": "stream",
          "name": "stdout",
          "text": [
            "epoch=5 | train_loss=1.81722\n"
          ]
        },
        {
          "output_type": "stream",
          "name": "stderr",
          "text": [
            "100%|██████████| 2106/2106 [00:27<00:00, 75.53it/s]\n"
          ]
        },
        {
          "output_type": "stream",
          "name": "stdout",
          "text": [
            "epoch=6 | train_loss=1.70257\n"
          ]
        },
        {
          "output_type": "stream",
          "name": "stderr",
          "text": [
            "100%|██████████| 2106/2106 [00:27<00:00, 75.39it/s]\n"
          ]
        },
        {
          "output_type": "stream",
          "name": "stdout",
          "text": [
            "epoch=7 | train_loss=1.61968\n"
          ]
        },
        {
          "output_type": "stream",
          "name": "stderr",
          "text": [
            "100%|██████████| 2106/2106 [00:27<00:00, 75.87it/s]\n"
          ]
        },
        {
          "output_type": "stream",
          "name": "stdout",
          "text": [
            "epoch=8 | train_loss=1.54295\n"
          ]
        },
        {
          "output_type": "stream",
          "name": "stderr",
          "text": [
            "100%|██████████| 2106/2106 [00:27<00:00, 75.60it/s]\n"
          ]
        },
        {
          "output_type": "stream",
          "name": "stdout",
          "text": [
            "epoch=9 | train_loss=1.48252\n"
          ]
        },
        {
          "output_type": "stream",
          "name": "stderr",
          "text": [
            "100%|██████████| 2106/2106 [00:27<00:00, 75.66it/s]\n"
          ]
        },
        {
          "output_type": "stream",
          "name": "stdout",
          "text": [
            "epoch=10 | train_loss=1.42534\n"
          ]
        },
        {
          "output_type": "stream",
          "name": "stderr",
          "text": [
            "100%|██████████| 2106/2106 [00:27<00:00, 75.90it/s]\n"
          ]
        },
        {
          "output_type": "stream",
          "name": "stdout",
          "text": [
            "epoch=11 | train_loss=1.37918\n"
          ]
        },
        {
          "output_type": "stream",
          "name": "stderr",
          "text": [
            "100%|██████████| 2106/2106 [00:27<00:00, 75.87it/s]\n"
          ]
        },
        {
          "output_type": "stream",
          "name": "stdout",
          "text": [
            "epoch=12 | train_loss=1.33541\n"
          ]
        },
        {
          "output_type": "stream",
          "name": "stderr",
          "text": [
            "100%|██████████| 2106/2106 [00:27<00:00, 75.45it/s]\n"
          ]
        },
        {
          "output_type": "stream",
          "name": "stdout",
          "text": [
            "epoch=13 | train_loss=1.30061\n"
          ]
        },
        {
          "output_type": "stream",
          "name": "stderr",
          "text": [
            "100%|██████████| 2106/2106 [00:27<00:00, 75.60it/s]\n"
          ]
        },
        {
          "output_type": "stream",
          "name": "stdout",
          "text": [
            "epoch=14 | train_loss=1.26144\n"
          ]
        },
        {
          "output_type": "stream",
          "name": "stderr",
          "text": [
            "100%|██████████| 2106/2106 [00:27<00:00, 75.68it/s]\n"
          ]
        },
        {
          "output_type": "stream",
          "name": "stdout",
          "text": [
            "epoch=15 | train_loss=1.23728\n"
          ]
        },
        {
          "output_type": "stream",
          "name": "stderr",
          "text": [
            "100%|██████████| 2106/2106 [00:27<00:00, 75.66it/s]\n"
          ]
        },
        {
          "output_type": "stream",
          "name": "stdout",
          "text": [
            "epoch=16 | train_loss=1.20756\n"
          ]
        },
        {
          "output_type": "stream",
          "name": "stderr",
          "text": [
            "100%|██████████| 2106/2106 [00:29<00:00, 71.05it/s]\n"
          ]
        },
        {
          "output_type": "stream",
          "name": "stdout",
          "text": [
            "epoch=17 | train_loss=1.18685\n"
          ]
        },
        {
          "output_type": "stream",
          "name": "stderr",
          "text": [
            "100%|██████████| 2106/2106 [00:27<00:00, 75.81it/s]\n"
          ]
        },
        {
          "output_type": "stream",
          "name": "stdout",
          "text": [
            "epoch=18 | train_loss=1.16477\n"
          ]
        },
        {
          "output_type": "stream",
          "name": "stderr",
          "text": [
            "100%|██████████| 2106/2106 [00:28<00:00, 74.98it/s]\n"
          ]
        },
        {
          "output_type": "stream",
          "name": "stdout",
          "text": [
            "epoch=19 | train_loss=1.14451\n"
          ]
        },
        {
          "output_type": "stream",
          "name": "stderr",
          "text": [
            "100%|██████████| 2106/2106 [00:31<00:00, 67.89it/s]\n"
          ]
        },
        {
          "output_type": "stream",
          "name": "stdout",
          "text": [
            "epoch=20 | train_loss=1.13011\n"
          ]
        },
        {
          "output_type": "stream",
          "name": "stderr",
          "text": [
            "100%|██████████| 2106/2106 [00:27<00:00, 75.49it/s]\n"
          ]
        },
        {
          "output_type": "stream",
          "name": "stdout",
          "text": [
            "epoch=21 | train_loss=1.11136\n"
          ]
        },
        {
          "output_type": "stream",
          "name": "stderr",
          "text": [
            "100%|██████████| 2106/2106 [00:27<00:00, 76.01it/s]\n"
          ]
        },
        {
          "output_type": "stream",
          "name": "stdout",
          "text": [
            "epoch=22 | train_loss=1.09826\n"
          ]
        },
        {
          "output_type": "stream",
          "name": "stderr",
          "text": [
            "100%|██████████| 2106/2106 [00:28<00:00, 74.67it/s]\n"
          ]
        },
        {
          "output_type": "stream",
          "name": "stdout",
          "text": [
            "epoch=23 | train_loss=1.08756\n"
          ]
        },
        {
          "output_type": "stream",
          "name": "stderr",
          "text": [
            "100%|██████████| 2106/2106 [00:27<00:00, 75.72it/s]\n"
          ]
        },
        {
          "output_type": "stream",
          "name": "stdout",
          "text": [
            "epoch=24 | train_loss=1.07268\n"
          ]
        },
        {
          "output_type": "stream",
          "name": "stderr",
          "text": [
            "100%|██████████| 2106/2106 [00:28<00:00, 75.16it/s]\n"
          ]
        },
        {
          "output_type": "stream",
          "name": "stdout",
          "text": [
            "epoch=25 | train_loss=1.06340\n"
          ]
        },
        {
          "output_type": "stream",
          "name": "stderr",
          "text": [
            "100%|██████████| 2106/2106 [00:27<00:00, 75.68it/s]\n"
          ]
        },
        {
          "output_type": "stream",
          "name": "stdout",
          "text": [
            "epoch=26 | train_loss=1.05100\n"
          ]
        },
        {
          "output_type": "stream",
          "name": "stderr",
          "text": [
            "100%|██████████| 2106/2106 [00:27<00:00, 75.90it/s]\n"
          ]
        },
        {
          "output_type": "stream",
          "name": "stdout",
          "text": [
            "epoch=27 | train_loss=1.03874\n"
          ]
        },
        {
          "output_type": "stream",
          "name": "stderr",
          "text": [
            "100%|██████████| 2106/2106 [00:27<00:00, 75.65it/s]\n"
          ]
        },
        {
          "output_type": "stream",
          "name": "stdout",
          "text": [
            "epoch=28 | train_loss=1.03149\n"
          ]
        },
        {
          "output_type": "stream",
          "name": "stderr",
          "text": [
            "100%|██████████| 2106/2106 [00:27<00:00, 75.52it/s]\n"
          ]
        },
        {
          "output_type": "stream",
          "name": "stdout",
          "text": [
            "epoch=29 | train_loss=1.02476\n"
          ]
        },
        {
          "output_type": "stream",
          "name": "stderr",
          "text": [
            "100%|██████████| 2106/2106 [00:27<00:00, 75.81it/s]\n"
          ]
        },
        {
          "output_type": "stream",
          "name": "stdout",
          "text": [
            "epoch=30 | train_loss=1.01540\n"
          ]
        },
        {
          "output_type": "stream",
          "name": "stderr",
          "text": [
            "100%|██████████| 2106/2106 [00:27<00:00, 75.58it/s]\n"
          ]
        },
        {
          "output_type": "stream",
          "name": "stdout",
          "text": [
            "epoch=31 | train_loss=1.01265\n"
          ]
        },
        {
          "output_type": "stream",
          "name": "stderr",
          "text": [
            "100%|██████████| 2106/2106 [00:27<00:00, 75.63it/s]\n"
          ]
        },
        {
          "output_type": "stream",
          "name": "stdout",
          "text": [
            "epoch=32 | train_loss=1.00231\n"
          ]
        },
        {
          "output_type": "stream",
          "name": "stderr",
          "text": [
            "100%|██████████| 2106/2106 [00:27<00:00, 75.70it/s]\n"
          ]
        },
        {
          "output_type": "stream",
          "name": "stdout",
          "text": [
            "epoch=33 | train_loss=0.99849\n"
          ]
        },
        {
          "output_type": "stream",
          "name": "stderr",
          "text": [
            "100%|██████████| 2106/2106 [00:27<00:00, 75.85it/s]\n"
          ]
        },
        {
          "output_type": "stream",
          "name": "stdout",
          "text": [
            "epoch=34 | train_loss=0.99334\n"
          ]
        },
        {
          "output_type": "stream",
          "name": "stderr",
          "text": [
            "100%|██████████| 2106/2106 [00:27<00:00, 75.77it/s]\n"
          ]
        },
        {
          "output_type": "stream",
          "name": "stdout",
          "text": [
            "epoch=35 | train_loss=0.98815\n"
          ]
        },
        {
          "output_type": "stream",
          "name": "stderr",
          "text": [
            "100%|██████████| 2106/2106 [00:27<00:00, 75.61it/s]\n"
          ]
        },
        {
          "output_type": "stream",
          "name": "stdout",
          "text": [
            "epoch=36 | train_loss=0.98404\n"
          ]
        },
        {
          "output_type": "stream",
          "name": "stderr",
          "text": [
            "100%|██████████| 2106/2106 [00:27<00:00, 75.46it/s]\n"
          ]
        },
        {
          "output_type": "stream",
          "name": "stdout",
          "text": [
            "epoch=37 | train_loss=0.98070\n"
          ]
        },
        {
          "output_type": "stream",
          "name": "stderr",
          "text": [
            "100%|██████████| 2106/2106 [00:27<00:00, 75.85it/s]\n"
          ]
        },
        {
          "output_type": "stream",
          "name": "stdout",
          "text": [
            "epoch=38 | train_loss=0.97680\n"
          ]
        },
        {
          "output_type": "stream",
          "name": "stderr",
          "text": [
            "100%|██████████| 2106/2106 [00:27<00:00, 75.90it/s]\n"
          ]
        },
        {
          "output_type": "stream",
          "name": "stdout",
          "text": [
            "epoch=39 | train_loss=0.97215\n"
          ]
        },
        {
          "output_type": "stream",
          "name": "stderr",
          "text": [
            "100%|██████████| 2106/2106 [00:27<00:00, 75.63it/s]"
          ]
        },
        {
          "output_type": "stream",
          "name": "stdout",
          "text": [
            "epoch=40 | train_loss=0.96928\n"
          ]
        },
        {
          "output_type": "stream",
          "name": "stderr",
          "text": [
            "\n"
          ]
        }
      ]
    },
    {
      "cell_type": "code",
      "source": [
        "def decode(ids, vocab):\n",
        "    \"\"\"idのリストから文字列に変換\n",
        "    Parameters\n",
        "    ----------\n",
        "    ids : list[int]\n",
        "        変換対象の id のリスト\n",
        "    vocab : dict[str, int]\n",
        "        変換に使用する語彙の辞書\n",
        "    \"\"\"\n",
        "    vocab_rev = {j:i for i, j in vocab.items()} # id -> word の変換に使いたいので辞書の key, value を交換\n",
        "    decoded_sent = list()\n",
        "    for id in ids:\n",
        "        decoded_sent.append(vocab_rev[id]) # 存在しない id は入力されないことを前提にしている．これに対処する場合は場合分けするか，default Dict を使う\n",
        "    return decoded_sent"
      ],
      "metadata": {
        "id": "41MR0wEvzDOg"
      },
      "execution_count": null,
      "outputs": []
    },
    {
      "cell_type": "code",
      "source": [
        "def predict(idx):\n",
        "    \"\"\"学習用データの idx 番目 concepts から文を生成\n",
        "    Parameters\n",
        "    ----------\n",
        "    idx : int\n",
        "        学習用データの何番目を使用するか指定する整数\n",
        "    \"\"\"\n",
        "    x = decode(train_dataset[idx][0].tolist(), vocab)\n",
        "    true_y = decode(train_dataset[idx][1].tolist(), vocab)\n",
        "\n",
        "    pred = rnn.predict(train_dataset[idx][0].to(device), device=device)\n",
        "    pred_y = decode(pred, vocab)\n",
        "\n",
        "    return x, true_y, pred_y"
      ],
      "metadata": {
        "id": "C9Vlx1CKDIsh"
      },
      "execution_count": null,
      "outputs": []
    },
    {
      "cell_type": "code",
      "source": [
        "skip_keywords = list()\n",
        "for i in range(1000):\n",
        "    x, true_y, pred_y = predict(i)\n",
        "    if x in skip_keywords:\n",
        "        continue\n",
        "    else:\n",
        "        skip_keywords.append(x)\n",
        "    score = sum([1 if w in pred_y else 0 for w in x])\n",
        "\n",
        "    if score > 1:\n",
        "        print('='*30+f'{score=}'+'='*30)\n",
        "        print(f'idx={i}')\n",
        "        print(f'keywords={x}')\n",
        "        print(f'true sentense={true_y}')\n",
        "        print(f'predicted sentense={pred_y}')"
      ],
      "metadata": {
        "colab": {
          "base_uri": "https://localhost:8080/"
        },
        "id": "bPxXa_1cYAmS",
        "outputId": "27cbfa1c-7c19-4404-cd3e-20c3cf6263e7"
      },
      "execution_count": null,
      "outputs": [
        {
          "output_type": "stream",
          "name": "stdout",
          "text": [
            "==============================score=2==============================\n",
            "idx=9\n",
            "keywords=['station', 'train', 'pull']\n",
            "true sentense=['<s>', 'a', 'train', 'pulls', 'into', 'station', '</s>']\n",
            "predicted sentense=['<s>', 'A', 'train', 'pulls', 'into', 'a', 'station', '</s>']\n",
            "==============================score=2==============================\n",
            "idx=54\n",
            "keywords=['train', 'track', 'move']\n",
            "true sentense=['<s>', 'train', 'moving', 'on', 'the', 'tracks', '</s>']\n",
            "predicted sentense=['<s>', 'A', 'train', 'moving', 'down', 'the', 'track', 'blows', 'steam', 'from', 'its', 'exahust', '</s>']\n",
            "==============================score=2==============================\n",
            "idx=66\n",
            "keywords=['station', 'sit', 'train']\n",
            "true sentense=['<s>', 'a', 'train', 'sits', 'at', 'the', 'station', '</s>']\n",
            "predicted sentense=['<s>', 'A', 'train', 'pulls', 'into', 'a', 'station', '</s>']\n",
            "==============================score=2==============================\n",
            "idx=72\n",
            "keywords=['station', 'stop', 'train']\n",
            "true sentense=['<s>', 'train', 'is', 'stopped', 'at', 'a', 'station', '</s>']\n",
            "predicted sentense=['<s>', 'A', 'train', 'pulled', 'into', 'a', 'station', 'during', 'the', 'day', '</s>']\n",
            "==============================score=2==============================\n",
            "idx=75\n",
            "keywords=['plane', 'runway', 'sit']\n",
            "true sentense=['<s>', 'A', 'plane', 'sits', 'on', 'the', 'runway', '</s>']\n",
            "predicted sentense=['<s>', 'A', 'plane', 'is', 'parked', 'at', 'the', 'top', 'of', 'a', 'runway', '.', '</s>']\n",
            "==============================score=2==============================\n",
            "idx=81\n",
            "keywords=['herd', 'dog', 'sheep']\n",
            "true sentense=['<s>', 'A', 'dog', 'herds', 'a', 'sheep', '.', '</s>']\n",
            "predicted sentense=['<s>', 'A', 'herd', 'of', 'sheep', 'gather', 'to', 'the', 'lawn', '.', '</s>']\n",
            "==============================score=2==============================\n",
            "idx=147\n",
            "keywords=['hospital', 'patient', 'nurse']\n",
            "true sentense=['<s>', 'nurse', 'with', 'a', 'patient', 'in', 'the', 'hospital', '</s>']\n",
            "predicted sentense=['<s>', 'a', 'nurse', 'discusses', 'paperwork', 'with', 'a', 'patient', '</s>']\n",
            "==============================score=2==============================\n",
            "idx=153\n",
            "keywords=['field', 'plow', 'farmer']\n",
            "true sentense=['<s>', 'A', 'farmer', 'plows', 'his', 'field', '.', '</s>']\n",
            "predicted sentense=['<s>', 'a', 'farmer', 'in', 'a', 'field', 'in', 'a', 'field', '</s>']\n",
            "==============================score=2==============================\n",
            "idx=165\n",
            "keywords=['smile', 'daughter', 'mother']\n",
            "true sentense=['<s>', 'mother', 'and', 'daughter', 'smiling', 'in', 'the', 'winter', '</s>']\n",
            "predicted sentense=['<s>', 'mother', 'and', 'daughter', 'having', 'fun', 'at', 'the', 'table', '</s>']\n",
            "==============================score=2==============================\n",
            "idx=177\n",
            "keywords=['construction', 'building', 'crane']\n",
            "true sentense=['<s>', 'cranes', 'and', 'buildings', 'under', 'construction', '</s>']\n",
            "predicted sentense=['<s>', 'construction', 'crane', 'on', 'the', 'facade', 'of', 'a', 'city', '</s>']\n",
            "==============================score=2==============================\n",
            "idx=215\n",
            "keywords=['herd', 'pasture', 'sheep']\n",
            "true sentense=['<s>', 'herd', 'of', 'sheep', 'on', 'a', 'pasture', '.', '</s>']\n",
            "predicted sentense=['<s>', 'A', 'herd', 'of', 'sheep', 'gather', 'to', 'eat', 'some', 'grass', '</s>']\n",
            "==============================score=2==============================\n",
            "idx=230\n",
            "keywords=['tree', 'shade', 'bench']\n",
            "true sentense=['<s>', 'bench', 'in', 'the', 'shade', 'of', 'an', 'oak', 'tree', '</s>']\n",
            "predicted sentense=['<s>', 'a', 'tree', 'under', 'the', 'shade', 'of', 'a', 'tree', '</s>']\n",
            "==============================score=2==============================\n",
            "idx=248\n",
            "keywords=['furniture', 'room', 'carpet']\n",
            "true sentense=['<s>', 'A', 'live', 'room', 'with', 'beige', 'furniture', 'and', 'carpets', '</s>']\n",
            "predicted sentense=['<s>', 'A', 'room', 'filled', 'with', 'lots', 'of', 'furniture', 'and', 'clutter', '.', '</s>']\n",
            "==============================score=2==============================\n",
            "idx=309\n",
            "keywords=['station', 'wait', 'subway']\n",
            "true sentense=['<s>', 'People', 'wait', 'outside', 'a', 'subway', 'that', 'is', 'in', 'the', 'station', '.', '</s>']\n",
            "predicted sentense=['<s>', 'A', 'motorcycle', 'parked', 'next', 'to', 'a', 'subway', 'station', 'with', 'a', 'toy', '.', '</s>']\n",
            "==============================score=2==============================\n",
            "idx=362\n",
            "keywords=['wheelchair', 'push', 'lady']\n",
            "true sentense=['<s>', 'A', 'lady', 'is', 'pushing', 'a', 'wheelchair', '.', '</s>']\n",
            "predicted sentense=['<s>', 'A', 'lady', 'in', 'a', 'wheelchair', 'is', 'watching', 'the', 'Olympic', 'gymnastics', 'competition', '.', '</s>']\n",
            "==============================score=2==============================\n",
            "idx=469\n",
            "keywords=['plate', 'table', 'pizza']\n",
            "true sentense=['<s>', 'a', 'plate', 'of', 'pizza', 'on', 'a', 'table', '</s>']\n",
            "predicted sentense=['<s>', 'A', 'plate', 'of', 'fruit', ',', 'including', 'broccoli', ',', 'and', 'carrots', 'on', 'a', 'table', '.', '</s>']\n",
            "==============================score=2==============================\n",
            "idx=472\n",
            "keywords=['meat', 'vegetable', 'plate']\n",
            "true sentense=['<s>', 'We', 'see', 'a', 'plate', 'of', 'meat', 'and', 'vegetables', '.', '</s>']\n",
            "predicted sentense=['<s>', 'A', 'plate', 'of', 'meat', 'covered', 'with', 'onions', 'has', 'vegetables', '.', '</s>']\n",
            "==============================score=3==============================\n",
            "idx=475\n",
            "keywords=['room', 'couch', 'chair']\n",
            "true sentense=['<s>', 'A', 'couch', 'and', 'a', 'chair', 'in', 'a', 'room', '.', '</s>']\n",
            "predicted sentense=['<s>', 'A', 'room', 'with', 'a', 'couch', ',', 'desk', ',', 'chair', ',', 'fireplace', 'and', 'a', 'piano', '.', '</s>']\n",
            "==============================score=3==============================\n",
            "idx=484\n",
            "keywords=['building', 'clock', 'top']\n",
            "true sentense=['<s>', 'a', 'clock', 'on', 'the', 'top', 'of', 'a', 'building', '</s>']\n",
            "predicted sentense=['<s>', 'A', 'clock', 'on', 'the', 'top', 'of', 'a', 'building', 'with', 'a', 'clock', 'tower', '.', '</s>']\n",
            "==============================score=2==============================\n",
            "idx=487\n",
            "keywords=['graze', 'field', 'sheep']\n",
            "true sentense=['<s>', 'sheep', 'grazing', 'in', 'a', 'field', '</s>']\n",
            "predicted sentense=['<s>', 'sheep', 'grazing', 'in', 'a', 'field', '</s>']\n",
            "==============================score=2==============================\n",
            "idx=490\n",
            "keywords=['wall', 'toilet', 'bathroom']\n",
            "true sentense=['<s>', 'A', 'toilet', 'in', 'a', 'bathroom', 'next', 'to', 'a', 'wall', '.', '</s>']\n",
            "predicted sentense=['<s>', 'A', 'bathroom', 'with', 'a', 'mirror', 'and', 'a', 'tub', 'and', 'a', 'toilet', '</s>']\n",
            "==============================score=2==============================\n",
            "idx=493\n",
            "keywords=['track', 'train', 'station']\n",
            "true sentense=['<s>', 'a', 'train', 'on', 'track', 'at', 'station', '</s>']\n",
            "predicted sentense=['<s>', 'A', 'train', 'is', 'blowing', 'steam', 'as', 'it', 'stops', 'at', 'a', 'train', 'station', '.', '</s>']\n",
            "==============================score=2==============================\n",
            "idx=508\n",
            "keywords=['player', 'match', 'look']\n",
            "true sentense=['<s>', 'players', 'look', 'during', 'the', 'match', '.', '</s>']\n",
            "predicted sentense=['<s>', 'soccer', 'player', 'looks', 'on', 'during', 'a', 'match', 'as', 'part', 'of', 'the', 'brazilian', 'championship', 'at', 'stadium', '.', '</s>']\n",
            "==============================score=2==============================\n",
            "idx=538\n",
            "keywords=['runway', 'walk', 'model']\n",
            "true sentense=['<s>', 'models', 'walk', 'the', 'runway', 'as', 'part', '</s>']\n",
            "predicted sentense=['<s>', 'a', 'model', 'walks', 'the', 'runway', 'during', 'the', 'match', '</s>']\n",
            "==============================score=2==============================\n",
            "idx=544\n",
            "keywords=['sky', 'cloud', 'sun']\n",
            "true sentense=['<s>', 'sun', 'and', 'clouds', 'on', 'the', 'sky', '</s>']\n",
            "predicted sentense=['<s>', 'the', 'sun', 'rises', 'above', 'a', 'fluffy', 'sky', '.', '</s>']\n",
            "==============================score=3==============================\n",
            "idx=550\n",
            "keywords=['sheep', 'field', 'herd']\n",
            "true sentense=['<s>', 'herd', 'of', 'sheep', 'in', 'a', 'field', '</s>']\n",
            "predicted sentense=['<s>', 'A', 'herd', 'of', 'sheep', 'gather', 'on', 'a', 'grassy', 'field', '.', '</s>']\n",
            "==============================score=2==============================\n",
            "idx=553\n",
            "keywords=['wall', 'hang', 'clock']\n",
            "true sentense=['<s>', 'a', 'clock', 'hanging', 'on', 'a', 'wall', '</s>']\n",
            "predicted sentense=['<s>', 'A', 'clock', 'hangs', 'on', 'a', 'wall', 'in', 'a', 'waterway', '.', '</s>']\n",
            "==============================score=2==============================\n",
            "idx=559\n",
            "keywords=['top', 'cheese', 'pizza']\n",
            "true sentense=['<s>', 'A', 'pizza', 'is', 'topped', 'with', 'sauce', 'and', 'cheese', '.', '</s>']\n",
            "predicted sentense=['<s>', 'A', 'cheese', 'pizza', 'has', 'a', 'lot', 'of', 'cheese', '.', '</s>']\n",
            "==============================score=2==============================\n",
            "idx=580\n",
            "keywords=['bridge', 'pass', 'boat']\n",
            "true sentense=['<s>', 'boats', 'pass', 'an', 'open', 'bridge', '</s>']\n",
            "predicted sentense=['<s>', 'a', 'boat', 'passes', 'under', 'a', 'bridge', '</s>']\n",
            "==============================score=2==============================\n",
            "idx=594\n",
            "keywords=['room', 'couch', 'fireplace']\n",
            "true sentense=['<s>', 'A', 'couch', 'in', 'a', 'living', 'room', 'by', 'a', 'fireplace', '.', '</s>']\n",
            "predicted sentense=['<s>', 'A', 'room', 'with', 'a', 'couch', ',', 'bookcase', ',', 'desk', ',', 'chairs', ',', 'and', 'a', 'lamp', '.', '</s>']\n",
            "==============================score=2==============================\n",
            "idx=596\n",
            "keywords=['wall', 'bathroom', 'mirror']\n",
            "true sentense=['<s>', 'A', 'mirror', 'on', 'a', 'wall', 'in', 'a', 'bathroom', '.', '</s>']\n",
            "predicted sentense=['<s>', 'A', 'bathroom', 'with', 'a', 'mirror', 'and', 'a', 'mirror', 'window', 'with', 'white', 'sinks', 'and', 'a', 'side', '.', '</s>']\n",
            "==============================score=2==============================\n",
            "idx=611\n",
            "keywords=['fish', 'sale', 'market']\n",
            "true sentense=['<s>', 'fish', 'for', 'sale', 'the', 'market', '</s>']\n",
            "predicted sentense=['<s>', 'fresh', 'tuna', 'lies', 'awaiting', 'inspection', 'and', 'auction', 'the', 'worlds', 'largest', 'daily', 'fish', 'market', '</s>']\n",
            "==============================score=2==============================\n",
            "idx=614\n",
            "keywords=['train', 'front', 'track']\n",
            "true sentense=['<s>', 'front', 'of', 'a', 'train', 'on', 'the', 'tracks', '</s>']\n",
            "predicted sentense=['<s>', 'A', 'train', 'moving', 'down', 'the', 'track', 'blows', 'steam', 'from', 'its', 'exahust', '</s>']\n",
            "==============================score=3==============================\n",
            "idx=620\n",
            "keywords=['cattle', 'field', 'herd']\n",
            "true sentense=['<s>', 'herd', 'of', 'cattle', 'in', 'a', 'field', '</s>']\n",
            "predicted sentense=['<s>', 'a', 'herd', 'of', 'cattle', 'grazing', 'agricultural', 'land', 'in', 'the', 'field', '</s>']\n",
            "==============================score=2==============================\n",
            "idx=638\n",
            "keywords=['station', 'train', 'travel']\n",
            "true sentense=['<s>', 'train', 'on', 'the', 'station', 'who', 'travel', '</s>']\n",
            "predicted sentense=['<s>', 'A', 'train', 'pulls', 'into', 'a', 'station', '</s>']\n",
            "==============================score=2==============================\n",
            "idx=653\n",
            "keywords=['dock', 'port', 'ship']\n",
            "true sentense=['<s>', 'a', 'ship', 'docked', 'in', 'port', '</s>']\n",
            "predicted sentense=['<s>', 'passengers', 'on', 'the', 'deck', 'of', 'ship', 'is', 'berthed', 'in', 'port', '</s>']\n",
            "==============================score=2==============================\n",
            "idx=680\n",
            "keywords=['building', 'wall', 'clock']\n",
            "true sentense=['<s>', 'A', 'clock', 'is', 'on', 'the', 'wall', 'of', 'a', 'building', '.', '</s>']\n",
            "predicted sentense=['<s>', 'A', 'clock', 'on', 'the', 'sky', 'behind', 'a', 'building', '</s>']\n",
            "==============================score=2==============================\n",
            "idx=683\n",
            "keywords=['graze', 'pasture', 'sheep']\n",
            "true sentense=['<s>', 'grazing', 'sheep', 'in', 'a', 'pasture', '</s>']\n",
            "predicted sentense=['<s>', 'grazing', 'sheep', 'in', 'the', 'pasture', '</s>']\n",
            "==============================score=2==============================\n",
            "idx=689\n",
            "keywords=['tree', 'sheep', 'field']\n",
            "true sentense=['<s>', 'field', 'of', 'sheep', 'with', 'a', 'tree', '</s>']\n",
            "predicted sentense=['<s>', 'a', 'sheep', 'grazes', 'in', 'a', 'field', 'in', 'forest', '</s>']\n",
            "==============================score=2==============================\n",
            "idx=709\n",
            "keywords=['friend', 'spend', 'time']\n",
            "true sentense=['<s>', 'spent', 'time', 'with', 'some', 'friends', '.', '</s>']\n",
            "predicted sentense=['<s>', 'friend', 'is', 'love', 'the', 'time', 'of', 'any', 'time', '.', '</s>']\n",
            "==============================score=2==============================\n",
            "idx=723\n",
            "keywords=['flower', 'bloom', 'tree']\n",
            "true sentense=['<s>', 'flowers', 'bloom', 'on', 'a', 'tree', '.', '</s>']\n",
            "predicted sentense=['<s>', 'banyan', 'tree', 'which', 'forms', 'a', 'flower', 'and', 'lavender', '</s>']\n",
            "==============================score=2==============================\n",
            "idx=729\n",
            "keywords=['station', 'train', 'move']\n",
            "true sentense=['<s>', 'a', 'train', 'moving', 'through', 'a', 'station', '</s>']\n",
            "predicted sentense=['<s>', 'A', 'train', 'coming', 'down', 'the', 'tracks', 'at', 'a', 'station', '</s>']\n",
            "==============================score=2==============================\n",
            "idx=735\n",
            "keywords=['plate', 'sauce', 'meat']\n",
            "true sentense=['<s>', 'A', 'plate', 'of', 'meat', ',', 'vegetables', 'and', 'a', 'sauce', '</s>']\n",
            "predicted sentense=['<s>', 'A', 'plate', 'of', 'meat', 'covered', 'with', 'onions', 'has', 'vegetables', '.', '</s>']\n",
            "==============================score=2==============================\n",
            "idx=758\n",
            "keywords=['mountain', 'plane', 'fly']\n",
            "true sentense=['<s>', 'a', 'lone', 'plane', 'flies', 'over', 'the', 'mountains', '</s>']\n",
            "predicted sentense=['<s>', 'a', 'plane', 'flying', 'over', 'a', 'mountain', 'range', '.', '</s>']\n",
            "==============================score=3==============================\n",
            "idx=761\n",
            "keywords=['herd', 'grass', 'sheep']\n",
            "true sentense=['<s>', 'A', 'herd', 'of', 'sheep', 'roam', 'in', 'the', 'grass', '.', '</s>']\n",
            "predicted sentense=['<s>', 'A', 'herd', 'of', 'sheep', 'gather', 'together', 'to', 'eat', 'grass', '.', '</s>']\n",
            "==============================score=2==============================\n",
            "idx=776\n",
            "keywords=['train', 'station', 'day']\n",
            "true sentense=['<s>', 'train', 'on', 'a', 'foggy', 'day', 'at', 'station', '</s>']\n",
            "predicted sentense=['<s>', 'A', 'train', 'station', 'with', 'a', 'train', 'departing', 'on', 'a', 'runway', '.', '</s>']\n",
            "==============================score=2==============================\n",
            "idx=779\n",
            "keywords=['lie', 'grass', 'couple']\n",
            "true sentense=['<s>', 'couple', 'lying', 'in', 'the', 'grass', '</s>']\n",
            "predicted sentense=['<s>', 'a', 'couple', 'of', 'mallard', 'ducks', 'resting', 'on', 'a', 'grass', '</s>']\n",
            "==============================score=3==============================\n",
            "idx=782\n",
            "keywords=['beach', 'fisherman', 'net']\n",
            "true sentense=['<s>', 'fishermen', 'with', 'nets', 'on', 'the', 'beach', '</s>']\n",
            "predicted sentense=['<s>', 'a', 'fisherman', 'throws', 'his', 'net', 'into', 'the', 'sea', 'on', 'a', 'beach', '</s>']\n",
            "==============================score=2==============================\n",
            "idx=785\n",
            "keywords=['airplane', 'tarmac', 'airport']\n",
            "true sentense=['<s>', 'airplane', 'on', 'tarmac', 'at', 'an', 'airport', '</s>']\n",
            "predicted sentense=['<s>', 'A', 'large', 'airplane', 'on', 'the', 'tarmac', 'with', 'passengers', '.', '</s>']\n",
            "==============================score=2==============================\n",
            "idx=803\n",
            "keywords=['look', 'grass', 'zebra']\n",
            "true sentense=['<s>', 'a', 'zebra', 'looks', 'at', 'the', 'grass', 'at', 'a', 'zoo', '</s>']\n",
            "predicted sentense=['<s>', 'A', 'zebra', 'grazing', 'on', 'grass', 'in', 'a', 'pen', '.', '</s>']\n",
            "==============================score=2==============================\n",
            "idx=806\n",
            "keywords=['bathroom', 'toilet', 'shelf']\n",
            "true sentense=['<s>', 'A', 'small', 'bathroom', 'and', 'toilet', 'and', 'a', 'shelf', '.', '</s>']\n",
            "predicted sentense=['<s>', 'A', 'bathroom', 'with', 'a', 'toilet', ',', 'a', 'sink', ',', 'and', 'a', 'bathtub', 'in', 'a', 'cabinet', '.', '</s>']\n",
            "==============================score=2==============================\n",
            "idx=819\n",
            "keywords=['walk', 'zoo', 'giraffe']\n",
            "true sentense=['<s>', 'A', 'giraffe', 'walking', 'in', 'the', 'den', 'of', 'the', 'zoo', '</s>']\n",
            "predicted sentense=['<s>', 'A', 'giraffe', 'in', 'a', 'pen', 'at', 'a', 'zoo', '.', '</s>']\n",
            "==============================score=2==============================\n",
            "idx=828\n",
            "keywords=['grass', 'bench', 'tree']\n",
            "true sentense=['<s>', 'benches', 'on', 'grass', 'under', 'the', 'trees', '</s>']\n",
            "predicted sentense=['<s>', 'A', 'zebra', 'eating', 'grass', 'beside', 'a', 'tree', '.', '</s>']\n",
            "==============================score=2==============================\n",
            "idx=837\n",
            "keywords=['beach', 'boat', 'sea']\n",
            "true sentense=['<s>', 'boat', 'on', 'the', 'beach', 'at', 'sea', '</s>']\n",
            "predicted sentense=['<s>', 'a', 'small', 'rowing', 'boat', 'on', 'the', 'beach', 'at', 'sunrise', '</s>']\n",
            "==============================score=2==============================\n",
            "idx=842\n",
            "keywords=['plane', 'land', 'airport']\n",
            "true sentense=['<s>', 'a', 'plane', 'lands', 'on', 'the', 'airport', '</s>']\n",
            "predicted sentense=['<s>', 'a', 'plane', 'on', 'the', 'airport', 'can', 'see', 'a', 'single', 'zebra', '.', '</s>']\n",
            "==============================score=2==============================\n",
            "idx=848\n",
            "keywords=['coffee', 'cup', 'saucer']\n",
            "true sentense=['<s>', 'cup', 'of', 'coffee', 'on', 'a', 'saucer', '</s>']\n",
            "predicted sentense=['<s>', 'a', 'cup', 'of', 'coffee', 'with', 'cake', '</s>']\n",
            "==============================score=2==============================\n",
            "idx=869\n",
            "keywords=['window', 'cloud', 'sky']\n",
            "true sentense=['<s>', 'clouds', 'and', 'sky', 'from', 'the', 'window', 'of', 'an', 'aircraft', '</s>']\n",
            "predicted sentense=['<s>', 'view', 'from', 'the', 'window', 'of', 'the', 'sky', '</s>']\n",
            "==============================score=2==============================\n",
            "idx=875\n",
            "keywords=['flock', 'pasture', 'sheep']\n",
            "true sentense=['<s>', 'a', 'flock', 'of', 'sheep', 'in', 'the', 'pasture', '</s>']\n",
            "predicted sentense=['<s>', 'a', 'flock', 'of', 'sheep', 'on', 'a', 'farm', '</s>']\n",
            "==============================score=2==============================\n",
            "idx=918\n",
            "keywords=['look', 'couch', 'room']\n",
            "true sentense=['<s>', 'a', 'couch', 'in', 'a', 'clean', 'looking', 'living', 'room', '</s>']\n",
            "predicted sentense=['<s>', 'A', 'room', 'with', 'a', 'couch', ',', 'bookcase', ',', 'desk', ',', 'mirror', ',', 'and', 'window', '.', '</s>']\n",
            "==============================score=2==============================\n",
            "idx=944\n",
            "keywords=['clock', 'church', 'tower']\n",
            "true sentense=['<s>', 'A', 'clock', 'on', 'a', 'tower', 'at', 'a', 'church', '.', '</s>']\n",
            "predicted sentense=['<s>', 'A', 'clock', 'on', 'the', 'tower', 'seen', 'next', 'to', 'its', 'light', '.', '</s>']\n",
            "==============================score=3==============================\n",
            "idx=950\n",
            "keywords=['pitch', 'batter', 'catcher']\n",
            "true sentense=['<s>', 'A', 'batter', 'and', 'catcher', 'in', 'the', 'middle', 'of', 'a', 'pitch', '.', '</s>']\n",
            "predicted sentense=['<s>', 'A', 'batter', ',', 'catcher', ',', 'and', 'umpire', 'waiting', 'for', 'a', 'pitch', '.', '</s>']\n"
          ]
        }
      ]
    },
    {
      "cell_type": "code",
      "source": [],
      "metadata": {
        "id": "tk8XDwv0RFjo"
      },
      "execution_count": null,
      "outputs": []
    },
    {
      "cell_type": "markdown",
      "source": [
        "# 検証データに対して予測してみる"
      ],
      "metadata": {
        "id": "BcuKcx-AZ2jH"
      }
    },
    {
      "cell_type": "code",
      "source": [
        "valid_concepts= [i['concepts'] for i in dataset['validation']]\n",
        "valid_targets= [i['target'] for i in dataset['validation']]"
      ],
      "metadata": {
        "id": "Nhh6bmwZZ4bn"
      },
      "execution_count": null,
      "outputs": []
    },
    {
      "cell_type": "code",
      "source": [
        "tokenized_valid_concepts = [torch.Tensor([vocab[j] if j in vocab else vocab[UNK_TOKEN] for j in i]).long() for i in valid_concepts]\n",
        "tokenized_valid_targets = [torch.Tensor([vocab[SOS_TOKEN]] + [vocab[j] if j in vocab else vocab[UNK_TOKEN] for j in nltk.tokenize.word_tokenize(i)] + [vocab[EOS_TOKEN]]).long() for i in valid_targets]"
      ],
      "metadata": {
        "id": "4cumw7isaAUW"
      },
      "execution_count": null,
      "outputs": []
    },
    {
      "cell_type": "code",
      "source": [
        "valid_dataset = MyDataset(tokenized_valid_concepts, tokenized_valid_targets)"
      ],
      "metadata": {
        "id": "RphNEJ-_aUah"
      },
      "execution_count": null,
      "outputs": []
    },
    {
      "cell_type": "code",
      "source": [
        "def predict_valid(idx):\n",
        "    x = decode(valid_dataset[idx][0].tolist(), vocab)\n",
        "    true_y = decode(valid_dataset[idx][1].tolist(), vocab)\n",
        "\n",
        "    pred = rnn.predict(valid_dataset[idx][0].to(device), device=device)\n",
        "    pred_y = decode(pred, vocab)\n",
        "\n",
        "    return x, true_y, pred_y"
      ],
      "metadata": {
        "id": "UK9lmEQIaOvb"
      },
      "execution_count": null,
      "outputs": []
    },
    {
      "cell_type": "code",
      "source": [
        "skip_keywords = list()\n",
        "for i in range(500):\n",
        "    x, true_y, pred_y = predict_valid(i)\n",
        "    if x in skip_keywords:\n",
        "        continue\n",
        "    else:\n",
        "        skip_keywords.append(x)\n",
        "    score = sum([1 if w in pred_y else 0 for w in x])\n",
        "\n",
        "    if score > 0:\n",
        "        print('='*30+f'{score=}'+'='*30)\n",
        "        print(f'idx={i}')\n",
        "        print(f'keywords={x}')\n",
        "        print(f'true sentense={true_y}')\n",
        "        print(f'predicted sentense={pred_y}')"
      ],
      "metadata": {
        "colab": {
          "base_uri": "https://localhost:8080/"
        },
        "id": "JF8Bmz3PaF1f",
        "outputId": "51ca429f-652b-4e26-b01a-cfa9f98565c2"
      },
      "execution_count": null,
      "outputs": [
        {
          "output_type": "stream",
          "name": "stdout",
          "text": [
            "==============================score=1==============================\n",
            "idx=8\n",
            "keywords=['cat', 'pet', 'couch']\n",
            "true sentense=['<s>', 'A', 'pet', 'cat', 'likes', 'to', 'sleep', 'on', 'a', 'couch', '.', '</s>']\n",
            "predicted sentense=['<s>', 'A', 'cat', 'sleeping', 'on', 'a', 'shelf', '.', '</s>']\n",
            "==============================score=1==============================\n",
            "idx=12\n",
            "keywords=['climb', 'building', 'side']\n",
            "true sentense=['<s>', 'The', 'mouse', 'climbed', 'the', 'side', 'of', 'the', 'building', '.', '</s>']\n",
            "predicted sentense=['<s>', 'The', 'baggage', 'handlers', 'are', 'seen', 'from', 'the', 'building', 'is', 'made', 'up', 'of', 'some', 'lines', '.', '</s>']\n",
            "==============================score=1==============================\n",
            "idx=54\n",
            "keywords=['athlete', 'prepare', 'run']\n",
            "true sentense=['<s>', 'The', 'athlete', 'performs', 'stretches', 'as', 'they', 'prepare', 'to', 'run', '.', '</s>']\n",
            "predicted sentense=['<s>', 'athlete', 'delivers', 'a', 'pitch', 'to', 'the', 'award', 'prior', 'match', '.', '</s>']\n",
            "==============================score=1==============================\n",
            "idx=66\n",
            "keywords=['soap', 'rub', 'hand']\n",
            "true sentense=['<s>', 'A', 'man', '<UNK>', 'his', 'hands', 'with', 'soap', 'after', 'using', 'the', '<UNK>', '.', '</s>']\n",
            "predicted sentense=['<s>', 'With', 'her', 'free', 'hand', ',', 'she', 'grasps', 'along', 'pipe', 'running', 'along', 'the', 'ceiling', ',', 'propelling', 'herself', 'down', 'the', 'hallway', '.', '</s>']\n",
            "==============================score=1==============================\n",
            "idx=96\n",
            "keywords=['space', 'stare', 'sit']\n",
            "true sentense=['<s>', 'The', 'kid', 'wanted', 'to', 'sit', 'in', 'the', 'empty', 'space', 'and', 'stare', 'at', 'the', 'wall', '.', '</s>']\n",
            "predicted sentense=['<s>', 'A', 'man', 'cooks', 'as', 'a', 'man', 'stares', 'off', 'into', 'space', ',', 'a', 'box', 'of', 'butter', 'is', 'in', 'the', 'foreground', '.', '</s>']\n",
            "==============================score=1==============================\n",
            "idx=111\n",
            "keywords=['sit', 'cat', 'floor']\n",
            "true sentense=['<s>', 'The', 'cat', 'is', 'sitting', 'on', 'the', 'floor', '.', '</s>']\n",
            "predicted sentense=['<s>', 'A', 'cat', 'lying', 'on', 'a', 'ledge', 'with', 'a', 'wooden', 'stirrer', 'in', 'it', \"'s\", 'seat', '.', '</s>']\n",
            "==============================score=1==============================\n",
            "idx=138\n",
            "keywords=['slide', 'pool', 'kid']\n",
            "true sentense=['<s>', 'A', 'kid', 'slides', 'into', 'the', 'pool', '.', '</s>']\n",
            "predicted sentense=['<s>', 'A', 'kid', 'is', 'lounging', 'on', 'the', 'shelf', 'behind', 'your', 'bed', '.', '</s>']\n",
            "==============================score=1==============================\n",
            "idx=146\n",
            "keywords=['spray', 'wall', 'graffiti']\n",
            "true sentense=['<s>', 'The', 'teenagers', '<UNK>', 'graffiti', 'on', 'the', 'wall', '.', '</s>']\n",
            "predicted sentense=['<s>', 'a', 'row', 'of', 'geraniums', 'with', 'a', 'carved', 'stone', 'wall', '</s>']\n",
            "==============================score=1==============================\n",
            "idx=149\n",
            "keywords=['street', 'side', 'car']\n",
            "true sentense=['<s>', 'A', 'car', 'was', 'parked', 'on', 'the', 'side', 'of', 'the', 'street', '.', '</s>']\n",
            "predicted sentense=['<s>', 'the', 'street', 'sign', 'indicated', 'the', 'names', 'of', 'the', 'scenes', '</s>']\n",
            "==============================score=1==============================\n",
            "idx=164\n",
            "keywords=['clip', 'hold', 'cat']\n",
            "true sentense=['<s>', 'The', 'cat', 'tried', 'to', 'hold', 'my', 'hand', 'while', 'I', 'tried', 'to', 'clip', 'my', 'nails', '.', '</s>']\n",
            "predicted sentense=['<s>', 'a', 'cat', 'eats', 'a', 'salmon', '</s>']\n",
            "==============================score=1==============================\n",
            "idx=175\n",
            "keywords=['wall', 'paint', 'stand']\n",
            "true sentense=['<s>', '<UNK>', 'not', 'stand', 'too', 'close', 'the', 'the', 'wall', ',', 'it', 'was', 'just', 'painted', '.', '</s>']\n",
            "predicted sentense=['<s>', 'a', 'cat', 'improves', 'the', 'garden', 'wall', 'in', 'sunshine', 'and', 'the', 'hearth', 'in', 'foul', 'weather', '</s>']\n",
            "==============================score=1==============================\n",
            "idx=224\n",
            "keywords=['water', 'boat', 'dock']\n",
            "true sentense=['<s>', 'The', 'boat', 'in', 'the', 'water', 'was', 'docked', 'near', 'the', 'pier', '.', '</s>']\n",
            "predicted sentense=['<s>', 'a', 'fishing', 'boat', 'on', 'the', 'beach', 'in', 'the', 'sea', '</s>']\n",
            "==============================score=1==============================\n",
            "idx=241\n",
            "keywords=['game', 'score', 'player']\n",
            "true sentense=['<s>', 'In', 'a', 'soccer', 'game', 'players', 'score', 'goal', '</s>']\n",
            "predicted sentense=['<s>', 'cricket', 'player', 'pays', 'an', 'emotional', 'visit', 'to', 'meet', 'and', 'play', 'sport', 'with', 'children', 'from', 'the', 'slums', 'supported', 'project', '.', '</s>']\n",
            "==============================score=1==============================\n",
            "idx=245\n",
            "keywords=['street', 'cross', 'watch']\n",
            "true sentense=['<s>', 'A', 'girl', 'kept', 'watch', 'when', 'she', 'crossed', 'the', 'street', '.', '</s>']\n",
            "predicted sentense=['<s>', 'a', 'boat', 'enters', 'bay', '...', 'love', 'to', 'go', 'up', 'on', 'a', 'cobbled', 'street', '</s>']\n",
            "==============================score=1==============================\n",
            "idx=376\n",
            "keywords=['view', 'ocean', 'boat']\n",
            "true sentense=['<s>', 'There', 'is', 'a', 'beautiful', 'view', 'of', 'the', 'ocean', 'from', 'a', 'boat', '.', '</s>']\n",
            "predicted sentense=['<s>', 'a', 'view', 'of', 'the', 'sea', 'with', 'breaking', 'waves', 'at', 'the', 'end', 'of', 'the', 'group', 'stage', '</s>']\n",
            "==============================score=1==============================\n",
            "idx=391\n",
            "keywords=['door', 'hand', 'open']\n",
            "true sentense=['<s>', 'The', 'man', 'reached', 'out', 'his', 'hand', 'to', 'open', 'the', 'door', '</s>']\n",
            "predicted sentense=['<s>', 'hand', 'rotating', 'a', 'lovely', 'sculptural', 'element', 'to', 'the', 'fall', '</s>']\n",
            "==============================score=1==============================\n",
            "idx=420\n",
            "keywords=['run', 'race', 'cheer']\n",
            "true sentense=['<s>', '<UNK>', 'the', 'number', 'one', 'racer', 'to', 'race', 'and', 'run', 'faster', '</s>']\n",
            "predicted sentense=['<s>', 'Contestants', 'in', 'a', '5k', 'race', 'begin', 'to', 'win', 'the', 'race', '.', '</s>']\n",
            "==============================score=1==============================\n",
            "idx=473\n",
            "keywords=['eat', 'room', 'food']\n",
            "true sentense=['<s>', 'The', 'family', 'went', 'to', 'the', 'dining', 'room', 'to', 'eat', 'their', 'food', '.', '</s>']\n",
            "predicted sentense=['<s>', 'A', 'tray', 'of', 'food', 'with', 'broccoli', ',', 'lettuce', ',', 'broccoli', ',', 'and', 'carrots', 'on', 'it', '.', '</s>']\n"
          ]
        }
      ]
    },
    {
      "cell_type": "markdown",
      "source": [
        "## 問題2\n",
        "---\n",
        "RNN を使用するときの注意点(RNNの欠点)について調べてください．"
      ],
      "metadata": {
        "id": "Br1VFCH3JyDY"
      }
    },
    {
      "cell_type": "markdown",
      "source": [
        "## 問題3\n",
        "---\n",
        "今回の RNN はスタックなし，短方向です．RNN Cell をスタックさせる, 双方向(どちらか，またはどちらも)を実装してみてください．"
      ],
      "metadata": {
        "id": "lqJywrI8gLFd"
      }
    },
    {
      "cell_type": "code",
      "source": [],
      "metadata": {
        "id": "TbLVldhCJ684"
      },
      "execution_count": null,
      "outputs": []
    }
  ]
}