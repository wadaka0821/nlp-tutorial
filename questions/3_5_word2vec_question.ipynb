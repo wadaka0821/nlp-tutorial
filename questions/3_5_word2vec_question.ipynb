{
  "nbformat": 4,
  "nbformat_minor": 0,
  "metadata": {
    "colab": {
      "provenance": [],
      "authorship_tag": "ABX9TyOJD/E40389T+6tnMX4iU+j",
      "include_colab_link": true
    },
    "kernelspec": {
      "name": "python3",
      "display_name": "Python 3"
    },
    "language_info": {
      "name": "python"
    },
    "widgets": {
      "application/vnd.jupyter.widget-state+json": {
        "de497e5772814b51b5c86c96f55da57d": {
          "model_module": "@jupyter-widgets/controls",
          "model_name": "HBoxModel",
          "model_module_version": "1.5.0",
          "state": {
            "_dom_classes": [],
            "_model_module": "@jupyter-widgets/controls",
            "_model_module_version": "1.5.0",
            "_model_name": "HBoxModel",
            "_view_count": null,
            "_view_module": "@jupyter-widgets/controls",
            "_view_module_version": "1.5.0",
            "_view_name": "HBoxView",
            "box_style": "",
            "children": [
              "IPY_MODEL_bd58ed684e2849099eaf6cd678fd1894",
              "IPY_MODEL_a892ad02a74f4d28ad5fcb2bc8c64c98",
              "IPY_MODEL_39a997d7a2214331bcb1eed130c0eadb"
            ],
            "layout": "IPY_MODEL_a2bf64405e79430eb863e5136e9b4379"
          }
        },
        "bd58ed684e2849099eaf6cd678fd1894": {
          "model_module": "@jupyter-widgets/controls",
          "model_name": "HTMLModel",
          "model_module_version": "1.5.0",
          "state": {
            "_dom_classes": [],
            "_model_module": "@jupyter-widgets/controls",
            "_model_module_version": "1.5.0",
            "_model_name": "HTMLModel",
            "_view_count": null,
            "_view_module": "@jupyter-widgets/controls",
            "_view_module_version": "1.5.0",
            "_view_name": "HTMLView",
            "description": "",
            "description_tooltip": null,
            "layout": "IPY_MODEL_6aa7c2f0b8354805be353b14ce81779d",
            "placeholder": "​",
            "style": "IPY_MODEL_1e313014f0b14441b06516aa19359795",
            "value": "100%"
          }
        },
        "a892ad02a74f4d28ad5fcb2bc8c64c98": {
          "model_module": "@jupyter-widgets/controls",
          "model_name": "FloatProgressModel",
          "model_module_version": "1.5.0",
          "state": {
            "_dom_classes": [],
            "_model_module": "@jupyter-widgets/controls",
            "_model_module_version": "1.5.0",
            "_model_name": "FloatProgressModel",
            "_view_count": null,
            "_view_module": "@jupyter-widgets/controls",
            "_view_module_version": "1.5.0",
            "_view_name": "ProgressView",
            "bar_style": "success",
            "description": "",
            "description_tooltip": null,
            "layout": "IPY_MODEL_fc7a508131b242a1bee1766fee449ab2",
            "max": 1,
            "min": 0,
            "orientation": "horizontal",
            "style": "IPY_MODEL_9ca1a5fe128d4b649e27a6ef873f9141",
            "value": 1
          }
        },
        "39a997d7a2214331bcb1eed130c0eadb": {
          "model_module": "@jupyter-widgets/controls",
          "model_name": "HTMLModel",
          "model_module_version": "1.5.0",
          "state": {
            "_dom_classes": [],
            "_model_module": "@jupyter-widgets/controls",
            "_model_module_version": "1.5.0",
            "_model_name": "HTMLModel",
            "_view_count": null,
            "_view_module": "@jupyter-widgets/controls",
            "_view_module_version": "1.5.0",
            "_view_name": "HTMLView",
            "description": "",
            "description_tooltip": null,
            "layout": "IPY_MODEL_71b1df5cfd31424ca589e112b2f26ba3",
            "placeholder": "​",
            "style": "IPY_MODEL_eb2da1165953442e8da394dc9f708f0d",
            "value": " 1/1 [00:00&lt;00:00, 22.05it/s]"
          }
        },
        "a2bf64405e79430eb863e5136e9b4379": {
          "model_module": "@jupyter-widgets/base",
          "model_name": "LayoutModel",
          "model_module_version": "1.2.0",
          "state": {
            "_model_module": "@jupyter-widgets/base",
            "_model_module_version": "1.2.0",
            "_model_name": "LayoutModel",
            "_view_count": null,
            "_view_module": "@jupyter-widgets/base",
            "_view_module_version": "1.2.0",
            "_view_name": "LayoutView",
            "align_content": null,
            "align_items": null,
            "align_self": null,
            "border": null,
            "bottom": null,
            "display": null,
            "flex": null,
            "flex_flow": null,
            "grid_area": null,
            "grid_auto_columns": null,
            "grid_auto_flow": null,
            "grid_auto_rows": null,
            "grid_column": null,
            "grid_gap": null,
            "grid_row": null,
            "grid_template_areas": null,
            "grid_template_columns": null,
            "grid_template_rows": null,
            "height": null,
            "justify_content": null,
            "justify_items": null,
            "left": null,
            "margin": null,
            "max_height": null,
            "max_width": null,
            "min_height": null,
            "min_width": null,
            "object_fit": null,
            "object_position": null,
            "order": null,
            "overflow": null,
            "overflow_x": null,
            "overflow_y": null,
            "padding": null,
            "right": null,
            "top": null,
            "visibility": null,
            "width": null
          }
        },
        "6aa7c2f0b8354805be353b14ce81779d": {
          "model_module": "@jupyter-widgets/base",
          "model_name": "LayoutModel",
          "model_module_version": "1.2.0",
          "state": {
            "_model_module": "@jupyter-widgets/base",
            "_model_module_version": "1.2.0",
            "_model_name": "LayoutModel",
            "_view_count": null,
            "_view_module": "@jupyter-widgets/base",
            "_view_module_version": "1.2.0",
            "_view_name": "LayoutView",
            "align_content": null,
            "align_items": null,
            "align_self": null,
            "border": null,
            "bottom": null,
            "display": null,
            "flex": null,
            "flex_flow": null,
            "grid_area": null,
            "grid_auto_columns": null,
            "grid_auto_flow": null,
            "grid_auto_rows": null,
            "grid_column": null,
            "grid_gap": null,
            "grid_row": null,
            "grid_template_areas": null,
            "grid_template_columns": null,
            "grid_template_rows": null,
            "height": null,
            "justify_content": null,
            "justify_items": null,
            "left": null,
            "margin": null,
            "max_height": null,
            "max_width": null,
            "min_height": null,
            "min_width": null,
            "object_fit": null,
            "object_position": null,
            "order": null,
            "overflow": null,
            "overflow_x": null,
            "overflow_y": null,
            "padding": null,
            "right": null,
            "top": null,
            "visibility": null,
            "width": null
          }
        },
        "1e313014f0b14441b06516aa19359795": {
          "model_module": "@jupyter-widgets/controls",
          "model_name": "DescriptionStyleModel",
          "model_module_version": "1.5.0",
          "state": {
            "_model_module": "@jupyter-widgets/controls",
            "_model_module_version": "1.5.0",
            "_model_name": "DescriptionStyleModel",
            "_view_count": null,
            "_view_module": "@jupyter-widgets/base",
            "_view_module_version": "1.2.0",
            "_view_name": "StyleView",
            "description_width": ""
          }
        },
        "fc7a508131b242a1bee1766fee449ab2": {
          "model_module": "@jupyter-widgets/base",
          "model_name": "LayoutModel",
          "model_module_version": "1.2.0",
          "state": {
            "_model_module": "@jupyter-widgets/base",
            "_model_module_version": "1.2.0",
            "_model_name": "LayoutModel",
            "_view_count": null,
            "_view_module": "@jupyter-widgets/base",
            "_view_module_version": "1.2.0",
            "_view_name": "LayoutView",
            "align_content": null,
            "align_items": null,
            "align_self": null,
            "border": null,
            "bottom": null,
            "display": null,
            "flex": null,
            "flex_flow": null,
            "grid_area": null,
            "grid_auto_columns": null,
            "grid_auto_flow": null,
            "grid_auto_rows": null,
            "grid_column": null,
            "grid_gap": null,
            "grid_row": null,
            "grid_template_areas": null,
            "grid_template_columns": null,
            "grid_template_rows": null,
            "height": null,
            "justify_content": null,
            "justify_items": null,
            "left": null,
            "margin": null,
            "max_height": null,
            "max_width": null,
            "min_height": null,
            "min_width": null,
            "object_fit": null,
            "object_position": null,
            "order": null,
            "overflow": null,
            "overflow_x": null,
            "overflow_y": null,
            "padding": null,
            "right": null,
            "top": null,
            "visibility": null,
            "width": null
          }
        },
        "9ca1a5fe128d4b649e27a6ef873f9141": {
          "model_module": "@jupyter-widgets/controls",
          "model_name": "ProgressStyleModel",
          "model_module_version": "1.5.0",
          "state": {
            "_model_module": "@jupyter-widgets/controls",
            "_model_module_version": "1.5.0",
            "_model_name": "ProgressStyleModel",
            "_view_count": null,
            "_view_module": "@jupyter-widgets/base",
            "_view_module_version": "1.2.0",
            "_view_name": "StyleView",
            "bar_color": null,
            "description_width": ""
          }
        },
        "71b1df5cfd31424ca589e112b2f26ba3": {
          "model_module": "@jupyter-widgets/base",
          "model_name": "LayoutModel",
          "model_module_version": "1.2.0",
          "state": {
            "_model_module": "@jupyter-widgets/base",
            "_model_module_version": "1.2.0",
            "_model_name": "LayoutModel",
            "_view_count": null,
            "_view_module": "@jupyter-widgets/base",
            "_view_module_version": "1.2.0",
            "_view_name": "LayoutView",
            "align_content": null,
            "align_items": null,
            "align_self": null,
            "border": null,
            "bottom": null,
            "display": null,
            "flex": null,
            "flex_flow": null,
            "grid_area": null,
            "grid_auto_columns": null,
            "grid_auto_flow": null,
            "grid_auto_rows": null,
            "grid_column": null,
            "grid_gap": null,
            "grid_row": null,
            "grid_template_areas": null,
            "grid_template_columns": null,
            "grid_template_rows": null,
            "height": null,
            "justify_content": null,
            "justify_items": null,
            "left": null,
            "margin": null,
            "max_height": null,
            "max_width": null,
            "min_height": null,
            "min_width": null,
            "object_fit": null,
            "object_position": null,
            "order": null,
            "overflow": null,
            "overflow_x": null,
            "overflow_y": null,
            "padding": null,
            "right": null,
            "top": null,
            "visibility": null,
            "width": null
          }
        },
        "eb2da1165953442e8da394dc9f708f0d": {
          "model_module": "@jupyter-widgets/controls",
          "model_name": "DescriptionStyleModel",
          "model_module_version": "1.5.0",
          "state": {
            "_model_module": "@jupyter-widgets/controls",
            "_model_module_version": "1.5.0",
            "_model_name": "DescriptionStyleModel",
            "_view_count": null,
            "_view_module": "@jupyter-widgets/base",
            "_view_module_version": "1.2.0",
            "_view_name": "StyleView",
            "description_width": ""
          }
        }
      }
    }
  },
  "cells": [
    {
      "cell_type": "markdown",
      "metadata": {
        "id": "view-in-github",
        "colab_type": "text"
      },
      "source": [
        "<a href=\"https://colab.research.google.com/github/wadaka0821/nlp-tutorial/blob/main/questions/3_5_word2vec_question.ipynb\" target=\"_parent\"><img src=\"https://colab.research.google.com/assets/colab-badge.svg\" alt=\"Open In Colab\"/></a>"
      ]
    },
    {
      "cell_type": "markdown",
      "source": [
        "# Word2Vec を使って分散表現を学習してみる"
      ],
      "metadata": {
        "id": "IkSHvUUpkYnA"
      }
    },
    {
      "cell_type": "code",
      "execution_count": null,
      "metadata": {
        "colab": {
          "base_uri": "https://localhost:8080/"
        },
        "id": "7tK_2tHsXpuT",
        "outputId": "e2e4df4a-e9c3-4c34-9d20-a901117d632e"
      },
      "outputs": [
        {
          "output_type": "stream",
          "name": "stdout",
          "text": [
            "Looking in indexes: https://pypi.org/simple, https://us-python.pkg.dev/colab-wheels/public/simple/\n",
            "Requirement already satisfied: datasets in /usr/local/lib/python3.8/dist-packages (2.10.0)\n",
            "Requirement already satisfied: huggingface-hub<1.0.0,>=0.2.0 in /usr/local/lib/python3.8/dist-packages (from datasets) (0.12.1)\n",
            "Requirement already satisfied: dill<0.3.7,>=0.3.0 in /usr/local/lib/python3.8/dist-packages (from datasets) (0.3.6)\n",
            "Requirement already satisfied: responses<0.19 in /usr/local/lib/python3.8/dist-packages (from datasets) (0.18.0)\n",
            "Requirement already satisfied: xxhash in /usr/local/lib/python3.8/dist-packages (from datasets) (3.2.0)\n",
            "Requirement already satisfied: pyarrow>=6.0.0 in /usr/local/lib/python3.8/dist-packages (from datasets) (9.0.0)\n",
            "Requirement already satisfied: packaging in /usr/local/lib/python3.8/dist-packages (from datasets) (23.0)\n",
            "Requirement already satisfied: tqdm>=4.62.1 in /usr/local/lib/python3.8/dist-packages (from datasets) (4.64.1)\n",
            "Requirement already satisfied: multiprocess in /usr/local/lib/python3.8/dist-packages (from datasets) (0.70.14)\n",
            "Requirement already satisfied: aiohttp in /usr/local/lib/python3.8/dist-packages (from datasets) (3.8.4)\n",
            "Requirement already satisfied: fsspec[http]>=2021.11.1 in /usr/local/lib/python3.8/dist-packages (from datasets) (2023.1.0)\n",
            "Requirement already satisfied: pandas in /usr/local/lib/python3.8/dist-packages (from datasets) (1.3.5)\n",
            "Requirement already satisfied: requests>=2.19.0 in /usr/local/lib/python3.8/dist-packages (from datasets) (2.25.1)\n",
            "Requirement already satisfied: numpy>=1.17 in /usr/local/lib/python3.8/dist-packages (from datasets) (1.22.4)\n",
            "Requirement already satisfied: pyyaml>=5.1 in /usr/local/lib/python3.8/dist-packages (from datasets) (6.0)\n",
            "Requirement already satisfied: attrs>=17.3.0 in /usr/local/lib/python3.8/dist-packages (from aiohttp->datasets) (22.2.0)\n",
            "Requirement already satisfied: frozenlist>=1.1.1 in /usr/local/lib/python3.8/dist-packages (from aiohttp->datasets) (1.3.3)\n",
            "Requirement already satisfied: multidict<7.0,>=4.5 in /usr/local/lib/python3.8/dist-packages (from aiohttp->datasets) (6.0.4)\n",
            "Requirement already satisfied: aiosignal>=1.1.2 in /usr/local/lib/python3.8/dist-packages (from aiohttp->datasets) (1.3.1)\n",
            "Requirement already satisfied: yarl<2.0,>=1.0 in /usr/local/lib/python3.8/dist-packages (from aiohttp->datasets) (1.8.2)\n",
            "Requirement already satisfied: charset-normalizer<4.0,>=2.0 in /usr/local/lib/python3.8/dist-packages (from aiohttp->datasets) (3.0.1)\n",
            "Requirement already satisfied: async-timeout<5.0,>=4.0.0a3 in /usr/local/lib/python3.8/dist-packages (from aiohttp->datasets) (4.0.2)\n",
            "Requirement already satisfied: typing-extensions>=3.7.4.3 in /usr/local/lib/python3.8/dist-packages (from huggingface-hub<1.0.0,>=0.2.0->datasets) (4.5.0)\n",
            "Requirement already satisfied: filelock in /usr/local/lib/python3.8/dist-packages (from huggingface-hub<1.0.0,>=0.2.0->datasets) (3.9.0)\n",
            "Requirement already satisfied: urllib3<1.27,>=1.21.1 in /usr/local/lib/python3.8/dist-packages (from requests>=2.19.0->datasets) (1.26.14)\n",
            "Requirement already satisfied: chardet<5,>=3.0.2 in /usr/local/lib/python3.8/dist-packages (from requests>=2.19.0->datasets) (4.0.0)\n",
            "Requirement already satisfied: certifi>=2017.4.17 in /usr/local/lib/python3.8/dist-packages (from requests>=2.19.0->datasets) (2022.12.7)\n",
            "Requirement already satisfied: idna<3,>=2.5 in /usr/local/lib/python3.8/dist-packages (from requests>=2.19.0->datasets) (2.10)\n",
            "Requirement already satisfied: pytz>=2017.3 in /usr/local/lib/python3.8/dist-packages (from pandas->datasets) (2022.7.1)\n",
            "Requirement already satisfied: python-dateutil>=2.7.3 in /usr/local/lib/python3.8/dist-packages (from pandas->datasets) (2.8.2)\n",
            "Requirement already satisfied: six>=1.5 in /usr/local/lib/python3.8/dist-packages (from python-dateutil>=2.7.3->pandas->datasets) (1.15.0)\n",
            "Looking in indexes: https://pypi.org/simple, https://us-python.pkg.dev/colab-wheels/public/simple/\n",
            "Requirement already satisfied: gensim in /usr/local/lib/python3.8/dist-packages (3.6.0)\n",
            "Requirement already satisfied: numpy>=1.11.3 in /usr/local/lib/python3.8/dist-packages (from gensim) (1.22.4)\n",
            "Requirement already satisfied: scipy>=0.18.1 in /usr/local/lib/python3.8/dist-packages (from gensim) (1.7.3)\n",
            "Requirement already satisfied: smart-open>=1.2.1 in /usr/local/lib/python3.8/dist-packages (from gensim) (6.3.0)\n",
            "Requirement already satisfied: six>=1.5.0 in /usr/local/lib/python3.8/dist-packages (from gensim) (1.15.0)\n"
          ]
        }
      ],
      "source": [
        "!pip install datasets\n",
        "!pip install gensim"
      ]
    },
    {
      "cell_type": "code",
      "source": [
        "from datasets import load_dataset\n",
        "import nltk\n",
        "import gensim\n",
        "nltk.download('punkt')\n",
        "\n",
        "seed = 42\n",
        "\n",
        "dataset = load_dataset(\"ACL-OCL/acl-anthology-corpus\")"
      ],
      "metadata": {
        "colab": {
          "base_uri": "https://localhost:8080/",
          "height": 103,
          "referenced_widgets": [
            "de497e5772814b51b5c86c96f55da57d",
            "bd58ed684e2849099eaf6cd678fd1894",
            "a892ad02a74f4d28ad5fcb2bc8c64c98",
            "39a997d7a2214331bcb1eed130c0eadb",
            "a2bf64405e79430eb863e5136e9b4379",
            "6aa7c2f0b8354805be353b14ce81779d",
            "1e313014f0b14441b06516aa19359795",
            "fc7a508131b242a1bee1766fee449ab2",
            "9ca1a5fe128d4b649e27a6ef873f9141",
            "71b1df5cfd31424ca589e112b2f26ba3",
            "eb2da1165953442e8da394dc9f708f0d"
          ]
        },
        "id": "5x3GZD1Nba-m",
        "outputId": "184e0e3a-1ba7-4dd5-b019-b4336c92c627"
      },
      "execution_count": null,
      "outputs": [
        {
          "output_type": "stream",
          "name": "stderr",
          "text": [
            "[nltk_data] Downloading package punkt to /root/nltk_data...\n",
            "[nltk_data]   Package punkt is already up-to-date!\n",
            "WARNING:datasets.builder:Found cached dataset parquet (/root/.cache/huggingface/datasets/ACL-OCL___parquet/ACL-OCL--acl-anthology-corpus-850594295bb268da/0.0.0/2a3b91fbd88a2c90d1dbbb32b460cf621d31bd5b05b934492fdef7d8d6f236ec)\n"
          ]
        },
        {
          "output_type": "display_data",
          "data": {
            "text/plain": [
              "  0%|          | 0/1 [00:00<?, ?it/s]"
            ],
            "application/vnd.jupyter.widget-view+json": {
              "version_major": 2,
              "version_minor": 0,
              "model_id": "de497e5772814b51b5c86c96f55da57d"
            }
          },
          "metadata": {}
        }
      ]
    },
    {
      "cell_type": "code",
      "source": [
        "# アブストだけ取り出す\n",
        "abstracts = [dataset['train'][i]['abstract'] for i in range(len(dataset['train']))]\n",
        "# 単語分割\n",
        "abstracts_tokenized = [nltk.word_tokenize(abst.lower()) for abst in abstracts if abst]"
      ],
      "metadata": {
        "id": "TRnbEGn4bwTh"
      },
      "execution_count": null,
      "outputs": []
    },
    {
      "cell_type": "code",
      "source": [
        "# CBOW:0, Skip-gram:1\n",
        "model = gensim.models.word2vec.Word2Vec(abstracts_tokenized, size=100, window=5, seed=seed, sg=1)"
      ],
      "metadata": {
        "id": "vZjFTbEAeddL"
      },
      "execution_count": null,
      "outputs": []
    },
    {
      "cell_type": "code",
      "source": [
        "model.wv.vectors.shape"
      ],
      "metadata": {
        "colab": {
          "base_uri": "https://localhost:8080/"
        },
        "id": "s0Y7viDlf-fJ",
        "outputId": "98c9539a-2c61-48f9-87bc-791cfac965f8"
      },
      "execution_count": null,
      "outputs": [
        {
          "output_type": "execute_result",
          "data": {
            "text/plain": [
              "(31142, 100)"
            ]
          },
          "metadata": {},
          "execution_count": 5
        }
      ]
    },
    {
      "cell_type": "markdown",
      "source": [
        " # 分散表現を使ってみる"
      ],
      "metadata": {
        "id": "s03Xm2STgyF4"
      }
    },
    {
      "cell_type": "code",
      "source": [
        "model.wv.most_similar(positive=['pytorch'])"
      ],
      "metadata": {
        "colab": {
          "base_uri": "https://localhost:8080/"
        },
        "id": "bbj95-ePnkiU",
        "outputId": "08501958-9fbc-4897-f660-855a0c21e9cf"
      },
      "execution_count": null,
      "outputs": [
        {
          "output_type": "execute_result",
          "data": {
            "text/plain": [
              "[('tensorflow', 0.8910528421401978),\n",
              " ('sockeye', 0.7975236177444458),\n",
              " ('tensor2tensor', 0.7924074530601501),\n",
              " ('huggingface', 0.7872991561889648),\n",
              " ('fasthan', 0.7814316749572754),\n",
              " ('opennmt', 0.7688520550727844),\n",
              " ('opendial', 0.7673929333686829),\n",
              " ('allennlp', 0.7662742733955383),\n",
              " ('soa', 0.7642906904220581),\n",
              " ('toolkits', 0.7589478492736816)]"
            ]
          },
          "metadata": {},
          "execution_count": 6
        }
      ]
    },
    {
      "cell_type": "code",
      "source": [
        "model.wv.most_similar('generation')"
      ],
      "metadata": {
        "colab": {
          "base_uri": "https://localhost:8080/"
        },
        "id": "_KdawZm5oMJ3",
        "outputId": "000a20f4-b020-4911-ddae-b70ebfa1d0e4"
      },
      "execution_count": null,
      "outputs": [
        {
          "output_type": "execute_result",
          "data": {
            "text/plain": [
              "[('generator', 0.7199503183364868),\n",
              " ('graph-to-text', 0.7176738977432251),\n",
              " ('controllable', 0.7165037393569946),\n",
              " ('data-to-text', 0.7153257131576538),\n",
              " ('lyric', 0.7152193188667297),\n",
              " ('concept-to-text', 0.7050998210906982),\n",
              " ('datato-text', 0.7002928853034973),\n",
              " ('infilling', 0.6993923187255859),\n",
              " ('data-totext', 0.6926992535591125),\n",
              " ('multi-round', 0.6896508932113647)]"
            ]
          },
          "metadata": {},
          "execution_count": 7
        }
      ]
    },
    {
      "cell_type": "code",
      "source": [
        "model.wv.most_similar('supervised')"
      ],
      "metadata": {
        "colab": {
          "base_uri": "https://localhost:8080/"
        },
        "id": "5zhn5Hx6nCH0",
        "outputId": "bde60550-c3eb-4b89-9ccd-e7e5287b0328"
      },
      "execution_count": null,
      "outputs": [
        {
          "output_type": "execute_result",
          "data": {
            "text/plain": [
              "[('semi-supervised', 0.822796642780304),\n",
              " ('lightly', 0.789624810218811),\n",
              " ('unsupervised', 0.7633551955223083),\n",
              " ('weaklysupervised', 0.7631798982620239),\n",
              " ('semisupervised', 0.7614290714263916),\n",
              " ('distantly', 0.7483733296394348),\n",
              " ('weakly-supervised', 0.7467080354690552),\n",
              " ('distantly-supervised', 0.7452856302261353),\n",
              " ('fully-supervised', 0.7378839254379272),\n",
              " ('weakly', 0.7285276055335999)]"
            ]
          },
          "metadata": {},
          "execution_count": 8
        }
      ]
    },
    {
      "cell_type": "code",
      "source": [
        "model.wv.most_similar('rnn')"
      ],
      "metadata": {
        "colab": {
          "base_uri": "https://localhost:8080/"
        },
        "id": "oLBxOGn8hBWu",
        "outputId": "f6ede117-d847-44e1-ccd0-e4eadfb70189"
      },
      "execution_count": null,
      "outputs": [
        {
          "output_type": "execute_result",
          "data": {
            "text/plain": [
              "[('lstm', 0.8546769022941589),\n",
              " ('recurrent', 0.8355414271354675),\n",
              " ('gru', 0.8175690174102783),\n",
              " ('lstm-based', 0.782768726348877),\n",
              " ('transformer', 0.774260401725769),\n",
              " ('lrn', 0.7730235457420349),\n",
              " ('bilstm', 0.7727881073951721),\n",
              " ('feed-forward', 0.7693912386894226),\n",
              " ('bilstms', 0.768124520778656),\n",
              " ('self-attentive', 0.7655966281890869)]"
            ]
          },
          "metadata": {},
          "execution_count": 9
        }
      ]
    },
    {
      "cell_type": "code",
      "source": [
        "model.wv.most_similar('movie')"
      ],
      "metadata": {
        "colab": {
          "base_uri": "https://localhost:8080/"
        },
        "id": "ymagN001ji6k",
        "outputId": "baaae190-94dc-4637-b6eb-e81770c378a2"
      },
      "execution_count": null,
      "outputs": [
        {
          "output_type": "execute_result",
          "data": {
            "text/plain": [
              "[('imdb', 0.7453122735023499),\n",
              " ('hotel', 0.7329555749893188),\n",
              " ('synopses', 0.7246863842010498),\n",
              " ('restaurant', 0.7226597666740417),\n",
              " ('hotels', 0.7176419496536255),\n",
              " ('movies', 0.7162580490112305),\n",
              " ('podcast', 0.7027246952056885),\n",
              " ('rotten', 0.7026669979095459),\n",
              " ('yelp', 0.7025178074836731),\n",
              " ('reservation', 0.6888513565063477)]"
            ]
          },
          "metadata": {},
          "execution_count": 10
        }
      ]
    },
    {
      "cell_type": "code",
      "source": [
        "model.wv.most_similar('sentiment')"
      ],
      "metadata": {
        "colab": {
          "base_uri": "https://localhost:8080/"
        },
        "id": "n2VCStiGgjfj",
        "outputId": "26ce55f1-6d84-4e6d-d1d2-b7c29344925b"
      },
      "execution_count": null,
      "outputs": [
        {
          "output_type": "execute_result",
          "data": {
            "text/plain": [
              "[('polarity', 0.8630881309509277),\n",
              " ('aspect-category', 0.8002216219902039),\n",
              " ('aspect-level', 0.7968421578407288),\n",
              " ('aspect-based', 0.7959100604057312),\n",
              " ('target-dependent', 0.7881436944007874),\n",
              " ('subjectivity', 0.7761756181716919),\n",
              " ('opinion', 0.7596176862716675),\n",
              " ('aspectbased', 0.7589598298072815),\n",
              " ('multi-aspect', 0.745111882686615),\n",
              " ('aspectlevel', 0.7416306138038635)]"
            ]
          },
          "metadata": {},
          "execution_count": 11
        }
      ]
    },
    {
      "cell_type": "code",
      "source": [
        "model.wv.most_similar('corpus')"
      ],
      "metadata": {
        "colab": {
          "base_uri": "https://localhost:8080/"
        },
        "id": "j_4p1_XTg2AX",
        "outputId": "88d4a081-b5c5-4996-be85-f58e5d55da1a"
      },
      "execution_count": null,
      "outputs": [
        {
          "output_type": "execute_result",
          "data": {
            "text/plain": [
              "[('corpora', 0.743595540523529),\n",
              " ('subcorpus', 0.7178256511688232),\n",
              " ('collection', 0.6810144186019897),\n",
              " ('srcmf', 0.6712679862976074),\n",
              " ('sub-corpus', 0.6642714738845825),\n",
              " ('treebank', 0.6488476991653442),\n",
              " ('hansard', 0.6455675363540649),\n",
              " ('sinorama', 0.6404972076416016),\n",
              " ('semcor', 0.6375545263290405),\n",
              " ('l1-l2', 0.6342868804931641)]"
            ]
          },
          "metadata": {},
          "execution_count": 12
        }
      ]
    },
    {
      "cell_type": "markdown",
      "source": [
        "## 問題1\n",
        "---\n",
        "上の例では入力した単語と最も類似度が高い単語を出力しています．これ以外にも分散表現を使用すれば，単語同士の意味の足し引きを行うことも出来ます．実際に，適当な単語について足し算と引き算をしたときに，結果がどうなるか確かめてみてください．"
      ],
      "metadata": {
        "id": "UCCvblVc91jI"
      }
    },
    {
      "cell_type": "markdown",
      "source": [
        "## 問題2\n",
        "---\n",
        "word2vec のモデルに未知語を入力した場合はどうなりますか？\n",
        "また，未知語に対応する方法について調べて，実際に使用してみてください．"
      ],
      "metadata": {
        "id": "m_TMSpU5_bB3"
      }
    },
    {
      "cell_type": "markdown",
      "source": [
        "# 問題3\n",
        "---\n",
        "1) word2vec は単語分散表現を得るためのものです．では，文章の分散表現を得るためにはどうしたらよいでしょうか？word2vec を使用するものも，使用しないものもありますが，できればどちらも調べてください．   \n",
        "2) 1)で調べた文章の分散表現を得るための方法(word2vecを使用するもの)を実装して，使用してみてください．"
      ],
      "metadata": {
        "id": "svC4hWAdRlNo"
      }
    },
    {
      "cell_type": "code",
      "source": [],
      "metadata": {
        "id": "xlnNrZBOmHBl"
      },
      "execution_count": null,
      "outputs": []
    }
  ]
}